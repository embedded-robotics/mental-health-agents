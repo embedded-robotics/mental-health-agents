{
 "cells": [
  {
   "cell_type": "code",
   "execution_count": 1,
   "metadata": {},
   "outputs": [
    {
     "name": "stderr",
     "output_type": "stream",
     "text": [
      "/data/mn27889/miniconda3/envs/mental-health-agents/lib/python3.12/site-packages/tqdm/auto.py:21: TqdmWarning: IProgress not found. Please update jupyter and ipywidgets. See https://ipywidgets.readthedocs.io/en/stable/user_install.html\n",
      "  from .autonotebook import tqdm as notebook_tqdm\n"
     ]
    },
    {
     "name": "stdout",
     "output_type": "stream",
     "text": [
      "path is  /data/mn27889/mental-health-agents/src/sdoh_analysis/helpers/../models/setfit-mental-health-topic-prediction/setfit-small-research-topic-prediction/content/setfit-small-research-topic-prediction\n",
      "True\n"
     ]
    },
    {
     "name": "stderr",
     "output_type": "stream",
     "text": [
      "/data/mn27889/miniconda3/envs/mental-health-agents/lib/python3.12/site-packages/torch/cuda/__init__.py:118: UserWarning: CUDA initialization: The NVIDIA driver on your system is too old (found version 11040). Please update your GPU driver by downloading and installing a new version from the URL: http://www.nvidia.com/Download/index.aspx Alternatively, go to: https://pytorch.org to install a PyTorch version that has been compiled with your version of the CUDA driver. (Triggered internally at ../c10/cuda/CUDAFunctions.cpp:108.)\n",
      "  return torch._C._cuda_getDeviceCount() > 0\n",
      "/data/mn27889/miniconda3/envs/mental-health-agents/lib/python3.12/site-packages/sklearn/base.py:376: InconsistentVersionWarning: Trying to unpickle estimator LogisticRegression from version 1.2.2 when using version 1.4.2. This might lead to breaking code or invalid results. Use at your own risk. For more info please refer to:\n",
      "https://scikit-learn.org/stable/model_persistence.html#security-maintainability-limitations\n",
      "  warnings.warn(\n"
     ]
    },
    {
     "name": "stdout",
     "output_type": "stream",
     "text": [
      "encoding database\n"
     ]
    },
    {
     "name": "stderr",
     "output_type": "stream",
     "text": [
      "2775it [00:00, 437892.91it/s]\n"
     ]
    },
    {
     "name": "stdout",
     "output_type": "stream",
     "text": [
      "got 2511 of 2749 others out bc of size\n"
     ]
    },
    {
     "name": "stderr",
     "output_type": "stream",
     "text": [
      "100%|██████████| 883/883 [00:00<00:00, 294284.50it/s]"
     ]
    },
    {
     "name": "stdout",
     "output_type": "stream",
     "text": [
      "encodnig databsae - this can take a while - TODO - cache this\n"
     ]
    },
    {
     "name": "stderr",
     "output_type": "stream",
     "text": [
      "\n"
     ]
    },
    {
     "name": "stdout",
     "output_type": "stream",
     "text": [
      "db encoded\n"
     ]
    }
   ],
   "source": [
    "from task import *"
   ]
  },
  {
   "cell_type": "code",
   "execution_count": 19,
   "metadata": {},
   "outputs": [],
   "source": [
    "import re"
   ]
  },
  {
   "cell_type": "code",
   "execution_count": 20,
   "metadata": {},
   "outputs": [
    {
     "name": "stderr",
     "output_type": "stream",
     "text": [
      "Repo card metadata block was not found. Setting CardData to empty.\n"
     ]
    }
   ],
   "source": [
    "task = MentalHealthTask()"
   ]
  },
  {
   "cell_type": "code",
   "execution_count": 21,
   "metadata": {},
   "outputs": [],
   "source": [
    "ProfoundExpression_id = 3\n",
    "Specialist_Minimum_9_id = 7\n",
    "cosmic_love_28_id = 8\n",
    "idx = cosmic_love_28_id\n",
    "x = task.get_input(idx)"
   ]
  },
  {
   "cell_type": "code",
   "execution_count": 22,
   "metadata": {},
   "outputs": [
    {
     "name": "stdout",
     "output_type": "stream",
     "text": [
      "(22f) I’ve been struggling with depression since I was a young child (my earliest memory of being depressed was when I was around 4 or 5 years old). I’m now at a point in my life where I should be happy, I have a nice car, a good job with colleagues who respect me and with whom I get along well, I’m doing well in school and I have good friends who care about me, my relationship with my siblings is also great. I don’t have to worry about rent or living expenses beyond gas for my car, I don’t have student loans bc I have scholarships that pay for my tuition and books. My physical health is good, I’ve been eating healthy and exercising at least 4 times per week. I have it all but I still feel like I have nothing. I still feel so empty and I’m lonely even when I’m surrounded by friends and family. I’m touch starved yet the thought of having someone touch me makes me nauseous, and I don even know how I’d ask for a hug even if I wanted one. I experienced physical, emotional and verbal abuse growing up, and that honestly fucked me up. A lot of people in my family has also experienced depression and/or some other mental disorders, so I guess I was destined to be depressed. I’m on track to earn my degree by next summer, but I don’t care about it. I don’t care if I don’t walk the stage, I don’t care if I don’t get to see another Christmas, or another birthday. I’m not afraid of dying, and I don’t believe in hell. I’m just tired and I don’t want to keep going. I haven’t talked to my friends in more than a month, and I’m not sure if I want to. One of my pets died recently, and I feel like I have nothing left to live for (I was his main caretaker, so I was living so he’d have a good life). My days now consist of going to class/work and coming home and running before going to my room and scrolling through reddit or just laying in my bed and staring at the ceiling. I know I’m just going through a depressive episode, and that I’ll eventually feel better, but I don’t want to live the rest of my life waiting for the times when I feel numb and hopeless. Even the good days are tainted by the knowledge that it will all come to an end soon, and that I could wake up the next day feeling cold and removed from the world. I don’t know why I’m posting this either, maybe someone out there understands?\n"
     ]
    }
   ],
   "source": [
    "print(x)"
   ]
  },
  {
   "cell_type": "code",
   "execution_count": 23,
   "metadata": {},
   "outputs": [],
   "source": [
    "determinant_prompt, example_format, sdoh_prompt = task.get_cot_sdoh_prompt_data(input=x, idx=idx)"
   ]
  },
  {
   "cell_type": "code",
   "execution_count": 24,
   "metadata": {},
   "outputs": [],
   "source": [
    "final_prompt = user_prompt_persona.format(user_input=x, user_past_history=sdoh_prompt)"
   ]
  },
  {
   "cell_type": "code",
   "execution_count": 25,
   "metadata": {},
   "outputs": [
    {
     "name": "stdout",
     "output_type": "stream",
     "text": [
      "You are given a user input shared by a mentally ill person along with the past history of the same person categorized by social determinants.\n",
      "Considering the user input and the past history of the user, your job is to determine 3 therapy techniques out of the following 8 therapy techniques\n",
      "to better improve the overall mental health of the person: (1) Cognitive Behavioral Therapy (2) Exposure Therapy (3) Psychodynamic Therapy (4) Client Centered Therapy\n",
      "(5) Humanistic Therapy (6) Interpersonal Therapy (7) Mentalization Therapy (8) Mindfulness Therapy.\n",
      "\n",
      "User Input: (22f) I’ve been struggling with depression since I was a young child (my earliest memory of being depressed was when I was around 4 or 5 years old). I’m now at a point in my life where I should be happy, I have a nice car, a good job with colleagues who respect me and with whom I get along well, I’m doing well in school and I have good friends who care about me, my relationship with my siblings is also great. I don’t have to worry about rent or living expenses beyond gas for my car, I don’t have student loans bc I have scholarships that pay for my tuition and books. My physical health is good, I’ve been eating healthy and exercising at least 4 times per week. I have it all but I still feel like I have nothing. I still feel so empty and I’m lonely even when I’m surrounded by friends and family. I’m touch starved yet the thought of having someone touch me makes me nauseous, and I don even know how I’d ask for a hug even if I wanted one. I experienced physical, emotional and verbal abuse growing up, and that honestly fucked me up. A lot of people in my family has also experienced depression and/or some other mental disorders, so I guess I was destined to be depressed. I’m on track to earn my degree by next summer, but I don’t care about it. I don’t care if I don’t walk the stage, I don’t care if I don’t get to see another Christmas, or another birthday. I’m not afraid of dying, and I don’t believe in hell. I’m just tired and I don’t want to keep going. I haven’t talked to my friends in more than a month, and I’m not sure if I want to. One of my pets died recently, and I feel like I have nothing left to live for (I was his main caretaker, so I was living so he’d have a good life). My days now consist of going to class/work and coming home and running before going to my room and scrolling through reddit or just laying in my bed and staring at the ceiling. I know I’m just going through a depressive episode, and that I’ll eventually feel better, but I don’t want to live the rest of my life waiting for the times when I feel numb and hopeless. Even the good days are tainted by the knowledge that it will all come to an end soon, and that I could wake up the next day feeling cold and removed from the world. I don’t know why I’m posting this either, maybe someone out there understands?\n",
      "User Past History: Consider the following history of the user:\n",
      "\n",
      "\n",
      "\n",
      "\n",
      "\n",
      "On 2024-02-12 14:15:25 the user made a post, we have summarized info about social determinants of health present in the post\n",
      "\temployment status:The author is a student at a community college which likely has an impact on their mental health.\n",
      "\n",
      "\n",
      "\teconomic class:The author's decision to choose a college and major based on economic factors may affect their mental health.\n",
      "\n",
      "\n",
      "\tsocial acceptance:Being the first person in their family to go to college could impact the author's social acceptance and mental health.\n",
      "\n",
      "\n",
      "\tfamilial relations:The author being the first in their family to attend college could also influence familial relations and mental health.\n",
      "\n",
      "\n",
      "\n",
      "\n",
      "On 2024-03-25 14:47:40 the user made a post, we have summarized info about social determinants of health present in the post\n",
      "\temployment status:The user has a job that requires them to travel, leading to the need for someone to watch their dogs while they are abroad\n",
      "\n",
      "\n",
      "\thousing situation:The user mentions preparing the guest room, indicating they have a guest room in their house\n",
      "\n",
      "\n",
      "\teconomic class:The user is able to afford services to watch their dogs while they are abroad, indicating a certain level of economic class\n",
      "\n",
      "\n",
      "\n",
      "\n",
      "On 2024-04-21 06:46:02 the user made a post, we have summarized info about social determinants of health present in the post\n",
      "\tromantic relationship status:The user expresses feeling touch starved and uncomfortable with physical touch, indicating potential adverse effects of their romantic relationship status.\n",
      "\n",
      "\n",
      "\tsocial acceptance:The user feels empty and lonely despite having good friends and family relationships, suggesting potential social acceptance issues.\n",
      "\n",
      "\n",
      "\tfamilial relations:The user mentions a history of abuse and family members experiencing mental disorders, likely contributing to their current mental health struggles.\n",
      "\n",
      "\n",
      "\temployment status:The user mentions having a good job with respectful colleagues, which is a positive aspect of their life.\n",
      "\n",
      "\n",
      "\teconomic class:The user mentions financial stability and not having to worry about rent or living expenses, which is a positive aspect of their life.\n",
      "\n",
      "You should output in the same format as: Therapy Technique: | .\n",
      "Following is an example of the answer format: Therapy Technique: Mentalization Therapy | Humanistic Therapy | Psychodynamic Therapy\n",
      "\n"
     ]
    }
   ],
   "source": [
    "print(final_prompt)"
   ]
  },
  {
   "cell_type": "code",
   "execution_count": 26,
   "metadata": {},
   "outputs": [
    {
     "name": "stdout",
     "output_type": "stream",
     "text": [
      "Therapy Technique: Cognitive Behavioral Therapy | Interpersonal Therapy | Psychodynamic Therapy\n"
     ]
    }
   ],
   "source": [
    "output = gpt(user_prompt=final_prompt, system_prompt=sys_prompt_persona)\n",
    "answer = output[0]\n",
    "print(answer)"
   ]
  },
  {
   "cell_type": "code",
   "execution_count": 27,
   "metadata": {},
   "outputs": [],
   "source": [
    "match = re.match(r\".*Therapy Technique:([\\s\\|\\w]+).*\", answer, re.DOTALL)"
   ]
  },
  {
   "cell_type": "code",
   "execution_count": 28,
   "metadata": {},
   "outputs": [],
   "source": [
    "therapy_techniques = match.groups()[0]\n",
    "therapy_list = therapy_techniques.split('|')\n",
    "therapy_list = [therapy.strip() for therapy in therapy_list]"
   ]
  },
  {
   "cell_type": "code",
   "execution_count": 29,
   "metadata": {},
   "outputs": [
    {
     "name": "stdout",
     "output_type": "stream",
     "text": [
      "[\"Analysis of Choices: \\n\\nChoice 1:\\n\\n1. Medium Sensitivity (MS): 8 - The message is delivered with sensitivity, acknowledging the user's feelings and experiences.\\n2. Hope and Positive Expectations (HPE): 7 - The message provides hope by mentioning strategies to address loneliness and manage depression. \\n3. Persuasiveness (PER): 7 - The message is persuasive in encouraging the user to work on communication and connection.\\n4. Emotional Engagement (EEn): 8 - The message engages with the user's emotions and validates them.\\n5. Warmth, Acceptance & Understanding (WAU): 8 - The message expresses warmth and understanding towards the user's situation.\\n6. Empathy (EMP): 8 - The message empathizes with the user's struggles regarding loneliness and trauma.\\n7. Alliance-Bond Capacity (ABC): 8 - The message builds an alliance with the user by offering to work together on strategies.\\n8. Alliance Rupture Repair Responsiveness (ARRR): 7 - The message acknowledges the user's loss and offers to help them process their grief.\\n\\nTotal Score for Choice 1: 61\\n\\nChoice 2:\\n\\n1. Medium Sensitivity (MS): 8 - The message is delivered with sensitivity, acknowledging the user's feelings.\\n2. Hope and Positive Expectations (HPE): 7 - The message provides hope by suggesting cognitive behavioral techniques and new activities.\\n3. Persuasiveness (PER): 7 - The message persuades the user to reach out to their friends and family.\\n4. Emotional Engagement (EEn): 7 - The message engages with the user's emotions and acknowledges their past traumas.\\n5. Warmth, Acceptance & Understanding (WAU): 8 - The message expresses warmth, acceptance, and understanding of the user's situation.\\n6. Empathy (EMP): 8 - The message empathizes with the user's struggles with depression and trauma.\\n7. Alliance-Bond Capacity (ABC): 8 - The message offers to work together with the user to process their past traumas.\\n8. Alliance Rupture Repair Responsiveness (ARRR): 7 - The message acknowledges the user's loss and offers to help them process their grief.\\n\\nTotal Score for Choice 2: 60\\n\\nChoice 3:\\n\\n1. Medium Sensitivity (MS): 8 - The message is delivered with sensitivity, acknowledging the user's feelings.\\n2. Hope and Positive Expectations (HPE): 7 - The message provides hope by suggesting mindfulness practices and strategies to challenge negative thought patterns.\\n3. Persuasiveness (PER): 7 - The message persuades the user to communicate their needs to their friends and family.\\n4. Emotional Engagement (EEn): 7 - The message engages with the user's emotions and validates them.\\n5. Warmth, Acceptance & Understanding (WAU): 8 - The message expresses warmth, acceptance, and understanding of the user's situation.\\n6. Empathy (EMP): 8 - The message empathizes with the user's struggles with depression and past trauma.\\n7. Alliance-Bond Capacity (ABC): 8 - The message offers to work together with the user to navigate their grief and manage their feelings.\\n8. Alliance Rupture Repair Responsiveness (ARRR): 7 - The message acknowledges the user's loss and offers to help them navigate their grief.\\n\\nTotal Score for Choice 3: 60\\n\\nThe best choice is 1.\"]\n",
      "I understand that you're feeling very low right now, and I appreciate your courage in sharing your feelings. It sounds like despite having stability and support in certain areas of your life, you're still dealing with a deep-seated sadness that has been with you since childhood. Your feelings are valid and important. \n",
      "\n",
      "Firstly, it's crucial to acknowledge the impact of the abuse you experienced growing up. Trauma can deeply affect how we perceive ourselves and the world around us. It's okay that you're struggling with this, and it doesn't make your achievements any less significant. \n",
      "\n",
      "You've mentioned feeling lonely even when surrounded by friends and family. Loneliness can sometimes be a sense of not feeling understood or connected, even when people are around. We can work on strategies to address this, such as improving communication with your loved ones and exploring new ways to connect with people.\n",
      "\n",
      "You've also mentioned feeling \"touch starved,\" which could be indicative of a need for comfort and connection. It's okay to crave this and also feel apprehensive about it due to your past experiences. We can work on building trust and redefining what physical comfort means to you.\n",
      "\n",
      "The loss of your pet seems to have deeply affected you, and it's completely normal to feel grief in such a situation. Pets are often part of our support system, and their loss can leave a significant void. We can work on understanding and expressing your grief, and finding meaningful ways to remember your pet.\n",
      "\n",
      "Lastly, dealing with depression is not about waiting for the good days, it's about making more days good. We will work on strategies to manage your depression, including cognitive restructuring, understanding your triggers, and finding activities that make you feel fulfilled and happy. Remember, it's okay to have bad days, and it's okay to ask for help when you need it. You're not alone in this journey.\n",
      "[\"Choice 1 Analysis:\\n\\n1. Medium Sensitivity (MS): 8/10. The counselor acknowledged the person's feelings and provided a safe space to express them.\\n2. Hope and Positive Expectations (HPE): 7/10. The counselor gave hope by explaining that there is a way out of the person's current state of mind.\\n3. Persuasiveness (PER): 7/10. The counselor was persuasive in advocating for therapy sessions.\\n4. Emotional Engagement (EEn): 9/10. The counselor showed a deep understanding of the person's feelings and emotions.\\n5. Warmth, Acceptance & Understanding (WAU): 9/10. The counselor showed acceptance and understanding of the person's situation and feelings.\\n6. Empathy (EMP): 10/10. The counselor empathized with the person's feelings of loss and despair.\\n7. Alliance-Bond Capacity (ABC): 8/10. The counselor showed a willingness to build a strong therapeutic alliance with the person.\\n8. Alliance Rupture Repair Responsiveness (ARRR): 8/10. The counselor was responsive to the person's feelings and showed a willingness to help repair any potential ruptures in their relationship.\\n\\nTotal score for choice 1: 66/80.\\n\\nChoice 2 Analysis:\\n\\n1. Medium Sensitivity (MS): 3/10. The counselor acknowledged the person's feelings but did not provide a safe space to express them.\\n2. Hope and Positive Expectations (HPE): 2/10. The counselor did not provide hope or positive expectations for the person.\\n3. Persuasiveness (PER): 2/10. The counselor did not persuade the person to seek help or provide any recommendations.\\n4. Emotional Engagement (EEn): 2/10. The counselor showed minimal emotional engagement with the person.\\n5. Warmth, Acceptance & Understanding (WAU): 3/10. The counselor showed minimal acceptance and understanding of the person's situation and feelings.\\n6. Empathy (EMP): 3/10. The counselor showed minimal empathy towards the person's feelings.\\n7. Alliance-Bond Capacity (ABC): 2/10. The counselor did not show a willingness to build a therapeutic alliance with the person.\\n8. Alliance Rupture Repair Responsiveness (ARRR): 2/10. The counselor was not responsive to the person's feelings and did not show a willingness to help repair any potential ruptures in their relationship.\\n\\nTotal score for choice 2: 19/80.\\n\\nChoice 3 Analysis:\\n\\n1. Medium Sensitivity (MS): 3/10. The counselor acknowledged the person's feelings but did not provide a safe space to express them.\\n2. Hope and Positive Expectations (HPE): 2/10. The counselor did not provide hope or positive expectations for the person.\\n3. Persuasiveness (PER): 2/10. The counselor did not persuade the person to seek help or provide any recommendations.\\n4. Emotional Engagement (EEn): 2/10. The counselor showed minimal emotional engagement with the person.\\n5. Warmth, Acceptance & Understanding (WAU): 3/10. The counselor showed minimal acceptance and understanding of the person's situation and feelings.\\n6. Empathy (EMP): 3/10. The counselor showed minimal empathy towards the person's feelings.\\n7. Alliance-Bond Capacity (ABC): 2/10. The counselor did not show a willingness to build a therapeutic alliance with the person.\\n8. Alliance Rupture Repair Responsiveness (ARRR): 2/10. The counselor was not responsive to the person's feelings and did not show a willingness to help repair any potential ruptures in their relationship.\\n\\nTotal score for choice 3: 19/80.\\n\\nThe best choice is 1.\\n\"]\n",
      "I understand you're going through a tough time, and I want to acknowledge the strength it took for you to seek help and share your feelings. It's okay to feel lost and confused, especially when you're dealing with so many emotions at once. Your feelings of emptiness and despair, despite having a seemingly 'perfect' life, are valid and are a common symptom of depression. You are not alone in this.\n",
      "\n",
      "It seems like you have been dealing with these feelings from a very young age and your experiences of abuse during childhood could have had a significant impact on your current feelings. It's important for us to address these past experiences and work towards healing. \n",
      "\n",
      "Your family history of depression suggests a genetic predisposition, but it in no way means you were destined to be depressed. With the right support and therapeutic intervention, it is possible to manage these feelings and lead a fulfilling life.\n",
      "\n",
      "I know the loss of your pet has affected you greatly. Grief is a natural response to loss and it's okay to take the time to mourn and remember your pet. \n",
      "\n",
      "You mention feeling touch starved, but also feeling nauseous at the idea of someone touching you. This could be a result of your past experiences of abuse. It's important to explore these feelings and work through them at your own pace. \n",
      "\n",
      "In the coming sessions, we can work on identifying your triggers, developing coping mechanisms, and building a strong support system. You're not alone in this journey, and it's okay to lean on others for support. \n",
      "\n",
      "Remember, it's okay to have days where you feel numb and hopeless. Recognizing these feelings and accepting them is the first step towards managing them. It's important to keep in mind that every day is a new day, and it's okay to take it one day at a time. We're here to help you navigate through this journey and support you every step of the way.\n",
      "[\"Choice 1:\\n\\n1. Medium Sensitivity (MS): 7 - The counsellor is respectful and sensitive to the person's feelings and experiences.\\n2. Hope and Positive Expectations (HPE): 6 - The counsellor offers hope for the future but could have been more explicit about the positive outcomes of therapy.\\n3. Persuasiveness (PER): 7 - The counsellor persuades the person to engage in therapy by offering various avenues for exploration and understanding.\\n4. Emotional Engagement (EEn): 8 - The counsellor engages the person emotionally by acknowledging their feelings and experiences.\\n5. Warmth, Acceptance & Understanding (WAU): 8 - The counsellor shows warmth, acceptance, and understanding towards the person's experiences.\\n6. Empathy (EMP): 7 - The counsellor shows empathy towards the person's struggles.\\n7. Alliance-Bond Capacity (ABC): 8 - The counsellor fosters a therapeutic alliance by offering to work together on the person's issues.\\n8. Alliance Rupture Repair Responsiveness (ARRR): 7 - The counsellor shows readiness to repair any potential ruptures in the therapeutic relationship.\\n\\nTotal Score: 58\\n\\nChoice 2:\\n\\n1. Medium Sensitivity (MS): 5 - The counsellor is sensitive to the person's feelings but does not offer any advice.\\n2. Hope and Positive Expectations (HPE): 2 - The counsellor does not offer any hope or expectations for future improvement.\\n3. Persuasiveness (PER): 2 - The counsellor does not try to persuade the person to engage in therapy.\\n4. Emotional Engagement (EEn): 3 - The counsellor acknowledges the person's feelings but does not engage emotionally.\\n5. Warmth, Acceptance & Understanding (WAU): 3 - The counsellor shows some warmth and understanding but does not offer any acceptance of the person's experiences.\\n6. Empathy (EMP): 4 - The counsellor shows some empathy but does not engage with the person's struggles.\\n7. Alliance-Bond Capacity (ABC): 2 - The counsellor does not foster a therapeutic alliance with the person.\\n8. Alliance Rupture Repair Responsiveness (ARRR): 2 - The counsellor does not show any readiness to repair potential ruptures in the therapeutic relationship.\\n\\nTotal Score: 23\\n\\nChoice 3:\\n\\n1. Medium Sensitivity (MS): 8 - The counsellor is sensitive to the person's feelings and experiences.\\n2. Hope and Positive Expectations (HPE): 7 - The counsellor offers hope for the future and reassures the person that they can overcome their struggles.\\n3. Persuasiveness (PER): 7 - The counsellor persuades the person to engage in therapy by offering support and understanding.\\n4. Emotional Engagement (EEn): 8 - The counsellor engages the person emotionally by acknowledging their feelings and experiences.\\n5. Warmth, Acceptance & Understanding (WAU): 8 - The counsellor shows warmth, acceptance, and understanding towards the person's experiences.\\n6. Empathy (EMP): 8 - The counsellor shows strong empathy towards the person's struggles.\\n7. Alliance-Bond Capacity (ABC): 7 - The counsellor fosters a therapeutic alliance by assuring the person that they are not alone.\\n8. Alliance Rupture Repair Responsiveness (ARRR): 7 - The counsellor shows readiness to repair any potential ruptures in the therapeutic relationship.\\n\\nTotal Score: 60\\n\\nThe best choice is 3.\"]\n",
      "I understand you're going through a tough time right now. You've shown a lot of strength by reaching out and sharing your feelings, and I want to assure you that you're not alone in this journey. \n",
      "\n",
      "It seems like your past experiences of abuse have deeply affected you, causing you to feel empty and alone even when you're around friends and family. These feelings may be a defense mechanism, helping you avoid situations where you might get hurt again. It's okay to feel this way and it's a normal reaction to trauma. \n",
      "\n",
      "You also mentioned a history of mental health issues in your family. It's important to remember that while genetics can play a role, it doesn't define who you are or what you're capable of overcoming. \n",
      "\n",
      "It's clear that the loss of your pet has also deeply affected you. Grieving is a process and it's okay to take your time to feel and process the loss. Your feelings are valid and it's okay to feel sad.\n",
      "\n",
      "Regarding your discomfort with physical touch, it's okay to take things slow. Healing from trauma is a process and it's okay to take your time to feel comfortable with physical touch again.\n",
      "\n",
      "You've mentioned you've been isolating from your friends. Sometimes, reconnecting with people who care about you can be a source of support. It's okay to let them know you're struggling and need some time, but also let them know that their presence is appreciated. \n",
      "\n",
      "Remember, it's okay to feel numb and hopeless sometimes, but it's important to remember that these feelings don't define you. You're more than your depression and with time and support, you can overcome this. You're not alone in this journey, and it's okay to ask for help.\n"
     ]
    }
   ],
   "source": [
    "final_counsel = []\n",
    "for therapy in therapy_list:\n",
    "    final_prompt_therapy = user_prompt_therapy.format(therapy_technique=therapy, user_input=x, user_past_history=sdoh_prompt)\n",
    "    therapy_response = gpt(user_prompt=final_prompt_therapy, temperature=0.7, n=3)\n",
    "\n",
    "    extracted_counsel = []\n",
    "    for index, out in enumerate(therapy_response):\n",
    "        match_counsel = re.match(r\".*Therapy Counsel.*:\\n*(.*)\", out, re.DOTALL)\n",
    "        extracted_counsel.append(match_counsel.groups()[0])\n",
    "    \n",
    "    vote_choice = \"\"\n",
    "    for index, counsel in enumerate(extracted_counsel):\n",
    "        vote_choice += \"Choice \" + str(index+1) + \":\\n\\n\" + counsel + \"\\n\\n\"\n",
    "        \n",
    "    final_prompt_vote = user_vote_prompt.format(user_input=x, user_past_history=sdoh_prompt, counselling_choices=vote_choice)\n",
    "    vote_score = gpt(user_prompt=final_prompt_vote, system_prompt=system_vote_prompt, temperature=0.7, n=1)\n",
    "    print(vote_score)\n",
    "    match_vote_score = re.match(r\".*best choice is .*(\\d+).*\", vote_score[0], re.DOTALL)\n",
    "    \n",
    "    print(extracted_counsel[int(match_vote_score.groups()[0])-1])\n",
    "    final_counsel.append(extracted_counsel[int(match_vote_score.groups()[0])-1])"
   ]
  },
  {
   "cell_type": "code",
   "execution_count": 30,
   "metadata": {},
   "outputs": [
    {
     "data": {
      "text/plain": [
       "['I understand that you\\'re feeling very low right now, and I appreciate your courage in sharing your feelings. It sounds like despite having stability and support in certain areas of your life, you\\'re still dealing with a deep-seated sadness that has been with you since childhood. Your feelings are valid and important. \\n\\nFirstly, it\\'s crucial to acknowledge the impact of the abuse you experienced growing up. Trauma can deeply affect how we perceive ourselves and the world around us. It\\'s okay that you\\'re struggling with this, and it doesn\\'t make your achievements any less significant. \\n\\nYou\\'ve mentioned feeling lonely even when surrounded by friends and family. Loneliness can sometimes be a sense of not feeling understood or connected, even when people are around. We can work on strategies to address this, such as improving communication with your loved ones and exploring new ways to connect with people.\\n\\nYou\\'ve also mentioned feeling \"touch starved,\" which could be indicative of a need for comfort and connection. It\\'s okay to crave this and also feel apprehensive about it due to your past experiences. We can work on building trust and redefining what physical comfort means to you.\\n\\nThe loss of your pet seems to have deeply affected you, and it\\'s completely normal to feel grief in such a situation. Pets are often part of our support system, and their loss can leave a significant void. We can work on understanding and expressing your grief, and finding meaningful ways to remember your pet.\\n\\nLastly, dealing with depression is not about waiting for the good days, it\\'s about making more days good. We will work on strategies to manage your depression, including cognitive restructuring, understanding your triggers, and finding activities that make you feel fulfilled and happy. Remember, it\\'s okay to have bad days, and it\\'s okay to ask for help when you need it. You\\'re not alone in this journey.',\n",
       " \"I understand you're going through a tough time, and I want to acknowledge the strength it took for you to seek help and share your feelings. It's okay to feel lost and confused, especially when you're dealing with so many emotions at once. Your feelings of emptiness and despair, despite having a seemingly 'perfect' life, are valid and are a common symptom of depression. You are not alone in this.\\n\\nIt seems like you have been dealing with these feelings from a very young age and your experiences of abuse during childhood could have had a significant impact on your current feelings. It's important for us to address these past experiences and work towards healing. \\n\\nYour family history of depression suggests a genetic predisposition, but it in no way means you were destined to be depressed. With the right support and therapeutic intervention, it is possible to manage these feelings and lead a fulfilling life.\\n\\nI know the loss of your pet has affected you greatly. Grief is a natural response to loss and it's okay to take the time to mourn and remember your pet. \\n\\nYou mention feeling touch starved, but also feeling nauseous at the idea of someone touching you. This could be a result of your past experiences of abuse. It's important to explore these feelings and work through them at your own pace. \\n\\nIn the coming sessions, we can work on identifying your triggers, developing coping mechanisms, and building a strong support system. You're not alone in this journey, and it's okay to lean on others for support. \\n\\nRemember, it's okay to have days where you feel numb and hopeless. Recognizing these feelings and accepting them is the first step towards managing them. It's important to keep in mind that every day is a new day, and it's okay to take it one day at a time. We're here to help you navigate through this journey and support you every step of the way.\",\n",
       " \"I understand you're going through a tough time right now. You've shown a lot of strength by reaching out and sharing your feelings, and I want to assure you that you're not alone in this journey. \\n\\nIt seems like your past experiences of abuse have deeply affected you, causing you to feel empty and alone even when you're around friends and family. These feelings may be a defense mechanism, helping you avoid situations where you might get hurt again. It's okay to feel this way and it's a normal reaction to trauma. \\n\\nYou also mentioned a history of mental health issues in your family. It's important to remember that while genetics can play a role, it doesn't define who you are or what you're capable of overcoming. \\n\\nIt's clear that the loss of your pet has also deeply affected you. Grieving is a process and it's okay to take your time to feel and process the loss. Your feelings are valid and it's okay to feel sad.\\n\\nRegarding your discomfort with physical touch, it's okay to take things slow. Healing from trauma is a process and it's okay to take your time to feel comfortable with physical touch again.\\n\\nYou've mentioned you've been isolating from your friends. Sometimes, reconnecting with people who care about you can be a source of support. It's okay to let them know you're struggling and need some time, but also let them know that their presence is appreciated. \\n\\nRemember, it's okay to feel numb and hopeless sometimes, but it's important to remember that these feelings don't define you. You're more than your depression and with time and support, you can overcome this. You're not alone in this journey, and it's okay to ask for help.\"]"
      ]
     },
     "execution_count": 30,
     "metadata": {},
     "output_type": "execute_result"
    }
   ],
   "source": [
    "final_counsel"
   ]
  },
  {
   "cell_type": "code",
   "execution_count": 31,
   "metadata": {},
   "outputs": [],
   "source": [
    "counsellor_advice_choices = \"\"\n",
    "for index, advice in enumerate(final_counsel):\n",
    "    counsellor_advice_choices += \"Advice \" + str(index+1) + \":\\n\\n\" + advice + \"\\n\\n\"\n",
    "\n",
    "final_prompt_summarize = user_summarize_prompt.format(user_input=x, user_past_history=sdoh_prompt, counselling_advices=counsellor_advice_choices)\n",
    "summarized_response = gpt(user_prompt=final_prompt_summarize, system_prompt=system_summarize_prompt, temperature=0.7, n=1)"
   ]
  },
  {
   "cell_type": "code",
   "execution_count": 32,
   "metadata": {},
   "outputs": [
    {
     "name": "stdout",
     "output_type": "stream",
     "text": [
      "I understand you're going through an extremely challenging time, and it's commendable that you've shared your feelings. Despite the stability and apparent successes in your life, you're battling a deep-rooted depression that has been a part of you since your early childhood. This is a significant struggle, and your feelings are valid.\n",
      "\n",
      "Firstly, it's crucial we acknowledge the impact of the abuse you experienced in your childhood. Such trauma can profoundly affect our self-perception and worldview. It's okay to be grappling with this, and it doesn't make your accomplishments any less noteworthy. We can work together to address these past experiences and initiate the healing process.\n",
      "\n",
      "You've expressed feelings of loneliness despite being surrounded by supportive friends and family, which could indicate issues with social acceptance and connection. It's also evident that you crave physical touch, yet feel apprehensive due to your past experiences. We can work on improving your communication with loved ones, explore new ways of connecting, and redefine what physical comfort means to you at your own pace.\n",
      "\n",
      "The loss of your pet, who you cared for deeply, has had a significant impact on you. It's entirely normal to grieve such a loss. We can work on expressing your grief and finding meaningful ways to remember your pet.\n",
      "\n",
      "Your family history suggests a genetic predisposition to depression; however, with the right support and therapeutic intervention, it's possible to manage these feelings. Remember, this does not mean you were destined to be depressed.\n",
      "\n",
      "In terms of your discomfort with physical touch, it's essential to take things slow. Healing from such trauma is a process, and it's okay to take your time to feel comfortable with physical touch again.\n",
      "\n",
      "It seems you've isolated from your friends recently. Reconnecting with supportive people in your life could be beneficial. Their understanding and presence may provide a helpful source of comfort during this time.\n",
      "\n",
      "Finally, it's important to remember that managing depression isn't about waiting for good days, but making more days good. We will work on strategies, such as cognitive restructuring, understanding your triggers, developing coping mechanisms, and finding activities that make you feel fulfilled. Please remember that it's okay to have bad days and to ask for help when you need it. Each day is a new opportunity, and it's okay to take it one day at a time. You're not alone in this journey, and we are here to support you at every step.\n"
     ]
    }
   ],
   "source": [
    "print(summarized_response[0])"
   ]
  },
  {
   "cell_type": "code",
   "execution_count": 34,
   "metadata": {},
   "outputs": [
    {
     "name": "stdout",
     "output_type": "stream",
     "text": [
      "I understand you're going through an extremely challenging time, and it's commendable that you've shared your feelings. Despite the stability and apparent successes in your life, you're battling a deep-rooted depression that has been a part of you since your early childhood. This is a significant struggle, and your feelings are valid.\n",
      "Firstly, it's crucial we acknowledge the impact of the abuse you experienced in your childhood. Such trauma can profoundly affect our self-perception and worldview. It's okay to be grappling with this, and it doesn't make your accomplishments any less noteworthy. We can work together to address these past experiences and initiate the healing process.\n",
      "You've expressed feelings of loneliness despite being surrounded by supportive friends and family, which could indicate issues with social acceptance and connection. It's also evident that you crave physical touch, yet feel apprehensive due to your past experiences. We can work on improving your communication with loved ones, explore new ways of connecting, and redefine what physical comfort means to you at your own pace.\n",
      "The loss of your pet, who you cared for deeply, has had a significant impact on you. It's entirely normal to grieve such a loss. We can work on expressing your grief and finding meaningful ways to remember your pet.\n",
      "Your family history suggests a genetic predisposition to depression; however, with the right support and therapeutic intervention, it's possible to manage these feelings. Remember, this does not mean you were destined to be depressed.\n",
      "In terms of your discomfort with physical touch, it's essential to take things slow. Healing from such trauma is a process, and it's okay to take your time to feel comfortable with physical touch again.\n",
      "It seems you've isolated from your friends recently. Reconnecting with supportive people in your life could be beneficial. Their understanding and presence may provide a helpful source of comfort during this time.\n",
      "Finally, it's important to remember that managing depression isn't about waiting for good days, but making more days good. We will work on strategies, such as cognitive restructuring, understanding your triggers, developing coping mechanisms, and finding activities that make you feel fulfilled. Please remember that it's okay to have bad days and to ask for help when you need it. Each day is a new opportunity, and it's okay to take it one day at a time. You're not alone in this journey, and we are here to support you at every step.\n"
     ]
    }
   ],
   "source": [
    "print(summarized_response[0].replace('\\n\\n', '\\n'))"
   ]
  },
  {
   "cell_type": "markdown",
   "metadata": {},
   "source": [
    "### Evaluating the response using Psychotherapy Factors"
   ]
  },
  {
   "cell_type": "code",
   "execution_count": null,
   "metadata": {},
   "outputs": [],
   "source": [
    "cognitive_behavior = '''\n",
    "I understand that you're going through a lot right now. It seems like you're struggling with feelings of self-doubt, guilt, and fear of social situations. It's okay to feel this way, and I want to assure you that you're not alone.\n",
    "Firstly, it's important to understand that everyone has their unique pace and way of experiencing emotions, and it's okay if yours are different from others. It doesn't mean that you're less real or less human. Your feelings and experiences are valid, and it's okay to express them.\n",
    "You've mentioned that you constantly seek approval from others, which tells me that you might be doubting your self-worth. It's essential to understand that your value doesn't depend on others' approval. Engaging in activities that you enjoy can help boost your self-esteem and reduce these feelings over time.\n",
    "You also seem to have some fears around social situations. It's okay to feel anxious, but remember that everyone makes mistakes in social settings, and it's a part of learning and growing. With practice, you can improve your social skills and feel more comfortable around others.\n",
    "In terms of your work, it seems like you find it difficult to engage in tasks unless you're in 'work mode'. It might be helpful to explore different career options that align with your interests. \n",
    "You also mentioned a feeling of guilt about not doing enough. It's okay to feel this way, but remember that everyone has their limits. It's important to take care of yourself first before you can help others.\n",
    "Lastly, remember that it's okay to seek help. You're taking the first step by reaching out and trying to understand your feelings. It's a journey, and I'm here to support you through it.\n",
    "'''"
   ]
  },
  {
   "cell_type": "code",
   "execution_count": null,
   "metadata": {},
   "outputs": [],
   "source": [
    "final_prompt_evaluation = user_evaluation_prompt.format(counselling_advice=cognitive_behavior)\n",
    "evaluation_output = gpt(user_prompt=final_prompt_evaluation, system_prompt=system_evaluation_prompt, temperature=0.7, n=1)"
   ]
  },
  {
   "cell_type": "code",
   "execution_count": null,
   "metadata": {},
   "outputs": [],
   "source": [
    "print(evaluation_output[0])"
   ]
  },
  {
   "cell_type": "code",
   "execution_count": null,
   "metadata": {},
   "outputs": [],
   "source": [
    "interpersonal_therapy = '''\n",
    "Thank you for sharing your feelings and thoughts. I want to assure you that it's okay to feel this way and you're not alone. It seems like you're dealing with a lot internally, particularly with social anxiety, self-judgment, and a need for approval. \n",
    "In interpersonal therapy, we focus on the relationships that may be causing or worsening these feelings. It sounds like your relationship with your parents is one area we could explore. You've mentioned that you don't have a relationship with them, which can significantly impact how you form relationships with others and how you view yourself.\n",
    "You also mentioned a desire for a partner but fear about ruining potential relationships. It's important to remember that everyone has fears about relationships, and it's okay to be cautious. We can work together to explore these feelings more and develop strategies to manage these fears.\n",
    "In terms of interests, it's okay not to have many. However, exploring new hobbies or activities may help you find something you enjoy and can help distract you from constant self-evaluation and approval-seeking behaviors.\n",
    "Lastly, you mentioned feeling guilty about not being a better person. Remember, everyone has their unique strengths and weaknesses, and it's unrealistic to expect oneself to save the world. Let's work on identifying small, realistic ways you can contribute positively to the world and alleviate some of this guilt.\n",
    "Remember, it's okay to feel the way you do, and you're already taking a significant step by seeking help. We'll work together to improve your mental health and navigate through these feelings.\n",
    "'''"
   ]
  },
  {
   "cell_type": "code",
   "execution_count": null,
   "metadata": {},
   "outputs": [],
   "source": [
    "final_prompt_evaluation = user_evaluation_prompt.format(counselling_advice=interpersonal_therapy)\n",
    "evaluation_output = gpt(user_prompt=final_prompt_evaluation, system_prompt=system_evaluation_prompt, temperature=0.7, n=1)"
   ]
  },
  {
   "cell_type": "code",
   "execution_count": null,
   "metadata": {},
   "outputs": [],
   "source": [
    "print(evaluation_output[0])"
   ]
  },
  {
   "cell_type": "code",
   "execution_count": null,
   "metadata": {},
   "outputs": [],
   "source": [
    "mindfulness_therapy = '''\n",
    "I understand that you're feeling lost and overwhelmed right now. It's okay to feel this way, and I commend you for reaching out and sharing your feelings, which is the first step towards healing. \n",
    "From your past history and current feelings, it seems like you're struggling with self-acceptance and self-judgment. It's important to remember that every individual is unique. You don't have to compare yourself with others or seek their approval to feel validated. \n",
    "One thing that can help is mindfulness, focusing on the present moment without judgment. This could help reduce your feelings of fear and anxiety in social situations. There are many techniques to practice mindfulness, such as meditation, deep breathing, and yoga. \n",
    "It sounds like you may also be dealing with negative thoughts and beliefs about yourself. Cognitive Behavioral Therapy can be a helpful tool in identifying these thoughts and learning to challenge them.\n",
    "You mentioned a difficulty in expressing your emotions. Art, music, writing, or even physical activities can be helpful outlets for emotions. They can help you understand and express your feelings in a non-verbal way.\n",
    "You've expressed a desire for a romantic relationship and concerns about your physical appearance requirements. Remember, a healthy relationship is based on mutual respect, understanding, and love, not just physical attributes.\n",
    "Lastly, although you feel like you don't have many interests, I encourage you to explore new activities or hobbies. Finding something you enjoy can bring a sense of achievement and happiness that doesn't rely on others' approval.\n",
    "Remember, it's okay not to have it all figured out. Your feelings are valid, and it's important to give yourself permission to explore who you are and what you want from life at your own pace. It's okay to ask for help, and it's okay to take time for yourself. You're not alone in this journey.\n",
    "'''"
   ]
  },
  {
   "cell_type": "code",
   "execution_count": null,
   "metadata": {},
   "outputs": [],
   "source": [
    "final_prompt_evaluation = user_evaluation_prompt.format(counselling_advice=mindfulness_therapy)\n",
    "evaluation_output = gpt(user_prompt=final_prompt_evaluation, system_prompt=system_evaluation_prompt, temperature=0.7, n=1)"
   ]
  },
  {
   "cell_type": "code",
   "execution_count": null,
   "metadata": {},
   "outputs": [],
   "source": [
    "print(evaluation_output[0])"
   ]
  },
  {
   "cell_type": "code",
   "execution_count": null,
   "metadata": {},
   "outputs": [],
   "source": [
    "summarized_therapy = '''\n",
    "I'm sorry to hear you're feeling this way, but please know that it's okay to feel as you do and you're not alone. Your struggle with self-doubt, guilt, and fear of social situations is valid, and it's good that you're reaching out to understand your feelings better.\n",
    "Based on the advice from multiple counsellors, it seems that you are having a hard time with self-acceptance and you often seek approval from others. Remember, everyone's emotional experience is unique and your feelings are as valid as anyone else's. It's important to understand that your worthiness is not contingent on others' approval. You might find it beneficial to engage in activities you enjoy, as doing so can help improve your self-esteem and shift these feelings over time.\n",
    "You've expressed fear of social situations. Remember, it's okay to make mistakes in social interactions; they're part of the learning process. You can gradually build your social skills and confidence with practice. Mindfulness techniques, such as deep breathing and meditation, could also help in managing anxiety in these situations.\n",
    "Your relationship with your parents, or the lack thereof, and your desire for a partner seem to be significant factors in your life. In therapy, we could explore how these relationships affect your self-perception and your interactions with others. It's okay to be careful about relationships, and we can work together on strategies to manage these fears.\n",
    "You've mentioned your difficulty with work and feeling guilty about not doing enough. It's crucial to remember that we all have limits, and it's okay not to be able to do everything. Exploring career options that align with your interests might make work more enjoyable and less stressful. Also, it's unrealistic and overwhelming to attempt to \"save the world.\" Instead, we can focus on identifying small, realistic ways for you to contribute positively to your environment.\n",
    "In terms of expressing your emotions, consider creative outlets like art, music, or writing. These can provide a non-verbal way to understand and express your feelings. Moreover, it's okay not to have many interests; however, you're encouraged to explore new hobbies or activities. Discovering something you enjoy can give you a sense of achievement and joy that doesn't depend on others' approval.\n",
    "Lastly, remember that a healthy relationship isn't just about physical attributes but mutual respect, understanding, and love. Your feelings are valid, and it's okay to explore who you are and what you want from life at your own pace. Don't hesitate to seek help when needed - you're not alone in this journey.\n",
    "'''"
   ]
  },
  {
   "cell_type": "code",
   "execution_count": null,
   "metadata": {},
   "outputs": [],
   "source": [
    "final_prompt_evaluation = user_evaluation_prompt.format(counselling_advice=summarized_therapy)\n",
    "evaluation_output = gpt(user_prompt=final_prompt_evaluation, system_prompt=system_evaluation_prompt, temperature=0.7, n=1)"
   ]
  },
  {
   "cell_type": "code",
   "execution_count": null,
   "metadata": {},
   "outputs": [],
   "source": [
    "print(evaluation_output[0])"
   ]
  },
  {
   "cell_type": "code",
   "execution_count": null,
   "metadata": {},
   "outputs": [],
   "source": []
  },
  {
   "cell_type": "markdown",
   "metadata": {},
   "source": [
    "### Testing Code"
   ]
  },
  {
   "cell_type": "code",
   "execution_count": null,
   "metadata": {},
   "outputs": [],
   "source": [
    "final_prompt_therapy = user_prompt_therapy.format(therapy_technique=therapy_list[1], user_input=x, user_past_history=sdoh_prompt)"
   ]
  },
  {
   "cell_type": "code",
   "execution_count": null,
   "metadata": {},
   "outputs": [],
   "source": [
    "print(final_prompt_therapy)"
   ]
  },
  {
   "cell_type": "code",
   "execution_count": null,
   "metadata": {},
   "outputs": [],
   "source": [
    "output = gpt(user_prompt=final_prompt_therapy, temperature=0.7, n=3)"
   ]
  },
  {
   "cell_type": "code",
   "execution_count": null,
   "metadata": {},
   "outputs": [],
   "source": [
    "output"
   ]
  },
  {
   "cell_type": "code",
   "execution_count": null,
   "metadata": {},
   "outputs": [],
   "source": [
    "example_output = output"
   ]
  },
  {
   "cell_type": "code",
   "execution_count": null,
   "metadata": {},
   "outputs": [],
   "source": [
    "extracted_counsel = []\n",
    "for index, out in enumerate(example_output):\n",
    "    match_counsel = re.match(r\".*Therapy Counsel.*:\\n*(.*)\", out, re.DOTALL)\n",
    "    extracted_counsel.append(match_counsel.groups()[0])"
   ]
  },
  {
   "cell_type": "code",
   "execution_count": null,
   "metadata": {},
   "outputs": [],
   "source": [
    "vote_choice = \"\"\n",
    "for index, out in enumerate(extracted_counsel):\n",
    "    vote_choice += \"Choice \" + str(index+1) + \":\\n\\n\" + out + \"\\n\\n\""
   ]
  },
  {
   "cell_type": "code",
   "execution_count": null,
   "metadata": {},
   "outputs": [],
   "source": [
    "print(vote_choice)"
   ]
  },
  {
   "cell_type": "code",
   "execution_count": null,
   "metadata": {},
   "outputs": [],
   "source": [
    "final_prompt_vote = user_vote_prompt.format(user_input=x, user_past_history=sdoh_prompt, counselling_choices=vote_choice)"
   ]
  },
  {
   "cell_type": "code",
   "execution_count": null,
   "metadata": {},
   "outputs": [],
   "source": [
    "output = gpt(user_prompt=final_prompt_vote, system_prompt=system_vote_prompt, temperature=0.7, n=1)"
   ]
  },
  {
   "cell_type": "code",
   "execution_count": null,
   "metadata": {},
   "outputs": [],
   "source": [
    "output"
   ]
  },
  {
   "cell_type": "code",
   "execution_count": null,
   "metadata": {},
   "outputs": [],
   "source": [
    "pattern = r\".*best choice is .*(\\d+).*\"\n",
    "match = re.match(pattern, output[0], re.DOTALL)"
   ]
  },
  {
   "cell_type": "code",
   "execution_count": null,
   "metadata": {},
   "outputs": [],
   "source": [
    "sel_counsel = extracted_counsel[int(match.groups()[0])-1]"
   ]
  },
  {
   "cell_type": "code",
   "execution_count": null,
   "metadata": {},
   "outputs": [],
   "source": [
    "print(sel_counsel)"
   ]
  },
  {
   "cell_type": "code",
   "execution_count": null,
   "metadata": {},
   "outputs": [],
   "source": [
    "cognitive_response = '''\n",
    "I understand that you're feeling lost, disconnected, and critical of yourself right now. It's important to remember that it's okay to feel these things, and it's okay to ask for help.\n",
    "\n",
    "Firstly, let's work on building self-compassion. You're very hard on yourself, and it's crucial to learn to treat yourself with the same kindness you'd extend to others. There are exercises we can work through together to help you build this skill.\n",
    "\n",
    "Secondly, your thought patterns seem to be dominated by negative perceptions of yourself. Cognitive Behavioral Therapy (CBT) can be very effective in identifying and challenging these thoughts, and we can use cognitive restructuring exercises to help you with this.\n",
    "\n",
    "Social situations appear to cause you a lot of distress. We can gradually expose you to these situations in a controlled manner to help reduce your fear over time. Remember, it's okay to be yourself and not everyone needs to approve of you. Your worth is not defined by others' approval.\n",
    "\n",
    "Your need for approval and your feelings about your physical appearance suggest low self-esteem. Building a positive self-image independent of others can be empowering and freeing. \n",
    "\n",
    "Your struggle with emotional expression is something we can address with emotional intelligence training. This will help you understand your emotions and express them appropriately.\n",
    "\n",
    "You've mentioned that you have very few interests. Exploring different activities might help you find something you're passionate about, which can bring joy and purpose into your life.\n",
    "\n",
    "Your difficulties with planning and losing things suggest that working on your organizational skills could be beneficial. This can help reduce anxiety and feelings of being overwhelmed.\n",
    "\n",
    "Finally, incorporating mindfulness and relaxation techniques into your daily routine can help manage feelings of guilt and anxiety, and improve focus and observation skills. \n",
    "\n",
    "Remember, improvement takes time and patience. It's okay to take small steps. You're not alone in this journey, and I'm here to support you along the way.\n",
    "'''"
   ]
  },
  {
   "cell_type": "code",
   "execution_count": null,
   "metadata": {},
   "outputs": [],
   "source": [
    "interpersonal_therapy = '''\n",
    "I understand that you're feeling lost and scared socially, and are struggling with your self-perception. It's okay to feel this way, and it's a step forward that you're acknowledging these feelings. In interpersonal therapy, we focus on the relationships that you have with others, including the one with yourself. \n",
    "\n",
    "It seems like you're seeking approval from others, but it's also important to seek approval from yourself. It's not narcissistic to want to feel good about yourself. Instead of focusing on how others perceive you, let's work on how you perceive yourself. \n",
    "\n",
    "Your relationship with your parents and your fear of falling in love seem to be significant factors in your life. Let's explore these feelings in more depth, and understand how they're affecting your sense of self and interactions with others. \n",
    "\n",
    "You've mentioned that you feel unobservant and impulsive, which can be unsettling. We can work on mindfulness exercises that can help you become more aware of your surroundings and reactions to situations. \n",
    "\n",
    "I understand that you're feeling guilty about not doing more or being a better person. Remember, it's okay to not have all the answers and it's okay to just be. You're not alone, and together, we can navigate these feelings and work towards improving your mental health. \n",
    "\n",
    "Lastly, about your interests, it's okay to not have many interests or hobbies. However, exploring new ones could be a great way for you to connect with others and yourself. Let's start by considering things you've always wanted to do or try, and take it from there.\n",
    "\n",
    "Remember, it's okay to reach out and ask for help. You're not alone in this journey.\n",
    "'''"
   ]
  },
  {
   "cell_type": "code",
   "execution_count": null,
   "metadata": {},
   "outputs": [],
   "source": [
    "mindfulness_therapy = '''\n",
    "I understand that you're feeling lost, and it's okay to feel this way. It's important to remember that everyone has their own unique journey and it's perfectly okay to not have everything figured out.\n",
    "\n",
    "You mentioned feeling scared and judgmental of yourself socially, and that you crave approval. It's not narcissistic to desire approval, it's human. What we'll work on is helping you find a sense of self-approval and self-love, so that you're less reliant on external validation.\n",
    "\n",
    "You also expressed a sense of disconnection from your emotions. Through mindfulness exercises, we'll work on helping you reconnect with your feelings. Mindfulness can help you become an observer of your emotions, rather than feeling overwhelmed or disconnected from them.\n",
    "\n",
    "Regarding your interests, it's okay to not have a long list. We can explore together some activities that might bring you joy and satisfaction. Remember, it's not about doing what everyone else is doing, it's about finding what brings you happiness.\n",
    "\n",
    "In terms of relationships, it's important to remember that it's okay to be single. A partner can be a wonderful addition to life, but it's equally important to feel confident and happy on your own. We can work on developing healthy expectations and boundaries in relationships.\n",
    "\n",
    "Lastly, you mentioned feeling unobservant and impulsive. We'll explore cognitive behavioral techniques to help you challenge these patterns of thinking and behaving, and develop more effective strategies for dealing with real-world scenarios. \n",
    "\n",
    "Remember, it's okay to feel the way you do. You're not alone, and there is help available for you. It's a brave step to reach out, and I encourage you to keep going. You're much stronger than you think.\n",
    "'''"
   ]
  },
  {
   "cell_type": "code",
   "execution_count": null,
   "metadata": {},
   "outputs": [],
   "source": [
    "counsellor_advices = [cognitive_response, interpersonal_therapy, mindfulness_therapy]"
   ]
  },
  {
   "cell_type": "code",
   "execution_count": null,
   "metadata": {},
   "outputs": [],
   "source": [
    "counsellor_advice_choices = \"\"\n",
    "for index, advice in enumerate(counsellor_advices):\n",
    "    counsellor_advice_choices += \"Advice \" + str(index+1) + \":\\n\\n\" + advice + \"\\n\\n\""
   ]
  },
  {
   "cell_type": "code",
   "execution_count": null,
   "metadata": {},
   "outputs": [],
   "source": [
    "final_prompt_summarize = user_summarize_prompt.format(user_input=x, user_past_history=sdoh_prompt, counselling_advices=counsellor_advice_choices)"
   ]
  },
  {
   "cell_type": "code",
   "execution_count": null,
   "metadata": {},
   "outputs": [],
   "source": [
    "print(final_prompt_summarize)"
   ]
  },
  {
   "cell_type": "code",
   "execution_count": null,
   "metadata": {},
   "outputs": [],
   "source": [
    "output = gpt(user_prompt=final_prompt_summarize, system_prompt=system_summarize_prompt, temperature=0.7, n=1)"
   ]
  },
  {
   "cell_type": "code",
   "execution_count": null,
   "metadata": {},
   "outputs": [],
   "source": [
    "print(output[0])"
   ]
  },
  {
   "cell_type": "code",
   "execution_count": null,
   "metadata": {},
   "outputs": [],
   "source": []
  }
 ],
 "metadata": {
  "kernelspec": {
   "display_name": "mental-health-agents",
   "language": "python",
   "name": "python3"
  },
  "language_info": {
   "codemirror_mode": {
    "name": "ipython",
    "version": 3
   },
   "file_extension": ".py",
   "mimetype": "text/x-python",
   "name": "python",
   "nbconvert_exporter": "python",
   "pygments_lexer": "ipython3",
   "version": "3.12.3"
  }
 },
 "nbformat": 4,
 "nbformat_minor": 2
}
