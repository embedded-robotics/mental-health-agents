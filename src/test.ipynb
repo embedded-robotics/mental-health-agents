{
 "cells": [
  {
   "cell_type": "code",
   "execution_count": 1,
   "metadata": {},
   "outputs": [
    {
     "name": "stderr",
     "output_type": "stream",
     "text": [
      "/data/mn27889/miniconda3/envs/mental-health-agents/lib/python3.12/site-packages/tqdm/auto.py:21: TqdmWarning: IProgress not found. Please update jupyter and ipywidgets. See https://ipywidgets.readthedocs.io/en/stable/user_install.html\n",
      "  from .autonotebook import tqdm as notebook_tqdm\n"
     ]
    },
    {
     "name": "stdout",
     "output_type": "stream",
     "text": [
      "path is  /data/mn27889/mental-health-agents/src/sdoh_analysis/helpers/../models/setfit-mental-health-topic-prediction/setfit-small-research-topic-prediction/content/setfit-small-research-topic-prediction\n",
      "True\n"
     ]
    },
    {
     "name": "stderr",
     "output_type": "stream",
     "text": [
      "/data/mn27889/miniconda3/envs/mental-health-agents/lib/python3.12/site-packages/torch/cuda/__init__.py:118: UserWarning: CUDA initialization: The NVIDIA driver on your system is too old (found version 11040). Please update your GPU driver by downloading and installing a new version from the URL: http://www.nvidia.com/Download/index.aspx Alternatively, go to: https://pytorch.org to install a PyTorch version that has been compiled with your version of the CUDA driver. (Triggered internally at ../c10/cuda/CUDAFunctions.cpp:108.)\n",
      "  return torch._C._cuda_getDeviceCount() > 0\n",
      "/data/mn27889/miniconda3/envs/mental-health-agents/lib/python3.12/site-packages/sklearn/base.py:376: InconsistentVersionWarning: Trying to unpickle estimator LogisticRegression from version 1.2.2 when using version 1.4.2. This might lead to breaking code or invalid results. Use at your own risk. For more info please refer to:\n",
      "https://scikit-learn.org/stable/model_persistence.html#security-maintainability-limitations\n",
      "  warnings.warn(\n"
     ]
    },
    {
     "name": "stdout",
     "output_type": "stream",
     "text": [
      "encoding database\n"
     ]
    },
    {
     "name": "stderr",
     "output_type": "stream",
     "text": [
      "2775it [00:00, 476957.49it/s]\n"
     ]
    },
    {
     "name": "stdout",
     "output_type": "stream",
     "text": [
      "got 2511 of 2749 others out bc of size\n"
     ]
    },
    {
     "name": "stderr",
     "output_type": "stream",
     "text": [
      "100%|██████████| 883/883 [00:00<00:00, 314234.72it/s]"
     ]
    },
    {
     "name": "stdout",
     "output_type": "stream",
     "text": [
      "encodnig databsae - this can take a while - TODO - cache this\n"
     ]
    },
    {
     "name": "stderr",
     "output_type": "stream",
     "text": [
      "\n"
     ]
    },
    {
     "name": "stdout",
     "output_type": "stream",
     "text": [
      "db encoded\n"
     ]
    }
   ],
   "source": [
    "from task import *"
   ]
  },
  {
   "cell_type": "code",
   "execution_count": 2,
   "metadata": {},
   "outputs": [],
   "source": [
    "import re"
   ]
  },
  {
   "cell_type": "code",
   "execution_count": 3,
   "metadata": {},
   "outputs": [
    {
     "name": "stderr",
     "output_type": "stream",
     "text": [
      "Repo card metadata block was not found. Setting CardData to empty.\n"
     ]
    }
   ],
   "source": [
    "task = MentalHealthTask()"
   ]
  },
  {
   "cell_type": "code",
   "execution_count": 4,
   "metadata": {},
   "outputs": [],
   "source": [
    "idx = 2\n",
    "x = task.get_input(idx)"
   ]
  },
  {
   "cell_type": "code",
   "execution_count": 5,
   "metadata": {},
   "outputs": [
    {
     "name": "stdout",
     "output_type": "stream",
     "text": [
      " really want to know what’s wrong with me.\n",
      "\n",
      "Socially I’m scared and very judging of myself. Particularly with regards to my emotional expression, I feel I don’t have emotions socially, or they’re not appropriate. I’m awkward and really want the approval of others to know I’m doing okay and they like me. I don’t care who it’s from. I don’t want friends, I just want approval. However I deny myself it because it feels narcissistic, so I’m just quiet. I don’t want to be burdensome. I have no relationship with my parents. I don’t want to fall in love with anyone who’s not my partner because I don’t want to ruin it when it finally happens, I want to save myself for it. However I have never had a partner and may not for many years due to reasons I don’t know. However having a partner is the most important thing in life to me, yet I’m shallow enough to care a lot about their physical appearance.\n",
      "\n",
      "I have very few real interests or interest in doing things that don’t involve women or thinking about myself or or approval. Other people feel so much more real than me, like real humans with real interests and issues. Everything is so dry to me. Unless it involves socialising and then it’s scary. Even porn is starting to be dull. I like music and some films, and old youtube stuff. I’m constantly trying to find out what’s wrong with me and constantly making posts like these, almost obsessionally.\n",
      "\n",
      "I feel very dumb with regards to real world things, like freakishly unobservational and impulsive. It means I almost crash my car a lot, and get lost and lose things all the time. I hate to plan out things, it feels bad.\n",
      "\n",
      "Doing work or anything mildly cumbersome feels horrible as fuck until i get into ‘work mode’,.\n",
      "\n",
      "So I’m just existing basically. And I feel guilty about it. I feel guilty about not being a better person, like I should be saving the world or something, yet at the same time I have no real interest in doing so and it’s painful to work.\n",
      "\n"
     ]
    }
   ],
   "source": [
    "print(x)"
   ]
  },
  {
   "cell_type": "code",
   "execution_count": 6,
   "metadata": {},
   "outputs": [],
   "source": [
    "determinant_prompt, example_format, sdoh_prompt = task.get_cot_sdoh_prompt_data(input=x, idx=idx)"
   ]
  },
  {
   "cell_type": "code",
   "execution_count": 7,
   "metadata": {},
   "outputs": [],
   "source": [
    "final_prompt = user_prompt_persona.format(user_input=x, user_past_history=sdoh_prompt)"
   ]
  },
  {
   "cell_type": "code",
   "execution_count": 8,
   "metadata": {},
   "outputs": [
    {
     "name": "stdout",
     "output_type": "stream",
     "text": [
      "You are given a user input shared by a mentally ill person along with the past history of the same person categorized by social determinants.\n",
      "Considering the user input and the past history of the user, your job is to determine 3 therapy techniques out of the following 8 therapy techniques\n",
      "to better improve the overall mental health of the person: (1) Cognitive Behavioral Therapy (2) Exposure Therapy (3) Psychodynamic Therapy (4) Client Centered Therapy\n",
      "(5) Humanistic Therapy (6) Interpersonal Therapy (7) Mentalization Therapy (8) Mindfulness Therapy.\n",
      "\n",
      "User Input:  really want to know what’s wrong with me.\n",
      "\n",
      "Socially I’m scared and very judging of myself. Particularly with regards to my emotional expression, I feel I don’t have emotions socially, or they’re not appropriate. I’m awkward and really want the approval of others to know I’m doing okay and they like me. I don’t care who it’s from. I don’t want friends, I just want approval. However I deny myself it because it feels narcissistic, so I’m just quiet. I don’t want to be burdensome. I have no relationship with my parents. I don’t want to fall in love with anyone who’s not my partner because I don’t want to ruin it when it finally happens, I want to save myself for it. However I have never had a partner and may not for many years due to reasons I don’t know. However having a partner is the most important thing in life to me, yet I’m shallow enough to care a lot about their physical appearance.\n",
      "\n",
      "I have very few real interests or interest in doing things that don’t involve women or thinking about myself or or approval. Other people feel so much more real than me, like real humans with real interests and issues. Everything is so dry to me. Unless it involves socialising and then it’s scary. Even porn is starting to be dull. I like music and some films, and old youtube stuff. I’m constantly trying to find out what’s wrong with me and constantly making posts like these, almost obsessionally.\n",
      "\n",
      "I feel very dumb with regards to real world things, like freakishly unobservational and impulsive. It means I almost crash my car a lot, and get lost and lose things all the time. I hate to plan out things, it feels bad.\n",
      "\n",
      "Doing work or anything mildly cumbersome feels horrible as fuck until i get into ‘work mode’,.\n",
      "\n",
      "So I’m just existing basically. And I feel guilty about it. I feel guilty about not being a better person, like I should be saving the world or something, yet at the same time I have no real interest in doing so and it’s painful to work.\n",
      "\n",
      "User Past History: Consider the following history of the user:\n",
      "\n",
      "You should output in the same format as: Therapy Technique: | .\n",
      "Following is an example of the answer format: Therapy Technique: Mentalization Therapy | Humanistic Therapy | Psychodynamic Therapy\n",
      "\n"
     ]
    }
   ],
   "source": [
    "print(final_prompt)"
   ]
  },
  {
   "cell_type": "code",
   "execution_count": 9,
   "metadata": {},
   "outputs": [
    {
     "name": "stdout",
     "output_type": "stream",
     "text": [
      "Therapy Technique: Cognitive Behavioral Therapy | Interpersonal Therapy | Mindfulness Therapy\n"
     ]
    }
   ],
   "source": [
    "output = gpt(user_prompt=final_prompt, system_prompt=sys_prompt_persona)\n",
    "answer = output[0]\n",
    "print(answer)"
   ]
  },
  {
   "cell_type": "code",
   "execution_count": 10,
   "metadata": {},
   "outputs": [],
   "source": [
    "match = re.match(r\".*Therapy Technique:([\\s\\|\\w]+).*\", answer, re.DOTALL)"
   ]
  },
  {
   "cell_type": "code",
   "execution_count": 11,
   "metadata": {},
   "outputs": [],
   "source": [
    "therapy_techniques = match.groups()[0]\n",
    "therapy_list = therapy_techniques.split('|')\n",
    "therapy_list = [therapy.strip() for therapy in therapy_list]"
   ]
  },
  {
   "cell_type": "code",
   "execution_count": 14,
   "metadata": {},
   "outputs": [
    {
     "name": "stdout",
     "output_type": "stream",
     "text": [
      "I understand that you're going through a lot right now. It seems like you're struggling with feelings of self-doubt, guilt, and fear of social situations. It's okay to feel this way, and I want to assure you that you're not alone.\n",
      "\n",
      "Firstly, it's important to understand that everyone has their unique pace and way of experiencing emotions, and it's okay if yours are different from others. It doesn't mean that you're less real or less human. Your feelings and experiences are valid, and it's okay to express them.\n",
      "\n",
      "You've mentioned that you constantly seek approval from others, which tells me that you might be doubting your self-worth. It's essential to understand that your value doesn't depend on others' approval. Engaging in activities that you enjoy can help boost your self-esteem and reduce these feelings over time.\n",
      "\n",
      "You also seem to have some fears around social situations. It's okay to feel anxious, but remember that everyone makes mistakes in social settings, and it's a part of learning and growing. With practice, you can improve your social skills and feel more comfortable around others.\n",
      "\n",
      "In terms of your work, it seems like you find it difficult to engage in tasks unless you're in 'work mode'. It might be helpful to explore different career options that align with your interests. \n",
      "\n",
      "You also mentioned a feeling of guilt about not doing enough. It's okay to feel this way, but remember that everyone has their limits. It's important to take care of yourself first before you can help others.\n",
      "\n",
      "Lastly, remember that it's okay to seek help. You're taking the first step by reaching out and trying to understand your feelings. It's a journey, and I'm here to support you through it.\n",
      "Thank you for sharing your feelings and thoughts. I want to assure you that it's okay to feel this way and you're not alone. It seems like you're dealing with a lot internally, particularly with social anxiety, self-judgment, and a need for approval. \n",
      "\n",
      "In interpersonal therapy, we focus on the relationships that may be causing or worsening these feelings. It sounds like your relationship with your parents is one area we could explore. You've mentioned that you don't have a relationship with them, which can significantly impact how you form relationships with others and how you view yourself.\n",
      "\n",
      "You also mentioned a desire for a partner but fear about ruining potential relationships. It's important to remember that everyone has fears about relationships, and it's okay to be cautious. We can work together to explore these feelings more and develop strategies to manage these fears.\n",
      "\n",
      "In terms of interests, it's okay not to have many. However, exploring new hobbies or activities may help you find something you enjoy and can help distract you from constant self-evaluation and approval-seeking behaviors.\n",
      "\n",
      "Lastly, you mentioned feeling guilty about not being a better person. Remember, everyone has their unique strengths and weaknesses, and it's unrealistic to expect oneself to save the world. Let's work on identifying small, realistic ways you can contribute positively to the world and alleviate some of this guilt.\n",
      "\n",
      "Remember, it's okay to feel the way you do, and you're already taking a significant step by seeking help. We'll work together to improve your mental health and navigate through these feelings.\n",
      "I understand that you're feeling lost and overwhelmed right now. It's okay to feel this way, and I commend you for reaching out and sharing your feelings, which is the first step towards healing. \n",
      "\n",
      "From your past history and current feelings, it seems like you're struggling with self-acceptance and self-judgment. It's important to remember that every individual is unique. You don't have to compare yourself with others or seek their approval to feel validated. \n",
      "\n",
      "One thing that can help is mindfulness, focusing on the present moment without judgment. This could help reduce your feelings of fear and anxiety in social situations. There are many techniques to practice mindfulness, such as meditation, deep breathing, and yoga. \n",
      "\n",
      "It sounds like you may also be dealing with negative thoughts and beliefs about yourself. Cognitive Behavioral Therapy can be a helpful tool in identifying these thoughts and learning to challenge them.\n",
      "\n",
      "You mentioned a difficulty in expressing your emotions. Art, music, writing, or even physical activities can be helpful outlets for emotions. They can help you understand and express your feelings in a non-verbal way.\n",
      "\n",
      "You've expressed a desire for a romantic relationship and concerns about your physical appearance requirements. Remember, a healthy relationship is based on mutual respect, understanding, and love, not just physical attributes.\n",
      "\n",
      "Lastly, although you feel like you don't have many interests, I encourage you to explore new activities or hobbies. Finding something you enjoy can bring a sense of achievement and happiness that doesn't rely on others' approval.\n",
      "\n",
      "Remember, it's okay not to have it all figured out. Your feelings are valid, and it's important to give yourself permission to explore who you are and what you want from life at your own pace. It's okay to ask for help, and it's okay to take time for yourself. You're not alone in this journey.\n"
     ]
    }
   ],
   "source": [
    "final_counsel = []\n",
    "for therapy in therapy_list:\n",
    "    final_prompt_therapy = user_prompt_therapy.format(therapy_technique=therapy, user_input=x, user_past_history=sdoh_prompt)\n",
    "    therapy_response = gpt(user_prompt=final_prompt_therapy, temperature=0.7, n=3)\n",
    "\n",
    "    extracted_counsel = []\n",
    "    for index, out in enumerate(therapy_response):\n",
    "        match_counsel = re.match(r\".*Therapy Counsel.*:\\n*(.*)\", out, re.DOTALL)\n",
    "        extracted_counsel.append(match_counsel.groups()[0])\n",
    "    \n",
    "    vote_choice = \"\"\n",
    "    for index, counsel in enumerate(extracted_counsel):\n",
    "        vote_choice += \"Choice \" + str(index+1) + \":\\n\\n\" + counsel + \"\\n\\n\"\n",
    "        \n",
    "    final_prompt_vote = user_vote_prompt.format(user_input=x, user_past_history=sdoh_prompt, counselling_choices=vote_choice)\n",
    "    vote_score = gpt(user_prompt=final_prompt_vote, system_prompt=system_vote_prompt, temperature=0.7, n=1)\n",
    "    match_vote_score = re.match(r\".*best choice is .*(\\d+).*\", vote_score[0], re.DOTALL)\n",
    "    \n",
    "    print(extracted_counsel[int(match_vote_score.groups()[0])-1])\n",
    "    final_counsel.append(extracted_counsel[int(match_vote_score.groups()[0])-1])"
   ]
  },
  {
   "cell_type": "code",
   "execution_count": 15,
   "metadata": {},
   "outputs": [
    {
     "data": {
      "text/plain": [
       "[\"I understand that you're going through a lot right now. It seems like you're struggling with feelings of self-doubt, guilt, and fear of social situations. It's okay to feel this way, and I want to assure you that you're not alone.\\n\\nFirstly, it's important to understand that everyone has their unique pace and way of experiencing emotions, and it's okay if yours are different from others. It doesn't mean that you're less real or less human. Your feelings and experiences are valid, and it's okay to express them.\\n\\nYou've mentioned that you constantly seek approval from others, which tells me that you might be doubting your self-worth. It's essential to understand that your value doesn't depend on others' approval. Engaging in activities that you enjoy can help boost your self-esteem and reduce these feelings over time.\\n\\nYou also seem to have some fears around social situations. It's okay to feel anxious, but remember that everyone makes mistakes in social settings, and it's a part of learning and growing. With practice, you can improve your social skills and feel more comfortable around others.\\n\\nIn terms of your work, it seems like you find it difficult to engage in tasks unless you're in 'work mode'. It might be helpful to explore different career options that align with your interests. \\n\\nYou also mentioned a feeling of guilt about not doing enough. It's okay to feel this way, but remember that everyone has their limits. It's important to take care of yourself first before you can help others.\\n\\nLastly, remember that it's okay to seek help. You're taking the first step by reaching out and trying to understand your feelings. It's a journey, and I'm here to support you through it.\",\n",
       " \"Thank you for sharing your feelings and thoughts. I want to assure you that it's okay to feel this way and you're not alone. It seems like you're dealing with a lot internally, particularly with social anxiety, self-judgment, and a need for approval. \\n\\nIn interpersonal therapy, we focus on the relationships that may be causing or worsening these feelings. It sounds like your relationship with your parents is one area we could explore. You've mentioned that you don't have a relationship with them, which can significantly impact how you form relationships with others and how you view yourself.\\n\\nYou also mentioned a desire for a partner but fear about ruining potential relationships. It's important to remember that everyone has fears about relationships, and it's okay to be cautious. We can work together to explore these feelings more and develop strategies to manage these fears.\\n\\nIn terms of interests, it's okay not to have many. However, exploring new hobbies or activities may help you find something you enjoy and can help distract you from constant self-evaluation and approval-seeking behaviors.\\n\\nLastly, you mentioned feeling guilty about not being a better person. Remember, everyone has their unique strengths and weaknesses, and it's unrealistic to expect oneself to save the world. Let's work on identifying small, realistic ways you can contribute positively to the world and alleviate some of this guilt.\\n\\nRemember, it's okay to feel the way you do, and you're already taking a significant step by seeking help. We'll work together to improve your mental health and navigate through these feelings.\",\n",
       " \"I understand that you're feeling lost and overwhelmed right now. It's okay to feel this way, and I commend you for reaching out and sharing your feelings, which is the first step towards healing. \\n\\nFrom your past history and current feelings, it seems like you're struggling with self-acceptance and self-judgment. It's important to remember that every individual is unique. You don't have to compare yourself with others or seek their approval to feel validated. \\n\\nOne thing that can help is mindfulness, focusing on the present moment without judgment. This could help reduce your feelings of fear and anxiety in social situations. There are many techniques to practice mindfulness, such as meditation, deep breathing, and yoga. \\n\\nIt sounds like you may also be dealing with negative thoughts and beliefs about yourself. Cognitive Behavioral Therapy can be a helpful tool in identifying these thoughts and learning to challenge them.\\n\\nYou mentioned a difficulty in expressing your emotions. Art, music, writing, or even physical activities can be helpful outlets for emotions. They can help you understand and express your feelings in a non-verbal way.\\n\\nYou've expressed a desire for a romantic relationship and concerns about your physical appearance requirements. Remember, a healthy relationship is based on mutual respect, understanding, and love, not just physical attributes.\\n\\nLastly, although you feel like you don't have many interests, I encourage you to explore new activities or hobbies. Finding something you enjoy can bring a sense of achievement and happiness that doesn't rely on others' approval.\\n\\nRemember, it's okay not to have it all figured out. Your feelings are valid, and it's important to give yourself permission to explore who you are and what you want from life at your own pace. It's okay to ask for help, and it's okay to take time for yourself. You're not alone in this journey.\"]"
      ]
     },
     "execution_count": 15,
     "metadata": {},
     "output_type": "execute_result"
    }
   ],
   "source": [
    "final_counsel"
   ]
  },
  {
   "cell_type": "code",
   "execution_count": 16,
   "metadata": {},
   "outputs": [],
   "source": [
    "counsellor_advice_choices = \"\"\n",
    "for index, advice in enumerate(final_counsel):\n",
    "    counsellor_advice_choices += \"Advice \" + str(index+1) + \":\\n\\n\" + advice + \"\\n\\n\"\n",
    "\n",
    "final_prompt_summarize = user_summarize_prompt.format(user_input=x, user_past_history=sdoh_prompt, counselling_advices=counsellor_advice_choices)\n",
    "summarized_response = gpt(user_prompt=final_prompt_summarize, system_prompt=system_summarize_prompt, temperature=0.7, n=1)"
   ]
  },
  {
   "cell_type": "code",
   "execution_count": 18,
   "metadata": {},
   "outputs": [
    {
     "name": "stdout",
     "output_type": "stream",
     "text": [
      "I'm sorry to hear you're feeling this way, but please know that it's okay to feel as you do and you're not alone. Your struggle with self-doubt, guilt, and fear of social situations is valid, and it's good that you're reaching out to understand your feelings better.\n",
      "\n",
      "Based on the advice from multiple counsellors, it seems that you are having a hard time with self-acceptance and you often seek approval from others. Remember, everyone's emotional experience is unique and your feelings are as valid as anyone else's. It's important to understand that your worthiness is not contingent on others' approval. You might find it beneficial to engage in activities you enjoy, as doing so can help improve your self-esteem and shift these feelings over time.\n",
      "\n",
      "You've expressed fear of social situations. Remember, it's okay to make mistakes in social interactions; they're part of the learning process. You can gradually build your social skills and confidence with practice. Mindfulness techniques, such as deep breathing and meditation, could also help in managing anxiety in these situations.\n",
      "\n",
      "Your relationship with your parents, or the lack thereof, and your desire for a partner seem to be significant factors in your life. In therapy, we could explore how these relationships affect your self-perception and your interactions with others. It's okay to be careful about relationships, and we can work together on strategies to manage these fears.\n",
      "\n",
      "You've mentioned your difficulty with work and feeling guilty about not doing enough. It's crucial to remember that we all have limits, and it's okay not to be able to do everything. Exploring career options that align with your interests might make work more enjoyable and less stressful. Also, it's unrealistic and overwhelming to attempt to \"save the world.\" Instead, we can focus on identifying small, realistic ways for you to contribute positively to your environment.\n",
      "\n",
      "In terms of expressing your emotions, consider creative outlets like art, music, or writing. These can provide a non-verbal way to understand and express your feelings. Moreover, it's okay not to have many interests; however, you're encouraged to explore new hobbies or activities. Discovering something you enjoy can give you a sense of achievement and joy that doesn't depend on others' approval.\n",
      "\n",
      "Lastly, remember that a healthy relationship isn't just about physical attributes but mutual respect, understanding, and love. Your feelings are valid, and it's okay to explore who you are and what you want from life at your own pace. Don't hesitate to seek help when needed - you're not alone in this journey.\n"
     ]
    }
   ],
   "source": [
    "print(summarized_response[0])"
   ]
  },
  {
   "cell_type": "markdown",
   "metadata": {},
   "source": [
    "### Testing Code"
   ]
  },
  {
   "cell_type": "code",
   "execution_count": null,
   "metadata": {},
   "outputs": [],
   "source": [
    "final_prompt_therapy = user_prompt_therapy.format(therapy_technique=therapy_list[1], user_input=x, user_past_history=sdoh_prompt)"
   ]
  },
  {
   "cell_type": "code",
   "execution_count": null,
   "metadata": {},
   "outputs": [],
   "source": [
    "print(final_prompt_therapy)"
   ]
  },
  {
   "cell_type": "code",
   "execution_count": null,
   "metadata": {},
   "outputs": [],
   "source": [
    "output = gpt(user_prompt=final_prompt_therapy, temperature=0.7, n=3)"
   ]
  },
  {
   "cell_type": "code",
   "execution_count": null,
   "metadata": {},
   "outputs": [],
   "source": [
    "output"
   ]
  },
  {
   "cell_type": "code",
   "execution_count": null,
   "metadata": {},
   "outputs": [],
   "source": [
    "example_output = output"
   ]
  },
  {
   "cell_type": "code",
   "execution_count": null,
   "metadata": {},
   "outputs": [],
   "source": [
    "extracted_counsel = []\n",
    "for index, out in enumerate(example_output):\n",
    "    match_counsel = re.match(r\".*Therapy Counsel.*:\\n*(.*)\", out, re.DOTALL)\n",
    "    extracted_counsel.append(match_counsel.groups()[0])"
   ]
  },
  {
   "cell_type": "code",
   "execution_count": null,
   "metadata": {},
   "outputs": [],
   "source": [
    "vote_choice = \"\"\n",
    "for index, out in enumerate(extracted_counsel):\n",
    "    vote_choice += \"Choice \" + str(index+1) + \":\\n\\n\" + out + \"\\n\\n\""
   ]
  },
  {
   "cell_type": "code",
   "execution_count": null,
   "metadata": {},
   "outputs": [],
   "source": [
    "print(vote_choice)"
   ]
  },
  {
   "cell_type": "code",
   "execution_count": null,
   "metadata": {},
   "outputs": [],
   "source": [
    "final_prompt_vote = user_vote_prompt.format(user_input=x, user_past_history=sdoh_prompt, counselling_choices=vote_choice)"
   ]
  },
  {
   "cell_type": "code",
   "execution_count": null,
   "metadata": {},
   "outputs": [],
   "source": [
    "output = gpt(user_prompt=final_prompt_vote, system_prompt=system_vote_prompt, temperature=0.7, n=1)"
   ]
  },
  {
   "cell_type": "code",
   "execution_count": null,
   "metadata": {},
   "outputs": [],
   "source": [
    "output"
   ]
  },
  {
   "cell_type": "code",
   "execution_count": null,
   "metadata": {},
   "outputs": [],
   "source": [
    "pattern = r\".*best choice is .*(\\d+).*\"\n",
    "match = re.match(pattern, output[0], re.DOTALL)"
   ]
  },
  {
   "cell_type": "code",
   "execution_count": null,
   "metadata": {},
   "outputs": [],
   "source": [
    "sel_counsel = extracted_counsel[int(match.groups()[0])-1]"
   ]
  },
  {
   "cell_type": "code",
   "execution_count": null,
   "metadata": {},
   "outputs": [],
   "source": [
    "print(sel_counsel)"
   ]
  },
  {
   "cell_type": "code",
   "execution_count": null,
   "metadata": {},
   "outputs": [],
   "source": [
    "cognitive_response = '''\n",
    "I understand that you're feeling lost, disconnected, and critical of yourself right now. It's important to remember that it's okay to feel these things, and it's okay to ask for help.\n",
    "\n",
    "Firstly, let's work on building self-compassion. You're very hard on yourself, and it's crucial to learn to treat yourself with the same kindness you'd extend to others. There are exercises we can work through together to help you build this skill.\n",
    "\n",
    "Secondly, your thought patterns seem to be dominated by negative perceptions of yourself. Cognitive Behavioral Therapy (CBT) can be very effective in identifying and challenging these thoughts, and we can use cognitive restructuring exercises to help you with this.\n",
    "\n",
    "Social situations appear to cause you a lot of distress. We can gradually expose you to these situations in a controlled manner to help reduce your fear over time. Remember, it's okay to be yourself and not everyone needs to approve of you. Your worth is not defined by others' approval.\n",
    "\n",
    "Your need for approval and your feelings about your physical appearance suggest low self-esteem. Building a positive self-image independent of others can be empowering and freeing. \n",
    "\n",
    "Your struggle with emotional expression is something we can address with emotional intelligence training. This will help you understand your emotions and express them appropriately.\n",
    "\n",
    "You've mentioned that you have very few interests. Exploring different activities might help you find something you're passionate about, which can bring joy and purpose into your life.\n",
    "\n",
    "Your difficulties with planning and losing things suggest that working on your organizational skills could be beneficial. This can help reduce anxiety and feelings of being overwhelmed.\n",
    "\n",
    "Finally, incorporating mindfulness and relaxation techniques into your daily routine can help manage feelings of guilt and anxiety, and improve focus and observation skills. \n",
    "\n",
    "Remember, improvement takes time and patience. It's okay to take small steps. You're not alone in this journey, and I'm here to support you along the way.\n",
    "'''"
   ]
  },
  {
   "cell_type": "code",
   "execution_count": null,
   "metadata": {},
   "outputs": [],
   "source": [
    "interpersonal_therapy = '''\n",
    "I understand that you're feeling lost and scared socially, and are struggling with your self-perception. It's okay to feel this way, and it's a step forward that you're acknowledging these feelings. In interpersonal therapy, we focus on the relationships that you have with others, including the one with yourself. \n",
    "\n",
    "It seems like you're seeking approval from others, but it's also important to seek approval from yourself. It's not narcissistic to want to feel good about yourself. Instead of focusing on how others perceive you, let's work on how you perceive yourself. \n",
    "\n",
    "Your relationship with your parents and your fear of falling in love seem to be significant factors in your life. Let's explore these feelings in more depth, and understand how they're affecting your sense of self and interactions with others. \n",
    "\n",
    "You've mentioned that you feel unobservant and impulsive, which can be unsettling. We can work on mindfulness exercises that can help you become more aware of your surroundings and reactions to situations. \n",
    "\n",
    "I understand that you're feeling guilty about not doing more or being a better person. Remember, it's okay to not have all the answers and it's okay to just be. You're not alone, and together, we can navigate these feelings and work towards improving your mental health. \n",
    "\n",
    "Lastly, about your interests, it's okay to not have many interests or hobbies. However, exploring new ones could be a great way for you to connect with others and yourself. Let's start by considering things you've always wanted to do or try, and take it from there.\n",
    "\n",
    "Remember, it's okay to reach out and ask for help. You're not alone in this journey.\n",
    "'''"
   ]
  },
  {
   "cell_type": "code",
   "execution_count": null,
   "metadata": {},
   "outputs": [],
   "source": [
    "mindfulness_therapy = '''\n",
    "I understand that you're feeling lost, and it's okay to feel this way. It's important to remember that everyone has their own unique journey and it's perfectly okay to not have everything figured out.\n",
    "\n",
    "You mentioned feeling scared and judgmental of yourself socially, and that you crave approval. It's not narcissistic to desire approval, it's human. What we'll work on is helping you find a sense of self-approval and self-love, so that you're less reliant on external validation.\n",
    "\n",
    "You also expressed a sense of disconnection from your emotions. Through mindfulness exercises, we'll work on helping you reconnect with your feelings. Mindfulness can help you become an observer of your emotions, rather than feeling overwhelmed or disconnected from them.\n",
    "\n",
    "Regarding your interests, it's okay to not have a long list. We can explore together some activities that might bring you joy and satisfaction. Remember, it's not about doing what everyone else is doing, it's about finding what brings you happiness.\n",
    "\n",
    "In terms of relationships, it's important to remember that it's okay to be single. A partner can be a wonderful addition to life, but it's equally important to feel confident and happy on your own. We can work on developing healthy expectations and boundaries in relationships.\n",
    "\n",
    "Lastly, you mentioned feeling unobservant and impulsive. We'll explore cognitive behavioral techniques to help you challenge these patterns of thinking and behaving, and develop more effective strategies for dealing with real-world scenarios. \n",
    "\n",
    "Remember, it's okay to feel the way you do. You're not alone, and there is help available for you. It's a brave step to reach out, and I encourage you to keep going. You're much stronger than you think.\n",
    "'''"
   ]
  },
  {
   "cell_type": "code",
   "execution_count": null,
   "metadata": {},
   "outputs": [],
   "source": [
    "counsellor_advices = [cognitive_response, interpersonal_therapy, mindfulness_therapy]"
   ]
  },
  {
   "cell_type": "code",
   "execution_count": null,
   "metadata": {},
   "outputs": [],
   "source": [
    "counsellor_advice_choices = \"\"\n",
    "for index, advice in enumerate(counsellor_advices):\n",
    "    counsellor_advice_choices += \"Advice \" + str(index+1) + \":\\n\\n\" + advice + \"\\n\\n\""
   ]
  },
  {
   "cell_type": "code",
   "execution_count": null,
   "metadata": {},
   "outputs": [],
   "source": [
    "final_prompt_summarize = user_summarize_prompt.format(user_input=x, user_past_history=sdoh_prompt, counselling_advices=counsellor_advice_choices)"
   ]
  },
  {
   "cell_type": "code",
   "execution_count": null,
   "metadata": {},
   "outputs": [],
   "source": [
    "print(final_prompt_summarize)"
   ]
  },
  {
   "cell_type": "code",
   "execution_count": null,
   "metadata": {},
   "outputs": [],
   "source": [
    "output = gpt(user_prompt=final_prompt_summarize, system_prompt=system_summarize_prompt, temperature=0.7, n=1)"
   ]
  },
  {
   "cell_type": "code",
   "execution_count": null,
   "metadata": {},
   "outputs": [],
   "source": [
    "print(output[0])"
   ]
  },
  {
   "cell_type": "code",
   "execution_count": null,
   "metadata": {},
   "outputs": [],
   "source": []
  }
 ],
 "metadata": {
  "kernelspec": {
   "display_name": "mental-health-agents",
   "language": "python",
   "name": "python3"
  },
  "language_info": {
   "codemirror_mode": {
    "name": "ipython",
    "version": 3
   },
   "file_extension": ".py",
   "mimetype": "text/x-python",
   "name": "python",
   "nbconvert_exporter": "python",
   "pygments_lexer": "ipython3",
   "version": "3.12.3"
  }
 },
 "nbformat": 4,
 "nbformat_minor": 2
}
