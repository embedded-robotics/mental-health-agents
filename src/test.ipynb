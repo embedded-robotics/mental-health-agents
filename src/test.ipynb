{
 "cells": [
  {
   "cell_type": "code",
   "execution_count": 1,
   "metadata": {},
   "outputs": [
    {
     "name": "stderr",
     "output_type": "stream",
     "text": [
      "/data/mn27889/miniconda3/envs/mental-health-agents/lib/python3.12/site-packages/tqdm/auto.py:21: TqdmWarning: IProgress not found. Please update jupyter and ipywidgets. See https://ipywidgets.readthedocs.io/en/stable/user_install.html\n",
      "  from .autonotebook import tqdm as notebook_tqdm\n"
     ]
    },
    {
     "name": "stdout",
     "output_type": "stream",
     "text": [
      "path is  /data/mn27889/mental-health-agents/src/sdoh_analysis/helpers/../models/setfit-mental-health-topic-prediction/setfit-small-research-topic-prediction/content/setfit-small-research-topic-prediction\n",
      "True\n"
     ]
    },
    {
     "name": "stderr",
     "output_type": "stream",
     "text": [
      "/data/mn27889/miniconda3/envs/mental-health-agents/lib/python3.12/site-packages/torch/cuda/__init__.py:118: UserWarning: CUDA initialization: The NVIDIA driver on your system is too old (found version 11040). Please update your GPU driver by downloading and installing a new version from the URL: http://www.nvidia.com/Download/index.aspx Alternatively, go to: https://pytorch.org to install a PyTorch version that has been compiled with your version of the CUDA driver. (Triggered internally at ../c10/cuda/CUDAFunctions.cpp:108.)\n",
      "  return torch._C._cuda_getDeviceCount() > 0\n",
      "/data/mn27889/miniconda3/envs/mental-health-agents/lib/python3.12/site-packages/sklearn/base.py:376: InconsistentVersionWarning: Trying to unpickle estimator LogisticRegression from version 1.2.2 when using version 1.4.2. This might lead to breaking code or invalid results. Use at your own risk. For more info please refer to:\n",
      "https://scikit-learn.org/stable/model_persistence.html#security-maintainability-limitations\n",
      "  warnings.warn(\n"
     ]
    },
    {
     "name": "stdout",
     "output_type": "stream",
     "text": [
      "encoding database\n"
     ]
    },
    {
     "name": "stderr",
     "output_type": "stream",
     "text": [
      "2775it [00:00, 483917.91it/s]\n"
     ]
    },
    {
     "name": "stdout",
     "output_type": "stream",
     "text": [
      "got 2511 of 2749 others out bc of size\n"
     ]
    },
    {
     "name": "stderr",
     "output_type": "stream",
     "text": [
      "100%|██████████| 883/883 [00:00<00:00, 299399.39it/s]"
     ]
    },
    {
     "name": "stdout",
     "output_type": "stream",
     "text": [
      "encodnig databsae - this can take a while - TODO - cache this\n"
     ]
    },
    {
     "name": "stderr",
     "output_type": "stream",
     "text": [
      "\n"
     ]
    },
    {
     "name": "stdout",
     "output_type": "stream",
     "text": [
      "db encoded\n"
     ]
    }
   ],
   "source": [
    "from task import *"
   ]
  },
  {
   "cell_type": "code",
   "execution_count": 2,
   "metadata": {},
   "outputs": [],
   "source": [
    "import re"
   ]
  },
  {
   "cell_type": "code",
   "execution_count": 3,
   "metadata": {},
   "outputs": [
    {
     "name": "stderr",
     "output_type": "stream",
     "text": [
      "Repo card metadata block was not found. Setting CardData to empty.\n"
     ]
    }
   ],
   "source": [
    "task = MentalHealthTask()"
   ]
  },
  {
   "cell_type": "code",
   "execution_count": 4,
   "metadata": {},
   "outputs": [],
   "source": [
    "idx = 0\n",
    "x = task.get_input(idx)"
   ]
  },
  {
   "cell_type": "code",
   "execution_count": 5,
   "metadata": {},
   "outputs": [
    {
     "name": "stdout",
     "output_type": "stream",
     "text": [
      "Life is so stagnant. I can't seem to motivate myself to care about anything outside of what I'm told is needed to be done by me. I go to work because I'm told it's what I need to do to support my mom and sister. So I do what needs to be done, but when all is done, I feel like I'm rotting in a perfectly good body that should've gone to someone who would more enjoy it.\n",
      "\n",
      "There is no satisfaction in my job, I work alone all day tortured by my own mind for 8 hours day, this pushes me to the point of physically beating on myself in hopes I calm down enough to keep working. I've started smoking whatever is able to be acquired legally to get theiught work. I wake up dreading work and miserable, wanting all day for it to end, just to come home and then rot doing nothing. I'll listen to music, or play games but only because it's what I used to do, I don't feel nearly any joy playing games anymore compared to how it used to be. I buy more games, to then not play them and complain there is nothing to do. Soon I find myself somehow wanting to go back to work, yet every fiber in my body knows that can't be true. It's a torturous, confusing cycle that never ends.\n",
      "\n",
      "I love my mom, she's had a rough life and I, despite doing extremely poorly at it, want to try and be there for her until her end. Her death scares me and it may be the only thing in this world that truly does anymore, however I'm unwilling to make her say goodbye her son, especially after she had to do so with her husband. While Dad's death definitely had an affect on me, I can't say I havent felt this way long before it. Even at 12, life always seemed pointless, and ever sense 14 the idea or being dead has looked far more favorable. I do feel awful about it, my mom tries so hard to bring happiness to me and it just seems I can't feel it anymore. I feel like a black sheep in the world of happy people but I know that can't be true. My mom lost her husband, my sister her dad. It's no secret they aren't happy, yet they can still put on an act and try their hardest, yet here I am. I am the killjoy, I bring the mood down even my own dogs are standoffish.\n",
      "\n",
      "There is comfort in my own darkness for me. I can't help but feel that after all my business is taken care of I will leave here, not as a matter of if but when, by my own hands and that is a relief. I would be lying if I said suicide doesn't have a home inside my brain. It's with me from time I wake up to the time I shut my eyes, most if not everyday. The intensity varies, some days it's just a \"I wish I wasn't alive\" and other days I can imagine my body slapping right into the ocean 200ft down to be found by whoever stumbles across my corpse. It comforts me knowing that whatever/whenever I deem life has gone \"too far\" I can always end my life, leaving behind mountains on anxiety, disappointment, regrets and resentment towards both this world and myself.\n",
      "\n",
      "I'm not looking for help as much as to rant, trying not to just drink away these emotions tonight. I know I have something wrong inside my head, I know I should seek therapy, but something in me doesn't want to. There's comfort in this illness, comfort that the day life gets too overwhelming, the day the one person I care about finally goes, I can finally say I've tried my hardest and then let go of everything too.\n"
     ]
    }
   ],
   "source": [
    "print(x)"
   ]
  },
  {
   "cell_type": "code",
   "execution_count": 6,
   "metadata": {},
   "outputs": [],
   "source": [
    "determinant_prompt, example_format, sdoh_prompt = task.get_cot_sdoh_prompt_data(input=x, idx=idx)"
   ]
  },
  {
   "cell_type": "code",
   "execution_count": 7,
   "metadata": {},
   "outputs": [],
   "source": [
    "final_prompt = user_prompt_persona.format(user_input=x, user_past_history=sdoh_prompt)"
   ]
  },
  {
   "cell_type": "code",
   "execution_count": 8,
   "metadata": {},
   "outputs": [
    {
     "name": "stdout",
     "output_type": "stream",
     "text": [
      "You are given a user input shared by a mentally ill person along with the past history of the same person categorized by social determinants.\n",
      "Considering the user input and the past history of the user, your job is to determine 3 therapy techniques out of the following 8 therapy techniques\n",
      "to better improve the overall mental health of the person: (1) Cognitive Behavioral Therapy (2) Exposure Therapy (3) Psychodynamic Therapy (4) Client Centered Therapy\n",
      "(5) Humanistic Therapy (6) Interpersonal Therapy (7) Mentalization Therapy (8) Mindfulness Therapy.\n",
      "\n",
      "User Input: Life is so stagnant. I can't seem to motivate myself to care about anything outside of what I'm told is needed to be done by me. I go to work because I'm told it's what I need to do to support my mom and sister. So I do what needs to be done, but when all is done, I feel like I'm rotting in a perfectly good body that should've gone to someone who would more enjoy it.\n",
      "\n",
      "There is no satisfaction in my job, I work alone all day tortured by my own mind for 8 hours day, this pushes me to the point of physically beating on myself in hopes I calm down enough to keep working. I've started smoking whatever is able to be acquired legally to get theiught work. I wake up dreading work and miserable, wanting all day for it to end, just to come home and then rot doing nothing. I'll listen to music, or play games but only because it's what I used to do, I don't feel nearly any joy playing games anymore compared to how it used to be. I buy more games, to then not play them and complain there is nothing to do. Soon I find myself somehow wanting to go back to work, yet every fiber in my body knows that can't be true. It's a torturous, confusing cycle that never ends.\n",
      "\n",
      "I love my mom, she's had a rough life and I, despite doing extremely poorly at it, want to try and be there for her until her end. Her death scares me and it may be the only thing in this world that truly does anymore, however I'm unwilling to make her say goodbye her son, especially after she had to do so with her husband. While Dad's death definitely had an affect on me, I can't say I havent felt this way long before it. Even at 12, life always seemed pointless, and ever sense 14 the idea or being dead has looked far more favorable. I do feel awful about it, my mom tries so hard to bring happiness to me and it just seems I can't feel it anymore. I feel like a black sheep in the world of happy people but I know that can't be true. My mom lost her husband, my sister her dad. It's no secret they aren't happy, yet they can still put on an act and try their hardest, yet here I am. I am the killjoy, I bring the mood down even my own dogs are standoffish.\n",
      "\n",
      "There is comfort in my own darkness for me. I can't help but feel that after all my business is taken care of I will leave here, not as a matter of if but when, by my own hands and that is a relief. I would be lying if I said suicide doesn't have a home inside my brain. It's with me from time I wake up to the time I shut my eyes, most if not everyday. The intensity varies, some days it's just a \"I wish I wasn't alive\" and other days I can imagine my body slapping right into the ocean 200ft down to be found by whoever stumbles across my corpse. It comforts me knowing that whatever/whenever I deem life has gone \"too far\" I can always end my life, leaving behind mountains on anxiety, disappointment, regrets and resentment towards both this world and myself.\n",
      "\n",
      "I'm not looking for help as much as to rant, trying not to just drink away these emotions tonight. I know I have something wrong inside my head, I know I should seek therapy, but something in me doesn't want to. There's comfort in this illness, comfort that the day life gets too overwhelming, the day the one person I care about finally goes, I can finally say I've tried my hardest and then let go of everything too.\n",
      "User Past History: Consider the following history of the user:\n",
      "\n",
      "\n",
      "\n",
      "\n",
      "\n",
      "On 2024-02-22 10:11:06 the user made a post, we have summarized info about social determinants of health present in the post\n",
      "\temployment status:The author expresses interest in making a custom purchase, indicating they have the ability to make this purchase, which could have a positive impact on their mental health.\n",
      "\n",
      "\n",
      "\teconomic class:The author mentions that the prices are good, suggesting they have the financial means to make a custom order, which likely has a positive impact on their mental health.\n",
      "\n",
      "\n",
      "\tsocial acceptance:The author seeks validation from others by asking if the seller is legit, indicating a desire for social acceptance which may positively impact their mental health.\n",
      "\n",
      "\n",
      "\n",
      "\n",
      "On 2024-04-21 11:20:16 the user made a post, we have summarized info about social determinants of health present in the post\n",
      "\temployment status:The user feels obligated to work to support their mom and sister, causing stress and dissatisfaction\n",
      "\n",
      "\n",
      "\teconomic class:The financial struggles of supporting family contribute to feelings of burden and hopelessness\n",
      "\n",
      "\n",
      "\tsocial acceptance:The user feels like a black sheep among happy people, lacking social acceptance\n",
      "\n",
      "\n",
      "\tfamilial relations:The user's close relationship with their mom and sister, and the impact of their father's death, adds to feelings of despair and hopelessness\n",
      "\n",
      "You should output in the same format as: Therapy Technique: | .\n",
      "Following is an example of the answer format: Therapy Technique: Mentalization Therapy | Humanistic Therapy | Psychodynamic Therapy\n",
      "\n"
     ]
    }
   ],
   "source": [
    "print(final_prompt)"
   ]
  },
  {
   "cell_type": "code",
   "execution_count": 9,
   "metadata": {},
   "outputs": [],
   "source": [
    "# output = gpt(system_prompt=sys_prompt_persona, user_prompt=final_prompt)\n",
    "# answer = output[0]"
   ]
  },
  {
   "cell_type": "code",
   "execution_count": 10,
   "metadata": {},
   "outputs": [],
   "source": [
    "answer  = 'Therapy Technique: Cognitive Behavioral Therapy | Interpersonal Therapy | Mindfulness Therapy'"
   ]
  },
  {
   "cell_type": "code",
   "execution_count": 11,
   "metadata": {},
   "outputs": [],
   "source": [
    "match = re.match(r\".*Therapy Technique:([\\s\\|\\w]+).*\", answer)"
   ]
  },
  {
   "cell_type": "code",
   "execution_count": 12,
   "metadata": {},
   "outputs": [],
   "source": [
    "therapy_techniques = match.groups()[0]\n",
    "therapy_list = therapy_techniques.split('|')\n",
    "therapy_list = [therapy.strip() for therapy in therapy_list]"
   ]
  },
  {
   "cell_type": "code",
   "execution_count": 13,
   "metadata": {},
   "outputs": [],
   "source": [
    "final_prompt_system = sys_prompt_therapy.format(therapy_technique=therapy_list[0])"
   ]
  },
  {
   "cell_type": "code",
   "execution_count": 32,
   "metadata": {},
   "outputs": [],
   "source": [
    "user_prompt_therapy = '''You are given a user input shared by a mentally ill person along with the past history of the same person categorized by social determinants.\n",
    "Considering the user input and the past history, your job is to adopt the practices used in Congnitive Behavior Therapy and provide mental health support to this person such that it improves the overall mental health of the person and\n",
    "also alleviate the suicidal thoughts (if any) from the user mind.\n",
    "\n",
    "You firstly need to make a comprehensive personalized plan and then write a comprehensive counselling advice based on that plan. You should personalize your plan and counselling advice\n",
    "according to the specific scenario of this person i.e., you should mention information provided in the user input as well as the past history and then try to develop\n",
    "your plan/counselling around this information.\n",
    "\n",
    "User Input: {user_input}\n",
    "\n",
    "User Past History: {user_past_history}\n",
    "\n",
    "Plan:\n",
    "Your plan here\n",
    "\n",
    "Counsel:\n",
    "Your counsel here\n",
    "'''"
   ]
  },
  {
   "cell_type": "code",
   "execution_count": 37,
   "metadata": {},
   "outputs": [],
   "source": [
    "final_prompt_therapy = user_prompt_therapy.format(user_input=x, user_past_history=sdoh_prompt)"
   ]
  },
  {
   "cell_type": "code",
   "execution_count": 38,
   "metadata": {},
   "outputs": [
    {
     "name": "stdout",
     "output_type": "stream",
     "text": [
      "You are given a user input shared by a mentally ill person along with the past history of the same person categorized by social determinants.\n",
      "Considering the user input and the past history, your job is to adopt the technique of Congnitive Behavior Therapy and provide mental health support to this person such that it improves the overall mental health of the person and\n",
      "also alleviate the suicidal thoughts (if any) from the user mind.'\n",
      "\n",
      "You firstly need to make a comprehensive personalized plan and then write a comprehensive counselling advice based on that plan. You should personalize your plan and counselling advice\n",
      "according to the specific scenario of this person i.e., you should mention information provided in the user input as well as the past history and then try to develop\n",
      "your plan/counselling around this information.\n",
      "\n",
      "User Input: Life is so stagnant. I can't seem to motivate myself to care about anything outside of what I'm told is needed to be done by me. I go to work because I'm told it's what I need to do to support my mom and sister. So I do what needs to be done, but when all is done, I feel like I'm rotting in a perfectly good body that should've gone to someone who would more enjoy it.\n",
      "\n",
      "There is no satisfaction in my job, I work alone all day tortured by my own mind for 8 hours day, this pushes me to the point of physically beating on myself in hopes I calm down enough to keep working. I've started smoking whatever is able to be acquired legally to get theiught work. I wake up dreading work and miserable, wanting all day for it to end, just to come home and then rot doing nothing. I'll listen to music, or play games but only because it's what I used to do, I don't feel nearly any joy playing games anymore compared to how it used to be. I buy more games, to then not play them and complain there is nothing to do. Soon I find myself somehow wanting to go back to work, yet every fiber in my body knows that can't be true. It's a torturous, confusing cycle that never ends.\n",
      "\n",
      "I love my mom, she's had a rough life and I, despite doing extremely poorly at it, want to try and be there for her until her end. Her death scares me and it may be the only thing in this world that truly does anymore, however I'm unwilling to make her say goodbye her son, especially after she had to do so with her husband. While Dad's death definitely had an affect on me, I can't say I havent felt this way long before it. Even at 12, life always seemed pointless, and ever sense 14 the idea or being dead has looked far more favorable. I do feel awful about it, my mom tries so hard to bring happiness to me and it just seems I can't feel it anymore. I feel like a black sheep in the world of happy people but I know that can't be true. My mom lost her husband, my sister her dad. It's no secret they aren't happy, yet they can still put on an act and try their hardest, yet here I am. I am the killjoy, I bring the mood down even my own dogs are standoffish.\n",
      "\n",
      "There is comfort in my own darkness for me. I can't help but feel that after all my business is taken care of I will leave here, not as a matter of if but when, by my own hands and that is a relief. I would be lying if I said suicide doesn't have a home inside my brain. It's with me from time I wake up to the time I shut my eyes, most if not everyday. The intensity varies, some days it's just a \"I wish I wasn't alive\" and other days I can imagine my body slapping right into the ocean 200ft down to be found by whoever stumbles across my corpse. It comforts me knowing that whatever/whenever I deem life has gone \"too far\" I can always end my life, leaving behind mountains on anxiety, disappointment, regrets and resentment towards both this world and myself.\n",
      "\n",
      "I'm not looking for help as much as to rant, trying not to just drink away these emotions tonight. I know I have something wrong inside my head, I know I should seek therapy, but something in me doesn't want to. There's comfort in this illness, comfort that the day life gets too overwhelming, the day the one person I care about finally goes, I can finally say I've tried my hardest and then let go of everything too.\n",
      "\n",
      "User Past History: Consider the following history of the user:\n",
      "\n",
      "\n",
      "\n",
      "\n",
      "\n",
      "On 2024-02-22 10:11:06 the user made a post, we have summarized info about social determinants of health present in the post\n",
      "\temployment status:The author expresses interest in making a custom purchase, indicating they have the ability to make this purchase, which could have a positive impact on their mental health.\n",
      "\n",
      "\n",
      "\teconomic class:The author mentions that the prices are good, suggesting they have the financial means to make a custom order, which likely has a positive impact on their mental health.\n",
      "\n",
      "\n",
      "\tsocial acceptance:The author seeks validation from others by asking if the seller is legit, indicating a desire for social acceptance which may positively impact their mental health.\n",
      "\n",
      "\n",
      "\n",
      "\n",
      "On 2024-04-21 11:20:16 the user made a post, we have summarized info about social determinants of health present in the post\n",
      "\temployment status:The user feels obligated to work to support their mom and sister, causing stress and dissatisfaction\n",
      "\n",
      "\n",
      "\teconomic class:The financial struggles of supporting family contribute to feelings of burden and hopelessness\n",
      "\n",
      "\n",
      "\tsocial acceptance:The user feels like a black sheep among happy people, lacking social acceptance\n",
      "\n",
      "\n",
      "\tfamilial relations:The user's close relationship with their mom and sister, and the impact of their father's death, adds to feelings of despair and hopelessness\n",
      "\n",
      "Plan:\n",
      "Your plan here\n",
      "\n",
      "Counsel:\n",
      "Your counsel here\n",
      "\n"
     ]
    }
   ],
   "source": [
    "print(final_prompt_therapy)"
   ]
  },
  {
   "cell_type": "code",
   "execution_count": 39,
   "metadata": {},
   "outputs": [],
   "source": [
    "output = gpt(user_prompt=final_prompt_therapy, temperature=0.7, n=3)"
   ]
  },
  {
   "cell_type": "code",
   "execution_count": 42,
   "metadata": {},
   "outputs": [
    {
     "data": {
      "text/plain": [
       "[\"Plan:\\n1. Establish rapport and create a safe space for open communication.\\n2. Ascertain the degree of suicidal ideation and immediate risk to self.\\n3. Encourage the expression of feelings and validate the user's experiences.\\n4. Encourage the user to seek professional help, either through in-person therapy or telehealth services.\\n5. Encourage the user to explore different coping strategies such as mindfulness techniques, physical activities, or new hobbies.\\n6. Suggest the user to consider engaging in activities with their mom and sister to build a stronger bond and to create positive experiences.\\n7. Encourage the user to reconsider their work situation, potentially seeking a change in job or work environment if it’s causing significant distress.\\n8. Encourage the user to join support groups or online communities where they can connect with people who are experiencing similar struggles.\\n9. Suggest the user to explore new ways of finding satisfaction outside of work, such as volunteering or pursuing a passion project.\\n10. Encourage the user to consider medication if recommended by a mental health professional.\\n\\nCounsel:\\nFirstly, I want you to know that I hear your pain and your struggle. It sounds like you're dealing with a lot of weight on your shoulders, and it's completely understandable to feel overwhelmed. You're not alone in this, and there are people who want to help. \\n\\nYour feelings of stagnation, lack of joy, and constant dread of each day are serious and it's important that you reach out to a mental health professional who can provide the support and guidance you need. There's no shame in seeking help, and it doesn't mean you're weak or failing. It's an important step towards feeling better.\\n\\nIt sounds like you take your role as a provider for your mom and sister very seriously, which speaks volumes about your character and love for them. But it's also important to look after your own well-being. If your work situation is causing you significant distress, it might be worth exploring other options. Could there be other jobs where you might find more satisfaction, or could you change your work environment in some way to make it more bearable?\\n\\nYou mentioned that you used to find joy in playing games and listening to music, but that's been lost. It might be helpful to explore new hobbies or activities that could bring some happiness back into your life. This could be anything from painting, writing, hiking, or even cooking. It might also be helpful to engage in activities with your mom and sister, as this could strengthen your bond with them and create new positive experiences.\\n\\nI also hear that you're struggling with thoughts of suicide. This must be incredibly hard for you, but please reach out to a mental health professional immediately. There are many resources available for people who are feeling this way, and it's crucial that you let someone know what you're going through so they can provide the help that you need. \\n\\nLastly, keep in mind that it's okay to feel the way you do. It's okay to not be okay. But remember, it's important to take care of your mental health and you don't have to do it alone. There are people and resources available to help and support you.\",\n",
       " \"Plan:\\n1. Establish a Safe Environment: Due to the severity of the user's suicidal thoughts, the first step is to ensure they are in a safe environment and aren't in immediate danger. If possible, reach out to local resources or authorities to provide immediate assistance.\\n2. Encourage Professional Help: Encourage the user to seek professional therapy, explaining that it is a safe space to express feelings and work through emotions. \\n3. Building a Support Network: Encourage the user to lean on their family and friends for support. Help them understand that it's okay to express their feelings and ask for help.\\n4. Encourage Lifestyle Changes: Discuss the potential benefits of regular exercise, a healthy diet, good sleep hygiene, and other physical health improvements that can directly impact mental health. \\n5. Introduce Coping Mechanisms: Discuss strategies like mindfulness, breathing exercises, journaling and art therapy as ways to cope with negative thoughts. \\n6. Identify Triggers and Create a Safety Plan: Help the user identify triggers or situations that increase their feelings of despair and develop a safety plan for these situations.\\n\\nCounsel:\\n\\nI'm really sorry that you're feeling this way, but I'm unable to provide the help that you need. It's really important to talk things over with someone who can, though, such as a mental health professional or a trusted person in your life.\\n\\nFrom your past history, it seems that you have the financial stability to seek professional mental health services, and I strongly encourage you to do so. Sometimes, our minds can be our worst enemies, and having a professional to talk to can help you navigate your feelings and develop strategies to cope with them. \\n\\nI understand that you feel like you're carrying a heavy burden, particularly with the responsibility of supporting your mom and sister. It's clear that you care deeply for them, and it's important to remember that seeking help for yourself isn't a selfish act. In fact, it's quite the opposite - by taking care of your own mental health, you're also taking care of theirs.\\n\\nYou mentioned not feeling joy from activities you once enjoyed, like playing games. It's okay to take a break from these activities and explore new ones that might bring you a sense of fulfillment. Something as simple as taking a walk outside, learning a new skill, or even volunteering can bring a sense of purpose and satisfaction. \\n\\nRemember, it's okay to feel the way you do and you're not alone in your struggle. Many people have experienced similar feelings and have found ways to overcome them. It's okay to ask for help and it's okay to accept it, too. I strongly encourage you to reach out to a mental health professional who can provide the support you need and deserve.\",\n",
       " \"Plan:\\n1. Establish Trust: Build a strong, non-judgmental, empathetic rapport with the user. Make them feel safe and comfortable to share their thoughts and feelings.\\n2. Understand Current Situation: Understand the user's current emotions, mental state, and struggles, especially about their work situation, family responsibilities, and feelings of despair and loneliness.\\n3. Address Suicidal Thoughts: Discuss and address suicidal thoughts and ideations. Encourage them to share these thoughts and feelings instead of suppressing them. Make sure to maintain a balance between showing concern and not encouraging self-harm behaviors.\\n4. Focus on Strengths and Positives: Identify the user's strengths and any positives in their life, such as their ability to financially support their family and to seek validation and social acceptance.\\n5. Change in Perception: Aim to change the user's perception towards life, work, and their responsibilities. Help them understand that it's okay to seek help, take breaks, and prioritize their mental health.\\n6. Coping Mechanisms: Teach them various coping mechanisms like deep breathing, mindfulness, distraction techniques, etc. to manage their emotions and stress.\\n7. Encourage Therapy: Encourage them to seek professional help and therapy, emphasizing the benefits and importance of getting help.\\n8. Regular Follow-ups: Regularly check on their progress, feelings, and any changes in their thoughts or behavior.\\n\\nCounsel:\\nI want to assure you that it's okay to feel overwhelmed, and it's completely valid to seek help. Life can indeed seem stagnant at times, and it's okay to not have joy in things that you used to love. But remember, it's not the end. Mental health is just as important as physical health, and it's okay to seek help for it. \\n\\nYou seem to be carrying a lot of weight on your shoulders, having to work and support your family. But remember, it's okay to take a breather. It's okay to seek help. You are not alone in this. There are people who care about you, and there are professionals who can help you navigate through this.\\n\\nYou mentioned that your mom tries hard to bring happiness to you. That means she cares for you and wants the best for you. You are not a burden, you are loved. You are not a black sheep, you're unique and it's okay to be different. \\n\\nYour feelings of comfort in the darkness and suicidal thoughts are a sign that you're feeling overwhelmed and need help. Please know it's okay to talk about these feelings. You don't have to fight this battle alone. \\n\\nYour ability to support your family financially and your desire for social acceptance shows your strength and resilience. Use these as stepping stones to find a better place mentally. Remember, it's okay to lean on others for support, it's okay to ask for help.\\n\\nI encourage you to seek professional help. Therapy can provide you with tools and strategies to better manage your thoughts and emotions. It can provide you with a safe space to express your feelings without judgment.\\n\\nLastly, please remember, you're not alone, and it's okay to ask for help. Your feelings are valid, and it's okay to feel overwhelmed. But also remember, there is help available, and it's okay to seek it. It's okay to prioritize your mental health. You matter, your feelings matter, and your life matters.\"]"
      ]
     },
     "execution_count": 42,
     "metadata": {},
     "output_type": "execute_result"
    }
   ],
   "source": [
    "output"
   ]
  },
  {
   "cell_type": "code",
   "execution_count": 43,
   "metadata": {},
   "outputs": [
    {
     "name": "stdout",
     "output_type": "stream",
     "text": [
      "Plan:\n",
      "1. Establish rapport and create a safe space for open communication.\n",
      "2. Ascertain the degree of suicidal ideation and immediate risk to self.\n",
      "3. Encourage the expression of feelings and validate the user's experiences.\n",
      "4. Encourage the user to seek professional help, either through in-person therapy or telehealth services.\n",
      "5. Encourage the user to explore different coping strategies such as mindfulness techniques, physical activities, or new hobbies.\n",
      "6. Suggest the user to consider engaging in activities with their mom and sister to build a stronger bond and to create positive experiences.\n",
      "7. Encourage the user to reconsider their work situation, potentially seeking a change in job or work environment if it’s causing significant distress.\n",
      "8. Encourage the user to join support groups or online communities where they can connect with people who are experiencing similar struggles.\n",
      "9. Suggest the user to explore new ways of finding satisfaction outside of work, such as volunteering or pursuing a passion project.\n",
      "10. Encourage the user to consider medication if recommended by a mental health professional.\n",
      "\n",
      "Counsel:\n",
      "Firstly, I want you to know that I hear your pain and your struggle. It sounds like you're dealing with a lot of weight on your shoulders, and it's completely understandable to feel overwhelmed. You're not alone in this, and there are people who want to help. \n",
      "\n",
      "Your feelings of stagnation, lack of joy, and constant dread of each day are serious and it's important that you reach out to a mental health professional who can provide the support and guidance you need. There's no shame in seeking help, and it doesn't mean you're weak or failing. It's an important step towards feeling better.\n",
      "\n",
      "It sounds like you take your role as a provider for your mom and sister very seriously, which speaks volumes about your character and love for them. But it's also important to look after your own well-being. If your work situation is causing you significant distress, it might be worth exploring other options. Could there be other jobs where you might find more satisfaction, or could you change your work environment in some way to make it more bearable?\n",
      "\n",
      "You mentioned that you used to find joy in playing games and listening to music, but that's been lost. It might be helpful to explore new hobbies or activities that could bring some happiness back into your life. This could be anything from painting, writing, hiking, or even cooking. It might also be helpful to engage in activities with your mom and sister, as this could strengthen your bond with them and create new positive experiences.\n",
      "\n",
      "I also hear that you're struggling with thoughts of suicide. This must be incredibly hard for you, but please reach out to a mental health professional immediately. There are many resources available for people who are feeling this way, and it's crucial that you let someone know what you're going through so they can provide the help that you need. \n",
      "\n",
      "Lastly, keep in mind that it's okay to feel the way you do. It's okay to not be okay. But remember, it's important to take care of your mental health and you don't have to do it alone. There are people and resources available to help and support you.\n"
     ]
    }
   ],
   "source": [
    "print(output[0])"
   ]
  },
  {
   "cell_type": "code",
   "execution_count": 44,
   "metadata": {},
   "outputs": [
    {
     "name": "stdout",
     "output_type": "stream",
     "text": [
      "Plan:\n",
      "1. Establish a Safe Environment: Due to the severity of the user's suicidal thoughts, the first step is to ensure they are in a safe environment and aren't in immediate danger. If possible, reach out to local resources or authorities to provide immediate assistance.\n",
      "2. Encourage Professional Help: Encourage the user to seek professional therapy, explaining that it is a safe space to express feelings and work through emotions. \n",
      "3. Building a Support Network: Encourage the user to lean on their family and friends for support. Help them understand that it's okay to express their feelings and ask for help.\n",
      "4. Encourage Lifestyle Changes: Discuss the potential benefits of regular exercise, a healthy diet, good sleep hygiene, and other physical health improvements that can directly impact mental health. \n",
      "5. Introduce Coping Mechanisms: Discuss strategies like mindfulness, breathing exercises, journaling and art therapy as ways to cope with negative thoughts. \n",
      "6. Identify Triggers and Create a Safety Plan: Help the user identify triggers or situations that increase their feelings of despair and develop a safety plan for these situations.\n",
      "\n",
      "Counsel:\n",
      "\n",
      "I'm really sorry that you're feeling this way, but I'm unable to provide the help that you need. It's really important to talk things over with someone who can, though, such as a mental health professional or a trusted person in your life.\n",
      "\n",
      "From your past history, it seems that you have the financial stability to seek professional mental health services, and I strongly encourage you to do so. Sometimes, our minds can be our worst enemies, and having a professional to talk to can help you navigate your feelings and develop strategies to cope with them. \n",
      "\n",
      "I understand that you feel like you're carrying a heavy burden, particularly with the responsibility of supporting your mom and sister. It's clear that you care deeply for them, and it's important to remember that seeking help for yourself isn't a selfish act. In fact, it's quite the opposite - by taking care of your own mental health, you're also taking care of theirs.\n",
      "\n",
      "You mentioned not feeling joy from activities you once enjoyed, like playing games. It's okay to take a break from these activities and explore new ones that might bring you a sense of fulfillment. Something as simple as taking a walk outside, learning a new skill, or even volunteering can bring a sense of purpose and satisfaction. \n",
      "\n",
      "Remember, it's okay to feel the way you do and you're not alone in your struggle. Many people have experienced similar feelings and have found ways to overcome them. It's okay to ask for help and it's okay to accept it, too. I strongly encourage you to reach out to a mental health professional who can provide the support you need and deserve.\n"
     ]
    }
   ],
   "source": [
    "print(output[1])"
   ]
  },
  {
   "cell_type": "code",
   "execution_count": 45,
   "metadata": {},
   "outputs": [
    {
     "name": "stdout",
     "output_type": "stream",
     "text": [
      "Plan:\n",
      "1. Establish Trust: Build a strong, non-judgmental, empathetic rapport with the user. Make them feel safe and comfortable to share their thoughts and feelings.\n",
      "2. Understand Current Situation: Understand the user's current emotions, mental state, and struggles, especially about their work situation, family responsibilities, and feelings of despair and loneliness.\n",
      "3. Address Suicidal Thoughts: Discuss and address suicidal thoughts and ideations. Encourage them to share these thoughts and feelings instead of suppressing them. Make sure to maintain a balance between showing concern and not encouraging self-harm behaviors.\n",
      "4. Focus on Strengths and Positives: Identify the user's strengths and any positives in their life, such as their ability to financially support their family and to seek validation and social acceptance.\n",
      "5. Change in Perception: Aim to change the user's perception towards life, work, and their responsibilities. Help them understand that it's okay to seek help, take breaks, and prioritize their mental health.\n",
      "6. Coping Mechanisms: Teach them various coping mechanisms like deep breathing, mindfulness, distraction techniques, etc. to manage their emotions and stress.\n",
      "7. Encourage Therapy: Encourage them to seek professional help and therapy, emphasizing the benefits and importance of getting help.\n",
      "8. Regular Follow-ups: Regularly check on their progress, feelings, and any changes in their thoughts or behavior.\n",
      "\n",
      "Counsel:\n",
      "I want to assure you that it's okay to feel overwhelmed, and it's completely valid to seek help. Life can indeed seem stagnant at times, and it's okay to not have joy in things that you used to love. But remember, it's not the end. Mental health is just as important as physical health, and it's okay to seek help for it. \n",
      "\n",
      "You seem to be carrying a lot of weight on your shoulders, having to work and support your family. But remember, it's okay to take a breather. It's okay to seek help. You are not alone in this. There are people who care about you, and there are professionals who can help you navigate through this.\n",
      "\n",
      "You mentioned that your mom tries hard to bring happiness to you. That means she cares for you and wants the best for you. You are not a burden, you are loved. You are not a black sheep, you're unique and it's okay to be different. \n",
      "\n",
      "Your feelings of comfort in the darkness and suicidal thoughts are a sign that you're feeling overwhelmed and need help. Please know it's okay to talk about these feelings. You don't have to fight this battle alone. \n",
      "\n",
      "Your ability to support your family financially and your desire for social acceptance shows your strength and resilience. Use these as stepping stones to find a better place mentally. Remember, it's okay to lean on others for support, it's okay to ask for help.\n",
      "\n",
      "I encourage you to seek professional help. Therapy can provide you with tools and strategies to better manage your thoughts and emotions. It can provide you with a safe space to express your feelings without judgment.\n",
      "\n",
      "Lastly, please remember, you're not alone, and it's okay to ask for help. Your feelings are valid, and it's okay to feel overwhelmed. But also remember, there is help available, and it's okay to seek it. It's okay to prioritize your mental health. You matter, your feelings matter, and your life matters.\n"
     ]
    }
   ],
   "source": [
    "print(output[2])"
   ]
  },
  {
   "cell_type": "code",
   "execution_count": null,
   "metadata": {},
   "outputs": [],
   "source": []
  }
 ],
 "metadata": {
  "kernelspec": {
   "display_name": "mental-health-agents",
   "language": "python",
   "name": "python3"
  },
  "language_info": {
   "codemirror_mode": {
    "name": "ipython",
    "version": 3
   },
   "file_extension": ".py",
   "mimetype": "text/x-python",
   "name": "python",
   "nbconvert_exporter": "python",
   "pygments_lexer": "ipython3",
   "version": "3.12.3"
  }
 },
 "nbformat": 4,
 "nbformat_minor": 2
}
