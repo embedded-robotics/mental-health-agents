{
 "cells": [
  {
   "cell_type": "code",
   "execution_count": 1,
   "metadata": {},
   "outputs": [
    {
     "name": "stderr",
     "output_type": "stream",
     "text": [
      "/data/mn27889/miniconda3/envs/mental-health-agents/lib/python3.12/site-packages/tqdm/auto.py:21: TqdmWarning: IProgress not found. Please update jupyter and ipywidgets. See https://ipywidgets.readthedocs.io/en/stable/user_install.html\n",
      "  from .autonotebook import tqdm as notebook_tqdm\n"
     ]
    },
    {
     "name": "stdout",
     "output_type": "stream",
     "text": [
      "path is  /data/mn27889/mental-health-agents/src/sdoh_analysis/helpers/../models/setfit-mental-health-topic-prediction/setfit-small-research-topic-prediction/content/setfit-small-research-topic-prediction\n",
      "True\n"
     ]
    },
    {
     "name": "stderr",
     "output_type": "stream",
     "text": [
      "/data/mn27889/miniconda3/envs/mental-health-agents/lib/python3.12/site-packages/torch/cuda/__init__.py:118: UserWarning: CUDA initialization: The NVIDIA driver on your system is too old (found version 11040). Please update your GPU driver by downloading and installing a new version from the URL: http://www.nvidia.com/Download/index.aspx Alternatively, go to: https://pytorch.org to install a PyTorch version that has been compiled with your version of the CUDA driver. (Triggered internally at ../c10/cuda/CUDAFunctions.cpp:108.)\n",
      "  return torch._C._cuda_getDeviceCount() > 0\n",
      "/data/mn27889/miniconda3/envs/mental-health-agents/lib/python3.12/site-packages/sklearn/base.py:376: InconsistentVersionWarning: Trying to unpickle estimator LogisticRegression from version 1.2.2 when using version 1.4.2. This might lead to breaking code or invalid results. Use at your own risk. For more info please refer to:\n",
      "https://scikit-learn.org/stable/model_persistence.html#security-maintainability-limitations\n",
      "  warnings.warn(\n"
     ]
    },
    {
     "name": "stdout",
     "output_type": "stream",
     "text": [
      "encoding database\n"
     ]
    },
    {
     "name": "stderr",
     "output_type": "stream",
     "text": [
      "2775it [00:00, 552301.11it/s]\n"
     ]
    },
    {
     "name": "stdout",
     "output_type": "stream",
     "text": [
      "got 2511 of 2749 others out bc of size\n"
     ]
    },
    {
     "name": "stderr",
     "output_type": "stream",
     "text": [
      "100%|██████████| 883/883 [00:00<00:00, 321183.80it/s]"
     ]
    },
    {
     "name": "stdout",
     "output_type": "stream",
     "text": [
      "encodnig databsae - this can take a while - TODO - cache this\n"
     ]
    },
    {
     "name": "stderr",
     "output_type": "stream",
     "text": [
      "\n"
     ]
    }
   ],
   "source": [
    "from task import *"
   ]
  },
  {
   "cell_type": "code",
   "execution_count": null,
   "metadata": {},
   "outputs": [
    {
     "name": "stderr",
     "output_type": "stream",
     "text": [
      "Repo card metadata block was not found. Setting CardData to empty.\n"
     ]
    }
   ],
   "source": [
    "task = MentalHealthTask()"
   ]
  },
  {
   "cell_type": "code",
   "execution_count": null,
   "metadata": {},
   "outputs": [],
   "source": [
    "idx = 0\n",
    "x = task.get_input(idx)"
   ]
  },
  {
   "cell_type": "code",
   "execution_count": null,
   "metadata": {},
   "outputs": [
    {
     "name": "stdout",
     "output_type": "stream",
     "text": [
      "Life is so stagnant. I can't seem to motivate myself to care about anything outside of what I'm told is needed to be done by me. I go to work because I'm told it's what I need to do to support my mom and sister. So I do what needs to be done, but when all is done, I feel like I'm rotting in a perfectly good body that should've gone to someone who would more enjoy it.\n",
      "\n",
      "There is no satisfaction in my job, I work alone all day tortured by my own mind for 8 hours day, this pushes me to the point of physically beating on myself in hopes I calm down enough to keep working. I've started smoking whatever is able to be acquired legally to get theiught work. I wake up dreading work and miserable, wanting all day for it to end, just to come home and then rot doing nothing. I'll listen to music, or play games but only because it's what I used to do, I don't feel nearly any joy playing games anymore compared to how it used to be. I buy more games, to then not play them and complain there is nothing to do. Soon I find myself somehow wanting to go back to work, yet every fiber in my body knows that can't be true. It's a torturous, confusing cycle that never ends.\n",
      "\n",
      "I love my mom, she's had a rough life and I, despite doing extremely poorly at it, want to try and be there for her until her end. Her death scares me and it may be the only thing in this world that truly does anymore, however I'm unwilling to make her say goodbye her son, especially after she had to do so with her husband. While Dad's death definitely had an affect on me, I can't say I havent felt this way long before it. Even at 12, life always seemed pointless, and ever sense 14 the idea or being dead has looked far more favorable. I do feel awful about it, my mom tries so hard to bring happiness to me and it just seems I can't feel it anymore. I feel like a black sheep in the world of happy people but I know that can't be true. My mom lost her husband, my sister her dad. It's no secret they aren't happy, yet they can still put on an act and try their hardest, yet here I am. I am the killjoy, I bring the mood down even my own dogs are standoffish.\n",
      "\n",
      "There is comfort in my own darkness for me. I can't help but feel that after all my business is taken care of I will leave here, not as a matter of if but when, by my own hands and that is a relief. I would be lying if I said suicide doesn't have a home inside my brain. It's with me from time I wake up to the time I shut my eyes, most if not everyday. The intensity varies, some days it's just a \"I wish I wasn't alive\" and other days I can imagine my body slapping right into the ocean 200ft down to be found by whoever stumbles across my corpse. It comforts me knowing that whatever/whenever I deem life has gone \"too far\" I can always end my life, leaving behind mountains on anxiety, disappointment, regrets and resentment towards both this world and myself.\n",
      "\n",
      "I'm not looking for help as much as to rant, trying not to just drink away these emotions tonight. I know I have something wrong inside my head, I know I should seek therapy, but something in me doesn't want to. There's comfort in this illness, comfort that the day life gets too overwhelming, the day the one person I care about finally goes, I can finally say I've tried my hardest and then let go of everything too.\n"
     ]
    }
   ],
   "source": [
    "print(x)"
   ]
  },
  {
   "cell_type": "code",
   "execution_count": null,
   "metadata": {},
   "outputs": [],
   "source": [
    "determinant_prompt, example_format, sdoh_prompt = task.get_cot_sdoh_prompt_data(input=x, idx=idx)"
   ]
  },
  {
   "cell_type": "code",
   "execution_count": null,
   "metadata": {},
   "outputs": [
    {
     "name": "stdout",
     "output_type": "stream",
     "text": [
      "A person is suffering ill mental health due to happenstance in their romantic life\n"
     ]
    }
   ],
   "source": [
    "print(determinant_prompt)"
   ]
  },
  {
   "cell_type": "code",
   "execution_count": null,
   "metadata": {},
   "outputs": [
    {
     "name": "stdout",
     "output_type": "stream",
     "text": [
      "User Input: How can I see my base doctor without my ID?  I need to get on base to see my doctor. My ID card was in my wallet which was stolen. I’m unable to reach my husband at this time. He is only one who can take me on base in order to get a new ID so I can continue to see doctor. Is there anything I can do?\n",
      "Counsel: You should be able to get a replacement ID card either from the Personnel Office on your local base (the actual name of this office will vary depending on which branch of the military it is). You may also be required to go to the Military Police or Security office on base to report the loss of your old ID card.\n"
     ]
    }
   ],
   "source": [
    "print(example_format)"
   ]
  },
  {
   "cell_type": "code",
   "execution_count": null,
   "metadata": {},
   "outputs": [
    {
     "name": "stdout",
     "output_type": "stream",
     "text": [
      "Consider the following history of the user:\n",
      "\n",
      "\n",
      "\n",
      "\n",
      "\n",
      "On 2024-02-22 10:11:06 the user made a post, we have summarized info about social determinants of health present in the post\n",
      "\temployment status:The author expresses interest in making a custom purchase, indicating they have the ability to make this purchase, which could have a positive impact on their mental health.\n",
      "\n",
      "\n",
      "\teconomic class:The author mentions that the prices are good, suggesting they have the financial means to make a custom order, which likely has a positive impact on their mental health.\n",
      "\n",
      "\n",
      "\tsocial acceptance:The author seeks validation from others by asking if the seller is legit, indicating a desire for social acceptance which may positively impact their mental health.\n",
      "\n",
      "\n",
      "\n",
      "\n",
      "On 2024-04-21 11:20:16 the user made a post, we have summarized info about social determinants of health present in the post\n",
      "\temployment status:The user feels obligated to work to support their mom and sister, causing stress and dissatisfaction\n",
      "\n",
      "\n",
      "\teconomic class:The financial struggles of supporting family contribute to feelings of burden and hopelessness\n",
      "\n",
      "\n",
      "\tsocial acceptance:The user feels like a black sheep among happy people, lacking social acceptance\n",
      "\n",
      "\n",
      "\tfamilial relations:The user's close relationship with their mom and sister, and the impact of their father's death, adds to feelings of despair and hopelessness\n"
     ]
    }
   ],
   "source": [
    "print(sdoh_prompt)"
   ]
  },
  {
   "cell_type": "code",
   "execution_count": null,
   "metadata": {},
   "outputs": [],
   "source": []
  }
 ],
 "metadata": {
  "kernelspec": {
   "display_name": "mental-health-agents",
   "language": "python",
   "name": "python3"
  },
  "language_info": {
   "codemirror_mode": {
    "name": "ipython",
    "version": 3
   },
   "file_extension": ".py",
   "mimetype": "text/x-python",
   "name": "python",
   "nbconvert_exporter": "python",
   "pygments_lexer": "ipython3",
   "version": "3.12.3"
  }
 },
 "nbformat": 4,
 "nbformat_minor": 2
}
