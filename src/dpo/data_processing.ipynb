{
 "cells": [
  {
   "cell_type": "markdown",
   "metadata": {},
   "source": [
    "### Data Pre-Processing\n",
    "\n",
    "This notebook will deal with the data preprocessing for CounselChat followed by little visualization related to data statistics:\n",
    "\n",
    "1. Remove any non-unicode characters from data e.g., non-breakable spaces, smileys, etc.\n",
    "2. Remove all the rows having empty questions/answers\n",
    "3. Get the distribution of the answers length in the dataset\n",
    "4. Map the answers with the votes to see if long answers are getting more number of votes\n",
    "5. Save the filtered dataset (question/answer pairs) to be used for further inference and/or evaluation"
   ]
  },
  {
   "cell_type": "code",
   "execution_count": 1,
   "metadata": {},
   "outputs": [
    {
     "name": "stderr",
     "output_type": "stream",
     "text": [
      "/data/mn27889/miniconda3/envs/mental-health/lib/python3.12/site-packages/tqdm/auto.py:21: TqdmWarning: IProgress not found. Please update jupyter and ipywidgets. See https://ipywidgets.readthedocs.io/en/stable/user_install.html\n",
      "  from .autonotebook import tqdm as notebook_tqdm\n"
     ]
    }
   ],
   "source": [
    "from datasets import load_dataset\n",
    "import pandas as pd\n",
    "import pickle\n",
    "import matplotlib.pyplot as plt"
   ]
  },
  {
   "cell_type": "markdown",
   "metadata": {},
   "source": [
    "### Get the CounselChat Dataset"
   ]
  },
  {
   "cell_type": "code",
   "execution_count": 2,
   "metadata": {},
   "outputs": [
    {
     "name": "stderr",
     "output_type": "stream",
     "text": [
      "Repo card metadata block was not found. Setting CardData to empty.\n"
     ]
    }
   ],
   "source": [
    "dataset_name = \"nbertagnolli/counsel-chat\"\n",
    "dataset = load_dataset(dataset_name, split=\"all\")\n",
    "dataset = dataset.shuffle(seed=42)"
   ]
  },
  {
   "cell_type": "code",
   "execution_count": 5,
   "metadata": {},
   "outputs": [
    {
     "data": {
      "text/html": [
       "<div>\n",
       "<style scoped>\n",
       "    .dataframe tbody tr th:only-of-type {\n",
       "        vertical-align: middle;\n",
       "    }\n",
       "\n",
       "    .dataframe tbody tr th {\n",
       "        vertical-align: top;\n",
       "    }\n",
       "\n",
       "    .dataframe thead th {\n",
       "        text-align: right;\n",
       "    }\n",
       "</style>\n",
       "<table border=\"1\" class=\"dataframe\">\n",
       "  <thead>\n",
       "    <tr style=\"text-align: right;\">\n",
       "      <th></th>\n",
       "      <th>questionID</th>\n",
       "      <th>questionTitle</th>\n",
       "      <th>questionText</th>\n",
       "      <th>questionLink</th>\n",
       "      <th>topic</th>\n",
       "      <th>therapistInfo</th>\n",
       "      <th>therapistURL</th>\n",
       "      <th>answerText</th>\n",
       "      <th>upvotes</th>\n",
       "      <th>views</th>\n",
       "    </tr>\n",
       "  </thead>\n",
       "  <tbody>\n",
       "    <tr>\n",
       "      <th>0</th>\n",
       "      <td>569</td>\n",
       "      <td>How do you get over someone cheating on you wh...</td>\n",
       "      <td>My boyfriend of five years told me he cheated ...</td>\n",
       "      <td>https://counselchat.com/questions/how-do-you-g...</td>\n",
       "      <td>intimacy</td>\n",
       "      <td>Lynda MartensMarriage &amp; Family Therapist, MSc,...</td>\n",
       "      <td>https://counselchat.com/therapists/ms-lynda-ma...</td>\n",
       "      <td>Hi Michigan,This is a common issue. How do you...</td>\n",
       "      <td>2</td>\n",
       "      <td>130</td>\n",
       "    </tr>\n",
       "    <tr>\n",
       "      <th>1</th>\n",
       "      <td>787</td>\n",
       "      <td>Is it acceptable for me to find another home f...</td>\n",
       "      <td>My boyfriend moved in with me a few months ago...</td>\n",
       "      <td>https://counselchat.com/questions/is-it-accept...</td>\n",
       "      <td>relationships</td>\n",
       "      <td>Sherry Katz, LCSWCouples and Family Therapist,...</td>\n",
       "      <td>https://counselchat.com/therapists/sherry-katz...</td>\n",
       "      <td>Every living creature needs time and support t...</td>\n",
       "      <td>2</td>\n",
       "      <td>66</td>\n",
       "    </tr>\n",
       "    <tr>\n",
       "      <th>2</th>\n",
       "      <td>229</td>\n",
       "      <td>Am I somehow stressing myself out?</td>\n",
       "      <td>I think I'm annoying and bothersome, but my gi...</td>\n",
       "      <td>https://counselchat.com/questions/am-i-somehow...</td>\n",
       "      <td>anxiety</td>\n",
       "      <td>Lynda MartensMarriage &amp; Family Therapist, MSc,...</td>\n",
       "      <td>https://counselchat.com/therapists/ms-lynda-ma...</td>\n",
       "      <td>\"Where you put your attention is where you wil...</td>\n",
       "      <td>2</td>\n",
       "      <td>271</td>\n",
       "    </tr>\n",
       "    <tr>\n",
       "      <th>3</th>\n",
       "      <td>933</td>\n",
       "      <td>How would I know if I have the right therapist?</td>\n",
       "      <td>How do you know you have the right therapist f...</td>\n",
       "      <td>https://counselchat.com/questions/how-would-i-...</td>\n",
       "      <td>counseling-fundamentals</td>\n",
       "      <td>Jane M Floyd, PsyDOur life is shaped by our mi...</td>\n",
       "      <td>https://counselchat.com/therapists/jane-m-floy...</td>\n",
       "      <td>A therapist should be willing to have an initi...</td>\n",
       "      <td>0</td>\n",
       "      <td>29</td>\n",
       "    </tr>\n",
       "    <tr>\n",
       "      <th>4</th>\n",
       "      <td>929</td>\n",
       "      <td>Why can't I stop these thoughts?</td>\n",
       "      <td>I keep having these random thoughts that I don...</td>\n",
       "      <td>https://counselchat.com/questions/why-can-t-i-...</td>\n",
       "      <td>diagnosis</td>\n",
       "      <td>Sherry Katz, LCSWCouples and Family Therapist,...</td>\n",
       "      <td>https://counselchat.com/therapists/sherry-katz...</td>\n",
       "      <td>Those  critical thoughts most likely came into...</td>\n",
       "      <td>0</td>\n",
       "      <td>740</td>\n",
       "    </tr>\n",
       "  </tbody>\n",
       "</table>\n",
       "</div>"
      ],
      "text/plain": [
       "   questionID                                      questionTitle  \\\n",
       "0         569  How do you get over someone cheating on you wh...   \n",
       "1         787  Is it acceptable for me to find another home f...   \n",
       "2         229                 Am I somehow stressing myself out?   \n",
       "3         933    How would I know if I have the right therapist?   \n",
       "4         929                   Why can't I stop these thoughts?   \n",
       "\n",
       "                                        questionText  \\\n",
       "0  My boyfriend of five years told me he cheated ...   \n",
       "1  My boyfriend moved in with me a few months ago...   \n",
       "2  I think I'm annoying and bothersome, but my gi...   \n",
       "3  How do you know you have the right therapist f...   \n",
       "4  I keep having these random thoughts that I don...   \n",
       "\n",
       "                                        questionLink                    topic  \\\n",
       "0  https://counselchat.com/questions/how-do-you-g...                 intimacy   \n",
       "1  https://counselchat.com/questions/is-it-accept...            relationships   \n",
       "2  https://counselchat.com/questions/am-i-somehow...                  anxiety   \n",
       "3  https://counselchat.com/questions/how-would-i-...  counseling-fundamentals   \n",
       "4  https://counselchat.com/questions/why-can-t-i-...                diagnosis   \n",
       "\n",
       "                                       therapistInfo  \\\n",
       "0  Lynda MartensMarriage & Family Therapist, MSc,...   \n",
       "1  Sherry Katz, LCSWCouples and Family Therapist,...   \n",
       "2  Lynda MartensMarriage & Family Therapist, MSc,...   \n",
       "3  Jane M Floyd, PsyDOur life is shaped by our mi...   \n",
       "4  Sherry Katz, LCSWCouples and Family Therapist,...   \n",
       "\n",
       "                                        therapistURL  \\\n",
       "0  https://counselchat.com/therapists/ms-lynda-ma...   \n",
       "1  https://counselchat.com/therapists/sherry-katz...   \n",
       "2  https://counselchat.com/therapists/ms-lynda-ma...   \n",
       "3  https://counselchat.com/therapists/jane-m-floy...   \n",
       "4  https://counselchat.com/therapists/sherry-katz...   \n",
       "\n",
       "                                          answerText  upvotes  views  \n",
       "0  Hi Michigan,This is a common issue. How do you...        2    130  \n",
       "1  Every living creature needs time and support t...        2     66  \n",
       "2  \"Where you put your attention is where you wil...        2    271  \n",
       "3  A therapist should be willing to have an initi...        0     29  \n",
       "4  Those  critical thoughts most likely came into...        0    740  "
      ]
     },
     "execution_count": 5,
     "metadata": {},
     "output_type": "execute_result"
    }
   ],
   "source": [
    "dataset_df = dataset.to_pandas()\n",
    "dataset_df.head()"
   ]
  },
  {
   "cell_type": "code",
   "execution_count": null,
   "metadata": {},
   "outputs": [],
   "source": []
  }
 ],
 "metadata": {
  "kernelspec": {
   "display_name": "mental-health",
   "language": "python",
   "name": "python3"
  },
  "language_info": {
   "codemirror_mode": {
    "name": "ipython",
    "version": 3
   },
   "file_extension": ".py",
   "mimetype": "text/x-python",
   "name": "python",
   "nbconvert_exporter": "python",
   "pygments_lexer": "ipython3",
   "version": "3.12.4"
  }
 },
 "nbformat": 4,
 "nbformat_minor": 2
}
