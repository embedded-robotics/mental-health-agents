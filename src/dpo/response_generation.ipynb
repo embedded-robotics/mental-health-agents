{
 "cells": [
  {
   "cell_type": "markdown",
   "metadata": {},
   "source": [
    "### Response Generation\n",
    "\n",
    "This file will generate the responses for CounselChat questions using 4 models\n",
    "\n",
    "1. Base GPT (gpt-4o)\n",
    "2. Fine-Tuned GPT (gpt-4o)\n",
    "3. Base LLaMA (LLaMA-3.2 3B Instruct)\n",
    "4. Fine-Tuned LLaMA"
   ]
  },
  {
   "cell_type": "code",
   "execution_count": 4,
   "metadata": {},
   "outputs": [],
   "source": [
    "import os"
   ]
  },
  {
   "cell_type": "code",
   "execution_count": 5,
   "metadata": {},
   "outputs": [],
   "source": [
    "os.environ[\"CUDA_VISIBLE_DEVICES\"] = \"0\""
   ]
  },
  {
   "cell_type": "code",
   "execution_count": 6,
   "metadata": {},
   "outputs": [
    {
     "name": "stdout",
     "output_type": "stream",
     "text": [
      "🦥 Unsloth: Will patch your computer to enable 2x faster free finetuning.\n"
     ]
    },
    {
     "name": "stderr",
     "output_type": "stream",
     "text": [
      "/data/mn27889/miniconda3/envs/mental-health-agents/lib/python3.12/site-packages/tqdm/auto.py:21: TqdmWarning: IProgress not found. Please update jupyter and ipywidgets. See https://ipywidgets.readthedocs.io/en/stable/user_install.html\n",
      "  from .autonotebook import tqdm as notebook_tqdm\n"
     ]
    },
    {
     "name": "stdout",
     "output_type": "stream",
     "text": [
      "🦥 Unsloth Zoo will now patch everything to make training faster!\n"
     ]
    }
   ],
   "source": [
    "from unsloth import FastLanguageModel\n",
    "import torch\n",
    "from openai import OpenAI\n",
    "from tqdm import tqdm\n",
    "import pandas as pd\n",
    "import pickle\n",
    "import numpy as np"
   ]
  },
  {
   "cell_type": "markdown",
   "metadata": {},
   "source": [
    "### Read the Processed CounselChat Validation Dataset"
   ]
  },
  {
   "cell_type": "code",
   "execution_count": 7,
   "metadata": {},
   "outputs": [
    {
     "data": {
      "text/html": [
       "<div>\n",
       "<style scoped>\n",
       "    .dataframe tbody tr th:only-of-type {\n",
       "        vertical-align: middle;\n",
       "    }\n",
       "\n",
       "    .dataframe tbody tr th {\n",
       "        vertical-align: top;\n",
       "    }\n",
       "\n",
       "    .dataframe thead th {\n",
       "        text-align: right;\n",
       "    }\n",
       "</style>\n",
       "<table border=\"1\" class=\"dataframe\">\n",
       "  <thead>\n",
       "    <tr style=\"text-align: right;\">\n",
       "      <th></th>\n",
       "      <th>topic</th>\n",
       "      <th>question</th>\n",
       "      <th>answerText</th>\n",
       "    </tr>\n",
       "  </thead>\n",
       "  <tbody>\n",
       "    <tr>\n",
       "      <th>0</th>\n",
       "      <td>relationships</td>\n",
       "      <td>I had to go to the emergency room today to get...</td>\n",
       "      <td>It is extremely frustrating when our significa...</td>\n",
       "    </tr>\n",
       "    <tr>\n",
       "      <th>1</th>\n",
       "      <td>marriage</td>\n",
       "      <td>What makes a healthy marriage last? What makes...</td>\n",
       "      <td>This is a fantastic question. In one sentence,...</td>\n",
       "    </tr>\n",
       "    <tr>\n",
       "      <th>2</th>\n",
       "      <td>relationships</td>\n",
       "      <td>I'm a female freshman in high school, and this...</td>\n",
       "      <td>First off, I think it is great that you are wi...</td>\n",
       "    </tr>\n",
       "    <tr>\n",
       "      <th>3</th>\n",
       "      <td>intimacy</td>\n",
       "      <td>My wife and I are newly married, about 2 month...</td>\n",
       "      <td>You are newly married, you Have a hectic sched...</td>\n",
       "    </tr>\n",
       "    <tr>\n",
       "      <th>4</th>\n",
       "      <td>legal-regulatory</td>\n",
       "      <td>I think I have depression, anxiety, bipolar di...</td>\n",
       "      <td>It can be difficult to get counseling if you d...</td>\n",
       "    </tr>\n",
       "  </tbody>\n",
       "</table>\n",
       "</div>"
      ],
      "text/plain": [
       "              topic                                           question  \\\n",
       "0     relationships  I had to go to the emergency room today to get...   \n",
       "1          marriage  What makes a healthy marriage last? What makes...   \n",
       "2     relationships  I'm a female freshman in high school, and this...   \n",
       "3          intimacy  My wife and I are newly married, about 2 month...   \n",
       "4  legal-regulatory  I think I have depression, anxiety, bipolar di...   \n",
       "\n",
       "                                          answerText  \n",
       "0  It is extremely frustrating when our significa...  \n",
       "1  This is a fantastic question. In one sentence,...  \n",
       "2  First off, I think it is great that you are wi...  \n",
       "3  You are newly married, you Have a hectic sched...  \n",
       "4  It can be difficult to get counseling if you d...  "
      ]
     },
     "execution_count": 7,
     "metadata": {},
     "output_type": "execute_result"
    }
   ],
   "source": [
    "with open('processed_data/counselchat_top_votes_test.pkl', 'rb') as file:\n",
    "    dataset_top_votes_test = pickle.load(file)\n",
    "\n",
    "dataset_top_votes_test.head()"
   ]
  },
  {
   "cell_type": "markdown",
   "metadata": {},
   "source": [
    "Initializing a response generation dataframe to record all the answers"
   ]
  },
  {
   "cell_type": "code",
   "execution_count": 8,
   "metadata": {},
   "outputs": [
    {
     "data": {
      "text/html": [
       "<div>\n",
       "<style scoped>\n",
       "    .dataframe tbody tr th:only-of-type {\n",
       "        vertical-align: middle;\n",
       "    }\n",
       "\n",
       "    .dataframe tbody tr th {\n",
       "        vertical-align: top;\n",
       "    }\n",
       "\n",
       "    .dataframe thead th {\n",
       "        text-align: right;\n",
       "    }\n",
       "</style>\n",
       "<table border=\"1\" class=\"dataframe\">\n",
       "  <thead>\n",
       "    <tr style=\"text-align: right;\">\n",
       "      <th></th>\n",
       "      <th>topic</th>\n",
       "      <th>question</th>\n",
       "      <th>answerText</th>\n",
       "    </tr>\n",
       "  </thead>\n",
       "  <tbody>\n",
       "    <tr>\n",
       "      <th>0</th>\n",
       "      <td>relationships</td>\n",
       "      <td>I had to go to the emergency room today to get...</td>\n",
       "      <td>It is extremely frustrating when our significa...</td>\n",
       "    </tr>\n",
       "    <tr>\n",
       "      <th>1</th>\n",
       "      <td>marriage</td>\n",
       "      <td>What makes a healthy marriage last? What makes...</td>\n",
       "      <td>This is a fantastic question. In one sentence,...</td>\n",
       "    </tr>\n",
       "    <tr>\n",
       "      <th>2</th>\n",
       "      <td>relationships</td>\n",
       "      <td>I'm a female freshman in high school, and this...</td>\n",
       "      <td>First off, I think it is great that you are wi...</td>\n",
       "    </tr>\n",
       "    <tr>\n",
       "      <th>3</th>\n",
       "      <td>intimacy</td>\n",
       "      <td>My wife and I are newly married, about 2 month...</td>\n",
       "      <td>You are newly married, you Have a hectic sched...</td>\n",
       "    </tr>\n",
       "    <tr>\n",
       "      <th>4</th>\n",
       "      <td>legal-regulatory</td>\n",
       "      <td>I think I have depression, anxiety, bipolar di...</td>\n",
       "      <td>It can be difficult to get counseling if you d...</td>\n",
       "    </tr>\n",
       "  </tbody>\n",
       "</table>\n",
       "</div>"
      ],
      "text/plain": [
       "              topic                                           question  \\\n",
       "0     relationships  I had to go to the emergency room today to get...   \n",
       "1          marriage  What makes a healthy marriage last? What makes...   \n",
       "2     relationships  I'm a female freshman in high school, and this...   \n",
       "3          intimacy  My wife and I are newly married, about 2 month...   \n",
       "4  legal-regulatory  I think I have depression, anxiety, bipolar di...   \n",
       "\n",
       "                                          answerText  \n",
       "0  It is extremely frustrating when our significa...  \n",
       "1  This is a fantastic question. In one sentence,...  \n",
       "2  First off, I think it is great that you are wi...  \n",
       "3  You are newly married, you Have a hectic sched...  \n",
       "4  It can be difficult to get counseling if you d...  "
      ]
     },
     "execution_count": 8,
     "metadata": {},
     "output_type": "execute_result"
    }
   ],
   "source": [
    "df_response_generation = dataset_top_votes_test\n",
    "df_response_generation.head()"
   ]
  },
  {
   "cell_type": "markdown",
   "metadata": {},
   "source": [
    "### OpenAI Configuration and Responses"
   ]
  },
  {
   "cell_type": "code",
   "execution_count": 9,
   "metadata": {},
   "outputs": [],
   "source": [
    "with open(\"../../api.key\", 'r') as file:\n",
    "    openai_api_key = file.read()\n",
    "\n",
    "openai_client = OpenAI(api_key=openai_api_key)"
   ]
  },
  {
   "cell_type": "markdown",
   "metadata": {},
   "source": [
    "### OpenAI Base Model"
   ]
  },
  {
   "cell_type": "code",
   "execution_count": 10,
   "metadata": {},
   "outputs": [],
   "source": [
    "def get_openai_response_base(user_prompt: str) -> str:\n",
    "        \n",
    "    completion = openai_client.chat.completions.create(\n",
    "    model=\"gpt-4o\",\n",
    "    temperature=0,\n",
    "    messages=[\n",
    "        {\"role\": \"system\", \"content\": \"You are an expert mental health professional trained to counsel and guide patients suffering from ill mental-health. Limit your response to a maximum of 215 words\"},\n",
    "        {\"role\": \"user\", \"content\": user_prompt}\n",
    "        ]\n",
    "    )\n",
    "\n",
    "    openai_response = completion.choices[0].message.content\n",
    "    \n",
    "    return openai_response"
   ]
  },
  {
   "cell_type": "markdown",
   "metadata": {},
   "source": [
    "Get GPT Responses"
   ]
  },
  {
   "cell_type": "code",
   "execution_count": 11,
   "metadata": {},
   "outputs": [],
   "source": [
    "# gpt_responses_base = []\n",
    "# for index, row in tqdm(dataset_top_votes_test.iterrows(), total=len(dataset_top_votes_test)):\n",
    "#     question_input = row['question']\n",
    "#     try:\n",
    "#         gpt_resp = get_openai_response_base(user_prompt = question_input)\n",
    "#         gpt_responses_base.append(gpt_resp)\n",
    "#     except:\n",
    "#         gpt_responses_base.append('')\n",
    "    \n",
    "# with open('response_generation_data/gpt_responses_base.pkl', 'wb') as file:\n",
    "#     pickle.dump(gpt_responses_base, file)"
   ]
  },
  {
   "cell_type": "code",
   "execution_count": 12,
   "metadata": {},
   "outputs": [],
   "source": [
    "with open('response_generation_data/gpt_responses_base.pkl', 'rb') as file:\n",
    "    gpt_responses_base = pickle.load(file)"
   ]
  },
  {
   "cell_type": "code",
   "execution_count": 13,
   "metadata": {},
   "outputs": [
    {
     "data": {
      "text/html": [
       "<div>\n",
       "<style scoped>\n",
       "    .dataframe tbody tr th:only-of-type {\n",
       "        vertical-align: middle;\n",
       "    }\n",
       "\n",
       "    .dataframe tbody tr th {\n",
       "        vertical-align: top;\n",
       "    }\n",
       "\n",
       "    .dataframe thead th {\n",
       "        text-align: right;\n",
       "    }\n",
       "</style>\n",
       "<table border=\"1\" class=\"dataframe\">\n",
       "  <thead>\n",
       "    <tr style=\"text-align: right;\">\n",
       "      <th></th>\n",
       "      <th>topic</th>\n",
       "      <th>question</th>\n",
       "      <th>answerText</th>\n",
       "      <th>gpt_responses_base</th>\n",
       "    </tr>\n",
       "  </thead>\n",
       "  <tbody>\n",
       "    <tr>\n",
       "      <th>0</th>\n",
       "      <td>relationships</td>\n",
       "      <td>I had to go to the emergency room today to get...</td>\n",
       "      <td>It is extremely frustrating when our significa...</td>\n",
       "      <td>I'm sorry to hear about your experience. It's ...</td>\n",
       "    </tr>\n",
       "    <tr>\n",
       "      <th>1</th>\n",
       "      <td>marriage</td>\n",
       "      <td>What makes a healthy marriage last? What makes...</td>\n",
       "      <td>This is a fantastic question. In one sentence,...</td>\n",
       "      <td>A healthy and lasting marriage often hinges on...</td>\n",
       "    </tr>\n",
       "    <tr>\n",
       "      <th>2</th>\n",
       "      <td>relationships</td>\n",
       "      <td>I'm a female freshman in high school, and this...</td>\n",
       "      <td>First off, I think it is great that you are wi...</td>\n",
       "      <td>It's great that you want to support your frien...</td>\n",
       "    </tr>\n",
       "    <tr>\n",
       "      <th>3</th>\n",
       "      <td>intimacy</td>\n",
       "      <td>My wife and I are newly married, about 2 month...</td>\n",
       "      <td>You are newly married, you Have a hectic sched...</td>\n",
       "      <td>Navigating intimacy issues in a new marriage c...</td>\n",
       "    </tr>\n",
       "    <tr>\n",
       "      <th>4</th>\n",
       "      <td>legal-regulatory</td>\n",
       "      <td>I think I have depression, anxiety, bipolar di...</td>\n",
       "      <td>It can be difficult to get counseling if you d...</td>\n",
       "      <td>I'm sorry to hear you're going through this. I...</td>\n",
       "    </tr>\n",
       "  </tbody>\n",
       "</table>\n",
       "</div>"
      ],
      "text/plain": [
       "              topic                                           question  \\\n",
       "0     relationships  I had to go to the emergency room today to get...   \n",
       "1          marriage  What makes a healthy marriage last? What makes...   \n",
       "2     relationships  I'm a female freshman in high school, and this...   \n",
       "3          intimacy  My wife and I are newly married, about 2 month...   \n",
       "4  legal-regulatory  I think I have depression, anxiety, bipolar di...   \n",
       "\n",
       "                                          answerText  \\\n",
       "0  It is extremely frustrating when our significa...   \n",
       "1  This is a fantastic question. In one sentence,...   \n",
       "2  First off, I think it is great that you are wi...   \n",
       "3  You are newly married, you Have a hectic sched...   \n",
       "4  It can be difficult to get counseling if you d...   \n",
       "\n",
       "                                  gpt_responses_base  \n",
       "0  I'm sorry to hear about your experience. It's ...  \n",
       "1  A healthy and lasting marriage often hinges on...  \n",
       "2  It's great that you want to support your frien...  \n",
       "3  Navigating intimacy issues in a new marriage c...  \n",
       "4  I'm sorry to hear you're going through this. I...  "
      ]
     },
     "execution_count": 13,
     "metadata": {},
     "output_type": "execute_result"
    }
   ],
   "source": [
    "df_response_generation['gpt_responses_base'] = gpt_responses_base\n",
    "df_response_generation.head()"
   ]
  },
  {
   "cell_type": "markdown",
   "metadata": {},
   "source": [
    "### OpenAI Fine-Tuned Model Response"
   ]
  },
  {
   "cell_type": "code",
   "execution_count": 14,
   "metadata": {},
   "outputs": [],
   "source": [
    "def get_openai_response_finetuned(user_prompt: str) -> str:\n",
    "        \n",
    "    completion = openai_client.chat.completions.create(\n",
    "    model=\"ft:gpt-4o-2024-08-06:university-of-texas-at-austin:counselchat-train:BGJdvzQV\",\n",
    "    # temperature=0, #setting temperature=0 generates repeated and long responses (avoid in fine-tuned models)\n",
    "    messages=[\n",
    "        {\"role\": \"system\", \"content\": \"You are an expert mental health professional trained to counsel and guide patients suffering from ill mental-health\"},\n",
    "        {\"role\": \"user\", \"content\": user_prompt}\n",
    "        ],\n",
    "    max_tokens=2048\n",
    "    )\n",
    "\n",
    "    openai_response = completion.choices[0].message.content\n",
    "    \n",
    "    return openai_response"
   ]
  },
  {
   "cell_type": "code",
   "execution_count": 15,
   "metadata": {},
   "outputs": [],
   "source": [
    "# gpt_responses_ft = []\n",
    "# for index, row in tqdm(dataset_top_votes_test.iterrows(), total=len(dataset_top_votes_test)):\n",
    "#     question_input = row['question']\n",
    "#     try:\n",
    "#         gpt_resp = get_openai_response_finetuned(user_prompt=question_input)\n",
    "#         gpt_responses_ft.append(gpt_resp)\n",
    "#     except:\n",
    "#         gpt_responses_ft.append('')\n",
    "    \n",
    "# with open('response_generation_data/gpt_responses_ft.pkl', 'wb') as file:\n",
    "#     pickle.dump(gpt_responses_ft, file)"
   ]
  },
  {
   "cell_type": "code",
   "execution_count": 16,
   "metadata": {},
   "outputs": [],
   "source": [
    "with open('response_generation_data/gpt_responses_ft.pkl', 'rb') as file:\n",
    "    gpt_responses_ft = pickle.load(file)"
   ]
  },
  {
   "cell_type": "code",
   "execution_count": 17,
   "metadata": {},
   "outputs": [
    {
     "data": {
      "text/html": [
       "<div>\n",
       "<style scoped>\n",
       "    .dataframe tbody tr th:only-of-type {\n",
       "        vertical-align: middle;\n",
       "    }\n",
       "\n",
       "    .dataframe tbody tr th {\n",
       "        vertical-align: top;\n",
       "    }\n",
       "\n",
       "    .dataframe thead th {\n",
       "        text-align: right;\n",
       "    }\n",
       "</style>\n",
       "<table border=\"1\" class=\"dataframe\">\n",
       "  <thead>\n",
       "    <tr style=\"text-align: right;\">\n",
       "      <th></th>\n",
       "      <th>topic</th>\n",
       "      <th>question</th>\n",
       "      <th>answerText</th>\n",
       "      <th>gpt_responses_base</th>\n",
       "      <th>gpt_responses_ft</th>\n",
       "    </tr>\n",
       "  </thead>\n",
       "  <tbody>\n",
       "    <tr>\n",
       "      <th>0</th>\n",
       "      <td>relationships</td>\n",
       "      <td>I had to go to the emergency room today to get...</td>\n",
       "      <td>It is extremely frustrating when our significa...</td>\n",
       "      <td>I'm sorry to hear about your experience. It's ...</td>\n",
       "      <td>Be straightforward with how you felt at that s...</td>\n",
       "    </tr>\n",
       "    <tr>\n",
       "      <th>1</th>\n",
       "      <td>marriage</td>\n",
       "      <td>What makes a healthy marriage last? What makes...</td>\n",
       "      <td>This is a fantastic question. In one sentence,...</td>\n",
       "      <td>A healthy and lasting marriage often hinges on...</td>\n",
       "      <td>What a happy, healthy marriage looks or feels ...</td>\n",
       "    </tr>\n",
       "    <tr>\n",
       "      <th>2</th>\n",
       "      <td>relationships</td>\n",
       "      <td>I'm a female freshman in high school, and this...</td>\n",
       "      <td>First off, I think it is great that you are wi...</td>\n",
       "      <td>It's great that you want to support your frien...</td>\n",
       "      <td>Hi there. It sounds like you care a lot for Ti...</td>\n",
       "    </tr>\n",
       "    <tr>\n",
       "      <th>3</th>\n",
       "      <td>intimacy</td>\n",
       "      <td>My wife and I are newly married, about 2 month...</td>\n",
       "      <td>You are newly married, you Have a hectic sched...</td>\n",
       "      <td>Navigating intimacy issues in a new marriage c...</td>\n",
       "      <td>You have most of the knowledge you need alread...</td>\n",
       "    </tr>\n",
       "    <tr>\n",
       "      <th>4</th>\n",
       "      <td>legal-regulatory</td>\n",
       "      <td>I think I have depression, anxiety, bipolar di...</td>\n",
       "      <td>It can be difficult to get counseling if you d...</td>\n",
       "      <td>I'm sorry to hear you're going through this. I...</td>\n",
       "      <td>There are a number of resources you can utiliz...</td>\n",
       "    </tr>\n",
       "  </tbody>\n",
       "</table>\n",
       "</div>"
      ],
      "text/plain": [
       "              topic                                           question  \\\n",
       "0     relationships  I had to go to the emergency room today to get...   \n",
       "1          marriage  What makes a healthy marriage last? What makes...   \n",
       "2     relationships  I'm a female freshman in high school, and this...   \n",
       "3          intimacy  My wife and I are newly married, about 2 month...   \n",
       "4  legal-regulatory  I think I have depression, anxiety, bipolar di...   \n",
       "\n",
       "                                          answerText  \\\n",
       "0  It is extremely frustrating when our significa...   \n",
       "1  This is a fantastic question. In one sentence,...   \n",
       "2  First off, I think it is great that you are wi...   \n",
       "3  You are newly married, you Have a hectic sched...   \n",
       "4  It can be difficult to get counseling if you d...   \n",
       "\n",
       "                                  gpt_responses_base  \\\n",
       "0  I'm sorry to hear about your experience. It's ...   \n",
       "1  A healthy and lasting marriage often hinges on...   \n",
       "2  It's great that you want to support your frien...   \n",
       "3  Navigating intimacy issues in a new marriage c...   \n",
       "4  I'm sorry to hear you're going through this. I...   \n",
       "\n",
       "                                    gpt_responses_ft  \n",
       "0  Be straightforward with how you felt at that s...  \n",
       "1  What a happy, healthy marriage looks or feels ...  \n",
       "2  Hi there. It sounds like you care a lot for Ti...  \n",
       "3  You have most of the knowledge you need alread...  \n",
       "4  There are a number of resources you can utiliz...  "
      ]
     },
     "execution_count": 17,
     "metadata": {},
     "output_type": "execute_result"
    }
   ],
   "source": [
    "df_response_generation['gpt_responses_ft'] = gpt_responses_ft\n",
    "df_response_generation.head()"
   ]
  },
  {
   "cell_type": "markdown",
   "metadata": {},
   "source": [
    "### Inferencing from LLaMA Base Model"
   ]
  },
  {
   "cell_type": "markdown",
   "metadata": {},
   "source": [
    "Preparing the batches of data"
   ]
  },
  {
   "cell_type": "code",
   "execution_count": 18,
   "metadata": {},
   "outputs": [],
   "source": [
    "batch_size = 10\n",
    "question_list = dataset_top_votes_test['question'].to_list()\n",
    "batch_indices = np.arange(0, len(question_list), batch_size)\n",
    "if batch_indices[-1] != len(question_list):\n",
    "    batch_indices = np.append(batch_indices, len(question_list))"
   ]
  },
  {
   "cell_type": "markdown",
   "metadata": {},
   "source": [
    "Loading the base model from Unsloth"
   ]
  },
  {
   "cell_type": "code",
   "execution_count": 19,
   "metadata": {},
   "outputs": [
    {
     "name": "stdout",
     "output_type": "stream",
     "text": [
      "==((====))==  Unsloth 2025.3.19: Fast Llama patching. Transformers: 4.50.2.\n",
      "   \\\\   /|    NVIDIA RTX A6000. Num GPUs = 1. Max memory: 47.413 GB. Platform: Linux.\n",
      "O^O/ \\_/ \\    Torch: 2.4.1+cu124. CUDA: 8.6. CUDA Toolkit: 12.4. Triton: 3.0.0\n",
      "\\        /    Bfloat16 = TRUE. FA [Xformers = 0.0.28.post1. FA2 = True]\n",
      " \"-____-\"     Free license: http://github.com/unslothai/unsloth\n",
      "Unsloth: Fast downloading is enabled - ignore downloading bars which are red colored!\n"
     ]
    }
   ],
   "source": [
    "max_seq_length = 2048 \n",
    "dtype = None # None for auto-detection.\n",
    "load_in_4bit = False # Use 4bit quantization to reduce memory usage. Can be False.\n",
    "\n",
    "model, tokenizer = FastLanguageModel.from_pretrained(\n",
    "    model_name = \"unsloth/Llama-3.2-3B-Instruct\",\n",
    "    max_seq_length = max_seq_length,\n",
    "    load_in_4bit=load_in_4bit,\n",
    "    dtype=dtype,\n",
    "    device_map=\"auto\"\n",
    ")"
   ]
  },
  {
   "cell_type": "markdown",
   "metadata": {},
   "source": [
    "Implementing batch Inference"
   ]
  },
  {
   "cell_type": "code",
   "execution_count": 20,
   "metadata": {},
   "outputs": [],
   "source": [
    "def get_llama_response_base(question_inputs: str):\n",
    "    \n",
    "    llama_inputs = [[{\"role\": \"system\", \"content\": \"You are an expert mental health professional trained to counsel and guide patients suffering from ill mental-health. Limit your response to a maximum of 200 words\"},\n",
    "                     {\"role\": \"user\", \"content\": question}] for question in question_inputs]\n",
    "\n",
    "    prompt = tokenizer.apply_chat_template(llama_inputs, tokenize=False, add_generation_prompt=True)\n",
    "    \n",
    "    inputs = tokenizer(prompt, padding=True, truncation=True, return_tensors=\"pt\")\n",
    "    inputs = {key: val.to(model.device) for key, val in inputs.items()}\n",
    "    temp_texts = tokenizer.batch_decode(inputs['input_ids'], skip_special_tokens=True)\n",
    "    \n",
    "    outputs = model.generate(\n",
    "        **inputs, \n",
    "        max_new_tokens=max_seq_length,\n",
    "        num_return_sequences=1\n",
    "    )\n",
    "\n",
    "    texts = tokenizer.batch_decode(outputs, skip_special_tokens=True)\n",
    "    texts = [i[len(temp_texts[idx]):] for idx, i in enumerate(texts)]\n",
    "    \n",
    "    return texts"
   ]
  },
  {
   "cell_type": "code",
   "execution_count": 21,
   "metadata": {},
   "outputs": [],
   "source": [
    "# # Implementing the Unsloth Fast Inference\n",
    "# FastLanguageModel.for_inference(model)\n",
    "\n",
    "# llama_responses_base = []\n",
    "# for i in tqdm(range(0, len(batch_indices) - 1)):\n",
    "#     questions_input = question_list[batch_indices[i]:batch_indices[i+1]]\n",
    "#     llama_resp = get_llama_response_base(questions_input)\n",
    "#     llama_responses_base = llama_responses_base + llama_resp\n",
    "    \n",
    "# with open('response_generation_data/llama_responses_base.pkl', 'wb') as file:\n",
    "#     pickle.dump(llama_responses_base, file)"
   ]
  },
  {
   "cell_type": "code",
   "execution_count": 22,
   "metadata": {},
   "outputs": [],
   "source": [
    "with open('response_generation_data/llama_responses_base.pkl', 'rb') as file:\n",
    "    llama_responses_base = pickle.load(file)"
   ]
  },
  {
   "cell_type": "code",
   "execution_count": 23,
   "metadata": {},
   "outputs": [
    {
     "data": {
      "text/html": [
       "<div>\n",
       "<style scoped>\n",
       "    .dataframe tbody tr th:only-of-type {\n",
       "        vertical-align: middle;\n",
       "    }\n",
       "\n",
       "    .dataframe tbody tr th {\n",
       "        vertical-align: top;\n",
       "    }\n",
       "\n",
       "    .dataframe thead th {\n",
       "        text-align: right;\n",
       "    }\n",
       "</style>\n",
       "<table border=\"1\" class=\"dataframe\">\n",
       "  <thead>\n",
       "    <tr style=\"text-align: right;\">\n",
       "      <th></th>\n",
       "      <th>topic</th>\n",
       "      <th>question</th>\n",
       "      <th>answerText</th>\n",
       "      <th>gpt_responses_base</th>\n",
       "      <th>gpt_responses_ft</th>\n",
       "      <th>llama_responses_base</th>\n",
       "    </tr>\n",
       "  </thead>\n",
       "  <tbody>\n",
       "    <tr>\n",
       "      <th>0</th>\n",
       "      <td>relationships</td>\n",
       "      <td>I had to go to the emergency room today to get...</td>\n",
       "      <td>It is extremely frustrating when our significa...</td>\n",
       "      <td>I'm sorry to hear about your experience. It's ...</td>\n",
       "      <td>Be straightforward with how you felt at that s...</td>\n",
       "      <td>It's completely understandable that you're fee...</td>\n",
       "    </tr>\n",
       "    <tr>\n",
       "      <th>1</th>\n",
       "      <td>marriage</td>\n",
       "      <td>What makes a healthy marriage last? What makes...</td>\n",
       "      <td>This is a fantastic question. In one sentence,...</td>\n",
       "      <td>A healthy and lasting marriage often hinges on...</td>\n",
       "      <td>What a happy, healthy marriage looks or feels ...</td>\n",
       "      <td>A healthy marriage is built on a foundation of...</td>\n",
       "    </tr>\n",
       "    <tr>\n",
       "      <th>2</th>\n",
       "      <td>relationships</td>\n",
       "      <td>I'm a female freshman in high school, and this...</td>\n",
       "      <td>First off, I think it is great that you are wi...</td>\n",
       "      <td>It's great that you want to support your frien...</td>\n",
       "      <td>Hi there. It sounds like you care a lot for Ti...</td>\n",
       "      <td>I'm glad you're taking the initiative to suppo...</td>\n",
       "    </tr>\n",
       "    <tr>\n",
       "      <th>3</th>\n",
       "      <td>intimacy</td>\n",
       "      <td>My wife and I are newly married, about 2 month...</td>\n",
       "      <td>You are newly married, you Have a hectic sched...</td>\n",
       "      <td>Navigating intimacy issues in a new marriage c...</td>\n",
       "      <td>You have most of the knowledge you need alread...</td>\n",
       "      <td>I can sense the frustration and concern in you...</td>\n",
       "    </tr>\n",
       "    <tr>\n",
       "      <th>4</th>\n",
       "      <td>legal-regulatory</td>\n",
       "      <td>I think I have depression, anxiety, bipolar di...</td>\n",
       "      <td>It can be difficult to get counseling if you d...</td>\n",
       "      <td>I'm sorry to hear you're going through this. I...</td>\n",
       "      <td>There are a number of resources you can utiliz...</td>\n",
       "      <td>I'm so sorry to hear that you're struggling wi...</td>\n",
       "    </tr>\n",
       "  </tbody>\n",
       "</table>\n",
       "</div>"
      ],
      "text/plain": [
       "              topic                                           question  \\\n",
       "0     relationships  I had to go to the emergency room today to get...   \n",
       "1          marriage  What makes a healthy marriage last? What makes...   \n",
       "2     relationships  I'm a female freshman in high school, and this...   \n",
       "3          intimacy  My wife and I are newly married, about 2 month...   \n",
       "4  legal-regulatory  I think I have depression, anxiety, bipolar di...   \n",
       "\n",
       "                                          answerText  \\\n",
       "0  It is extremely frustrating when our significa...   \n",
       "1  This is a fantastic question. In one sentence,...   \n",
       "2  First off, I think it is great that you are wi...   \n",
       "3  You are newly married, you Have a hectic sched...   \n",
       "4  It can be difficult to get counseling if you d...   \n",
       "\n",
       "                                  gpt_responses_base  \\\n",
       "0  I'm sorry to hear about your experience. It's ...   \n",
       "1  A healthy and lasting marriage often hinges on...   \n",
       "2  It's great that you want to support your frien...   \n",
       "3  Navigating intimacy issues in a new marriage c...   \n",
       "4  I'm sorry to hear you're going through this. I...   \n",
       "\n",
       "                                    gpt_responses_ft  \\\n",
       "0  Be straightforward with how you felt at that s...   \n",
       "1  What a happy, healthy marriage looks or feels ...   \n",
       "2  Hi there. It sounds like you care a lot for Ti...   \n",
       "3  You have most of the knowledge you need alread...   \n",
       "4  There are a number of resources you can utiliz...   \n",
       "\n",
       "                                llama_responses_base  \n",
       "0  It's completely understandable that you're fee...  \n",
       "1  A healthy marriage is built on a foundation of...  \n",
       "2  I'm glad you're taking the initiative to suppo...  \n",
       "3  I can sense the frustration and concern in you...  \n",
       "4  I'm so sorry to hear that you're struggling wi...  "
      ]
     },
     "execution_count": 23,
     "metadata": {},
     "output_type": "execute_result"
    }
   ],
   "source": [
    "df_response_generation['llama_responses_base'] = llama_responses_base\n",
    "df_response_generation.head()"
   ]
  },
  {
   "cell_type": "markdown",
   "metadata": {},
   "source": [
    "### Inferencing from LLaMA Fine-Tune Model"
   ]
  },
  {
   "cell_type": "markdown",
   "metadata": {},
   "source": [
    "Preparing the batches of data"
   ]
  },
  {
   "cell_type": "code",
   "execution_count": 24,
   "metadata": {},
   "outputs": [],
   "source": [
    "batch_size = 10\n",
    "question_list = dataset_top_votes_test['question'].to_list()\n",
    "batch_indices = np.arange(0, len(question_list), batch_size)\n",
    "if batch_indices[-1] != len(question_list):\n",
    "    batch_indices = np.append(batch_indices, len(question_list))"
   ]
  },
  {
   "cell_type": "markdown",
   "metadata": {},
   "source": [
    "Loading the fine-tuned model"
   ]
  },
  {
   "cell_type": "code",
   "execution_count": 25,
   "metadata": {},
   "outputs": [
    {
     "name": "stdout",
     "output_type": "stream",
     "text": [
      "==((====))==  Unsloth 2025.3.19: Fast Llama patching. Transformers: 4.50.2.\n",
      "   \\\\   /|    NVIDIA RTX A6000. Num GPUs = 1. Max memory: 47.413 GB. Platform: Linux.\n",
      "O^O/ \\_/ \\    Torch: 2.4.1+cu124. CUDA: 8.6. CUDA Toolkit: 12.4. Triton: 3.0.0\n",
      "\\        /    Bfloat16 = TRUE. FA [Xformers = 0.0.28.post1. FA2 = True]\n",
      " \"-____-\"     Free license: http://github.com/unslothai/unsloth\n",
      "Unsloth: Fast downloading is enabled - ignore downloading bars which are red colored!\n"
     ]
    },
    {
     "name": "stderr",
     "output_type": "stream",
     "text": [
      "Unsloth 2025.3.19 patched 28 layers with 28 QKV layers, 28 O layers and 28 MLP layers.\n"
     ]
    }
   ],
   "source": [
    "model_id = \"llama32-sft-fine-tune-counselchat\"\n",
    "\n",
    "max_seq_length = 2048 \n",
    "dtype = None # None for auto-detection.\n",
    "load_in_4bit = False # Use 4bit quantization to reduce memory usage. Can be False.\n",
    "\n",
    "model, tokenizer = FastLanguageModel.from_pretrained(\n",
    "    model_name = model_id,\n",
    "    max_seq_length = max_seq_length,\n",
    "    load_in_4bit=load_in_4bit,\n",
    "    dtype=dtype,\n",
    "    device_map=\"auto\"\n",
    ")"
   ]
  },
  {
   "cell_type": "markdown",
   "metadata": {},
   "source": [
    "Implementing batch Inference"
   ]
  },
  {
   "cell_type": "code",
   "execution_count": 26,
   "metadata": {},
   "outputs": [],
   "source": [
    "def get_llama_response_ft(question_inputs: str):\n",
    "    \n",
    "    llama_inputs = [[{\"role\": \"system\", \"content\": \"You are an expert mental health professional trained to counsel and guide patients suffering from ill mental-health.\"},\n",
    "                     {\"role\": \"user\", \"content\": question}] for question in question_inputs]\n",
    "\n",
    "    prompt = tokenizer.apply_chat_template(llama_inputs, tokenize=False, add_generation_prompt=True)\n",
    "    \n",
    "    inputs = tokenizer(prompt, padding=True, truncation=True, return_tensors=\"pt\")\n",
    "    inputs = {key: val.to(model.device) for key, val in inputs.items()}\n",
    "    temp_texts = tokenizer.batch_decode(inputs['input_ids'], skip_special_tokens=True)\n",
    "    \n",
    "    outputs = model.generate(\n",
    "        **inputs, \n",
    "        max_new_tokens=max_seq_length,\n",
    "        num_return_sequences=1\n",
    "    )\n",
    "\n",
    "    texts = tokenizer.batch_decode(outputs, skip_special_tokens=True)\n",
    "    texts = [i[len(temp_texts[idx]):] for idx, i in enumerate(texts)]\n",
    "    \n",
    "    return texts"
   ]
  },
  {
   "cell_type": "code",
   "execution_count": 27,
   "metadata": {},
   "outputs": [],
   "source": [
    "# # Implementing the Unsloth Fast Inference\n",
    "# FastLanguageModel.for_inference(model)\n",
    "\n",
    "# llama_responses_ft = []\n",
    "# for i in tqdm(range(0, len(batch_indices) - 1)):\n",
    "#     questions_input = question_list[batch_indices[i]:batch_indices[i+1]]\n",
    "#     llama_resp = get_llama_response_ft(questions_input)\n",
    "#     llama_responses_ft = llama_responses_ft + llama_resp\n",
    "\n",
    "# with open('response_generation_data/llama_responses_ft.pkl', 'wb') as file:\n",
    "#     pickle.dump(llama_responses_ft, file)"
   ]
  },
  {
   "cell_type": "code",
   "execution_count": 28,
   "metadata": {},
   "outputs": [],
   "source": [
    "with open('response_generation_data/llama_responses_ft.pkl', 'rb') as file:\n",
    "    llama_responses_ft = pickle.load(file)"
   ]
  },
  {
   "cell_type": "code",
   "execution_count": 29,
   "metadata": {},
   "outputs": [
    {
     "data": {
      "text/html": [
       "<div>\n",
       "<style scoped>\n",
       "    .dataframe tbody tr th:only-of-type {\n",
       "        vertical-align: middle;\n",
       "    }\n",
       "\n",
       "    .dataframe tbody tr th {\n",
       "        vertical-align: top;\n",
       "    }\n",
       "\n",
       "    .dataframe thead th {\n",
       "        text-align: right;\n",
       "    }\n",
       "</style>\n",
       "<table border=\"1\" class=\"dataframe\">\n",
       "  <thead>\n",
       "    <tr style=\"text-align: right;\">\n",
       "      <th></th>\n",
       "      <th>topic</th>\n",
       "      <th>question</th>\n",
       "      <th>answerText</th>\n",
       "      <th>gpt_responses_base</th>\n",
       "      <th>gpt_responses_ft</th>\n",
       "      <th>llama_responses_base</th>\n",
       "      <th>llama_responses_ft</th>\n",
       "    </tr>\n",
       "  </thead>\n",
       "  <tbody>\n",
       "    <tr>\n",
       "      <th>0</th>\n",
       "      <td>relationships</td>\n",
       "      <td>I had to go to the emergency room today to get...</td>\n",
       "      <td>It is extremely frustrating when our significa...</td>\n",
       "      <td>I'm sorry to hear about your experience. It's ...</td>\n",
       "      <td>Be straightforward with how you felt at that s...</td>\n",
       "      <td>It's completely understandable that you're fee...</td>\n",
       "      <td>It's hard to understand why you're mad. It's p...</td>\n",
       "    </tr>\n",
       "    <tr>\n",
       "      <th>1</th>\n",
       "      <td>marriage</td>\n",
       "      <td>What makes a healthy marriage last? What makes...</td>\n",
       "      <td>This is a fantastic question. In one sentence,...</td>\n",
       "      <td>A healthy and lasting marriage often hinges on...</td>\n",
       "      <td>What a happy, healthy marriage looks or feels ...</td>\n",
       "      <td>A healthy marriage is built on a foundation of...</td>\n",
       "      <td>Good question! There are many things that can ...</td>\n",
       "    </tr>\n",
       "    <tr>\n",
       "      <th>2</th>\n",
       "      <td>relationships</td>\n",
       "      <td>I'm a female freshman in high school, and this...</td>\n",
       "      <td>First off, I think it is great that you are wi...</td>\n",
       "      <td>It's great that you want to support your frien...</td>\n",
       "      <td>Hi there. It sounds like you care a lot for Ti...</td>\n",
       "      <td>I'm glad you're taking the initiative to suppo...</td>\n",
       "      <td>Hi. You're asking a lot of questions, and I'll...</td>\n",
       "    </tr>\n",
       "    <tr>\n",
       "      <th>3</th>\n",
       "      <td>intimacy</td>\n",
       "      <td>My wife and I are newly married, about 2 month...</td>\n",
       "      <td>You are newly married, you Have a hectic sched...</td>\n",
       "      <td>Navigating intimacy issues in a new marriage c...</td>\n",
       "      <td>You have most of the knowledge you need alread...</td>\n",
       "      <td>I can sense the frustration and concern in you...</td>\n",
       "      <td>I think you're being overly critical of your w...</td>\n",
       "    </tr>\n",
       "    <tr>\n",
       "      <th>4</th>\n",
       "      <td>legal-regulatory</td>\n",
       "      <td>I think I have depression, anxiety, bipolar di...</td>\n",
       "      <td>It can be difficult to get counseling if you d...</td>\n",
       "      <td>I'm sorry to hear you're going through this. I...</td>\n",
       "      <td>There are a number of resources you can utiliz...</td>\n",
       "      <td>I'm so sorry to hear that you're struggling wi...</td>\n",
       "      <td>I'm so sorry to hear that you are struggling w...</td>\n",
       "    </tr>\n",
       "  </tbody>\n",
       "</table>\n",
       "</div>"
      ],
      "text/plain": [
       "              topic                                           question  \\\n",
       "0     relationships  I had to go to the emergency room today to get...   \n",
       "1          marriage  What makes a healthy marriage last? What makes...   \n",
       "2     relationships  I'm a female freshman in high school, and this...   \n",
       "3          intimacy  My wife and I are newly married, about 2 month...   \n",
       "4  legal-regulatory  I think I have depression, anxiety, bipolar di...   \n",
       "\n",
       "                                          answerText  \\\n",
       "0  It is extremely frustrating when our significa...   \n",
       "1  This is a fantastic question. In one sentence,...   \n",
       "2  First off, I think it is great that you are wi...   \n",
       "3  You are newly married, you Have a hectic sched...   \n",
       "4  It can be difficult to get counseling if you d...   \n",
       "\n",
       "                                  gpt_responses_base  \\\n",
       "0  I'm sorry to hear about your experience. It's ...   \n",
       "1  A healthy and lasting marriage often hinges on...   \n",
       "2  It's great that you want to support your frien...   \n",
       "3  Navigating intimacy issues in a new marriage c...   \n",
       "4  I'm sorry to hear you're going through this. I...   \n",
       "\n",
       "                                    gpt_responses_ft  \\\n",
       "0  Be straightforward with how you felt at that s...   \n",
       "1  What a happy, healthy marriage looks or feels ...   \n",
       "2  Hi there. It sounds like you care a lot for Ti...   \n",
       "3  You have most of the knowledge you need alread...   \n",
       "4  There are a number of resources you can utiliz...   \n",
       "\n",
       "                                llama_responses_base  \\\n",
       "0  It's completely understandable that you're fee...   \n",
       "1  A healthy marriage is built on a foundation of...   \n",
       "2  I'm glad you're taking the initiative to suppo...   \n",
       "3  I can sense the frustration and concern in you...   \n",
       "4  I'm so sorry to hear that you're struggling wi...   \n",
       "\n",
       "                                  llama_responses_ft  \n",
       "0  It's hard to understand why you're mad. It's p...  \n",
       "1  Good question! There are many things that can ...  \n",
       "2  Hi. You're asking a lot of questions, and I'll...  \n",
       "3  I think you're being overly critical of your w...  \n",
       "4  I'm so sorry to hear that you are struggling w...  "
      ]
     },
     "execution_count": 29,
     "metadata": {},
     "output_type": "execute_result"
    }
   ],
   "source": [
    "df_response_generation['llama_responses_ft'] = llama_responses_ft\n",
    "df_response_generation.head()"
   ]
  },
  {
   "cell_type": "code",
   "execution_count": 31,
   "metadata": {},
   "outputs": [
    {
     "data": {
      "text/plain": [
       "0     It's hard to understand why you're mad. It's p...\n",
       "1     Good question! There are many things that can ...\n",
       "2     Hi. You're asking a lot of questions, and I'll...\n",
       "3     I think you're being overly critical of your w...\n",
       "4     I'm so sorry to hear that you are struggling w...\n",
       "5     I'm sorry that you are going through this. It'...\n",
       "6     I'm glad you're reaching out. I think it's a g...\n",
       "7     There are many reasons why a child would be pl...\n",
       "8     Hi. I'm so glad you're asking this question. I...\n",
       "9     I would recommend you learn some relaxation te...\n",
       "10    erson P P P P P P P P P P P P P P P P P P P P ...\n",
       "11    ending PPSuggest PSSuggest PSSuggest PSSuggest...\n",
       "12    erson P P P P P P P P P P P P P P P P P P P P ...\n",
       "13    ayn P I'm sure you are rightThat you are right...\n",
       "14    ersonally, I'm a little sad.  I had a bad drea...\n",
       "15    ersonally You are Pissing Me OffI don't think ...\n",
       "16    I think the most important thing you can do he...\n",
       "17    ersonally, I have been a college student for 1...\n",
       "18    erson I am tired and tired and tired and tired...\n",
       "19    ending your pointI am wondering if you are won...\n",
       "20    our Psssthe Psssthe Psssthe Psssthe Psssthe Ps...\n",
       "21    erson P P P P P P P P P P P P P P P P P P P P ...\n",
       "22    ending P P P P P P P P P P P P P P P P P P P P...\n",
       "23    urpose P The P P P P P P P P P P P P P P P P P...\n",
       "24    rote P P p P p p p p p p p p p p p p p p p p p...\n",
       "25    ending P P p p p p p p p p p p p p p p p p p p...\n",
       "26    utting PSSPfPSSPpPSSPpSSPpSSPpSSPpSSPpSSPpSSPp...\n",
       "27    erson...PSPRPsupport PSCoP  PSSetP  PSSetP  PS...\n",
       "28    ending PThere PThere Pp Pppppppppppppppppppppp...\n",
       "29    Hi! I'm glad you're asking questions here. I'm...\n",
       "30    ossibly your paranoia is related to a lot of s...\n",
       "31    ersonally, I would P P Suggest that if you are...\n",
       "32    olive I think you may have some good points wi...\n",
       "33    roducing the P in P P P P P P P P P P P P P P ...\n",
       "34    auld like you are showing a very common trait ...\n",
       "35    enjoy sex?I don't know whyI don't know whyI ha...\n",
       "36    ending a marriage is never easy.  However, if ...\n",
       "37    ersonally, if you like him, and if you are int...\n",
       "38    Hi, I'm so sorry to hear that you've had such ...\n",
       "39    ose to be in a relationship that you want to b...\n",
       "40    ossibly, you could tell your dad what you know...\n",
       "41    ossibly you will benefit from speaking with a ...\n",
       "42    ersonally, I'm not sure what it means to be \"i...\n",
       "43    ersonally, I don't feel like I am depressed. I...\n",
       "44    ersonally I am happy to be able to help people...\n",
       "45    ersonally, I wish you the best of luck in your...\n",
       "46    ersonalPity is a feeling of sadness and unhapp...\n",
       "47    I don't think it's possible that you're not sa...\n",
       "48    ersonally I don't like the idea of being in a ...\n",
       "49    The question you have here is how to connect a...\n",
       "Name: llama_responses_ft, dtype: object"
      ]
     },
     "execution_count": 31,
     "metadata": {},
     "output_type": "execute_result"
    }
   ],
   "source": [
    "df_response_generation['llama_responses_ft'][0:50]"
   ]
  },
  {
   "cell_type": "markdown",
   "metadata": {},
   "source": [
    "#### Saving the compiled responses for all the models"
   ]
  },
  {
   "cell_type": "code",
   "execution_count": 26,
   "metadata": {},
   "outputs": [],
   "source": [
    "with open('response_generation_data/all_model_responses.pkl', 'wb') as file:\n",
    "    pickle.dump(df_response_generation, file)"
   ]
  },
  {
   "cell_type": "code",
   "execution_count": 28,
   "metadata": {},
   "outputs": [
    {
     "data": {
      "text/html": [
       "<div>\n",
       "<style scoped>\n",
       "    .dataframe tbody tr th:only-of-type {\n",
       "        vertical-align: middle;\n",
       "    }\n",
       "\n",
       "    .dataframe tbody tr th {\n",
       "        vertical-align: top;\n",
       "    }\n",
       "\n",
       "    .dataframe thead th {\n",
       "        text-align: right;\n",
       "    }\n",
       "</style>\n",
       "<table border=\"1\" class=\"dataframe\">\n",
       "  <thead>\n",
       "    <tr style=\"text-align: right;\">\n",
       "      <th></th>\n",
       "      <th>topic</th>\n",
       "      <th>question</th>\n",
       "      <th>answerText</th>\n",
       "      <th>gpt_responses_base</th>\n",
       "      <th>gpt_responses_ft</th>\n",
       "      <th>llama_responses_base</th>\n",
       "      <th>llama_responses_ft</th>\n",
       "    </tr>\n",
       "  </thead>\n",
       "  <tbody>\n",
       "    <tr>\n",
       "      <th>0</th>\n",
       "      <td>relationships</td>\n",
       "      <td>I had to go to the emergency room today to get...</td>\n",
       "      <td>It is extremely frustrating when our significa...</td>\n",
       "      <td>I'm sorry to hear about your experience. It's ...</td>\n",
       "      <td>Be straightforward with how you felt at that s...</td>\n",
       "      <td>It's completely understandable that you're fee...</td>\n",
       "      <td>It's hard to understand why you're mad. It's p...</td>\n",
       "    </tr>\n",
       "    <tr>\n",
       "      <th>1</th>\n",
       "      <td>marriage</td>\n",
       "      <td>What makes a healthy marriage last? What makes...</td>\n",
       "      <td>This is a fantastic question. In one sentence,...</td>\n",
       "      <td>A healthy and lasting marriage often hinges on...</td>\n",
       "      <td>What a happy, healthy marriage looks or feels ...</td>\n",
       "      <td>A healthy marriage is built on a foundation of...</td>\n",
       "      <td>Good question! There are many things that can ...</td>\n",
       "    </tr>\n",
       "    <tr>\n",
       "      <th>2</th>\n",
       "      <td>relationships</td>\n",
       "      <td>I'm a female freshman in high school, and this...</td>\n",
       "      <td>First off, I think it is great that you are wi...</td>\n",
       "      <td>It's great that you want to support your frien...</td>\n",
       "      <td>Hi there. It sounds like you care a lot for Ti...</td>\n",
       "      <td>I'm glad you're taking the initiative to suppo...</td>\n",
       "      <td>Hi. You're asking a lot of questions, and I'll...</td>\n",
       "    </tr>\n",
       "    <tr>\n",
       "      <th>3</th>\n",
       "      <td>intimacy</td>\n",
       "      <td>My wife and I are newly married, about 2 month...</td>\n",
       "      <td>You are newly married, you Have a hectic sched...</td>\n",
       "      <td>Navigating intimacy issues in a new marriage c...</td>\n",
       "      <td>You have most of the knowledge you need alread...</td>\n",
       "      <td>I can sense the frustration and concern in you...</td>\n",
       "      <td>I think you're being overly critical of your w...</td>\n",
       "    </tr>\n",
       "    <tr>\n",
       "      <th>4</th>\n",
       "      <td>legal-regulatory</td>\n",
       "      <td>I think I have depression, anxiety, bipolar di...</td>\n",
       "      <td>It can be difficult to get counseling if you d...</td>\n",
       "      <td>I'm sorry to hear you're going through this. I...</td>\n",
       "      <td>There are a number of resources you can utiliz...</td>\n",
       "      <td>I'm so sorry to hear that you're struggling wi...</td>\n",
       "      <td>I'm so sorry to hear that you are struggling w...</td>\n",
       "    </tr>\n",
       "  </tbody>\n",
       "</table>\n",
       "</div>"
      ],
      "text/plain": [
       "              topic                                           question  \\\n",
       "0     relationships  I had to go to the emergency room today to get...   \n",
       "1          marriage  What makes a healthy marriage last? What makes...   \n",
       "2     relationships  I'm a female freshman in high school, and this...   \n",
       "3          intimacy  My wife and I are newly married, about 2 month...   \n",
       "4  legal-regulatory  I think I have depression, anxiety, bipolar di...   \n",
       "\n",
       "                                          answerText  \\\n",
       "0  It is extremely frustrating when our significa...   \n",
       "1  This is a fantastic question. In one sentence,...   \n",
       "2  First off, I think it is great that you are wi...   \n",
       "3  You are newly married, you Have a hectic sched...   \n",
       "4  It can be difficult to get counseling if you d...   \n",
       "\n",
       "                                  gpt_responses_base  \\\n",
       "0  I'm sorry to hear about your experience. It's ...   \n",
       "1  A healthy and lasting marriage often hinges on...   \n",
       "2  It's great that you want to support your frien...   \n",
       "3  Navigating intimacy issues in a new marriage c...   \n",
       "4  I'm sorry to hear you're going through this. I...   \n",
       "\n",
       "                                    gpt_responses_ft  \\\n",
       "0  Be straightforward with how you felt at that s...   \n",
       "1  What a happy, healthy marriage looks or feels ...   \n",
       "2  Hi there. It sounds like you care a lot for Ti...   \n",
       "3  You have most of the knowledge you need alread...   \n",
       "4  There are a number of resources you can utiliz...   \n",
       "\n",
       "                                llama_responses_base  \\\n",
       "0  It's completely understandable that you're fee...   \n",
       "1  A healthy marriage is built on a foundation of...   \n",
       "2  I'm glad you're taking the initiative to suppo...   \n",
       "3  I can sense the frustration and concern in you...   \n",
       "4  I'm so sorry to hear that you're struggling wi...   \n",
       "\n",
       "                                  llama_responses_ft  \n",
       "0  It's hard to understand why you're mad. It's p...  \n",
       "1  Good question! There are many things that can ...  \n",
       "2  Hi. You're asking a lot of questions, and I'll...  \n",
       "3  I think you're being overly critical of your w...  \n",
       "4  I'm so sorry to hear that you are struggling w...  "
      ]
     },
     "execution_count": 28,
     "metadata": {},
     "output_type": "execute_result"
    }
   ],
   "source": [
    "with open('response_generation_data/all_model_responses.pkl', 'rb') as file:\n",
    "    df_response_generation = pickle.load(file)\n",
    "\n",
    "df_response_generation.head()"
   ]
  },
  {
   "cell_type": "code",
   "execution_count": 1,
   "metadata": {},
   "outputs": [
    {
     "ename": "NameError",
     "evalue": "name 'df_response_generation' is not defined",
     "output_type": "error",
     "traceback": [
      "\u001b[31m---------------------------------------------------------------------------\u001b[39m",
      "\u001b[31mNameError\u001b[39m                                 Traceback (most recent call last)",
      "\u001b[36mCell\u001b[39m\u001b[36m \u001b[39m\u001b[32mIn[1]\u001b[39m\u001b[32m, line 1\u001b[39m\n\u001b[32m----> \u001b[39m\u001b[32m1\u001b[39m \u001b[43mdf_response_generation\u001b[49m\n",
      "\u001b[31mNameError\u001b[39m: name 'df_response_generation' is not defined"
     ]
    }
   ],
   "source": [
    "df_response_generation"
   ]
  },
  {
   "cell_type": "code",
   "execution_count": null,
   "metadata": {},
   "outputs": [],
   "source": []
  }
 ],
 "metadata": {
  "kernelspec": {
   "display_name": "mental-health-agents",
   "language": "python",
   "name": "python3"
  },
  "language_info": {
   "codemirror_mode": {
    "name": "ipython",
    "version": 3
   },
   "file_extension": ".py",
   "mimetype": "text/x-python",
   "name": "python",
   "nbconvert_exporter": "python",
   "pygments_lexer": "ipython3",
   "version": "3.12.9"
  }
 },
 "nbformat": 4,
 "nbformat_minor": 2
}
