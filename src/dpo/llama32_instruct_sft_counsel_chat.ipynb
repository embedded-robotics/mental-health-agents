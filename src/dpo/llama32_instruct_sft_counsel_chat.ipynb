{
 "cells": [
  {
   "cell_type": "code",
   "execution_count": 1,
   "metadata": {},
   "outputs": [
    {
     "name": "stderr",
     "output_type": "stream",
     "text": [
      "/data/mn27889/miniconda3/envs/mental-health/lib/python3.12/site-packages/tqdm/auto.py:21: TqdmWarning: IProgress not found. Please update jupyter and ipywidgets. See https://ipywidgets.readthedocs.io/en/stable/user_install.html\n",
      "  from .autonotebook import tqdm as notebook_tqdm\n"
     ]
    }
   ],
   "source": [
    "import torch\n",
    "import pickle\n",
    "from transformers import pipeline, AutoModelForCausalLM, AutoTokenizer, Trainer, TrainingArguments\n",
    "from datasets import load_dataset"
   ]
  },
  {
   "cell_type": "markdown",
   "metadata": {},
   "source": [
    "Some links to be used for fine-tuning\n",
    "1. https://medium.com/@alexandros_chariton/how-to-fine-tune-llama-3-2-instruct-on-your-own-data-a-detailed-guide-e5f522f397d7\n",
    "2. https://drlee.io/step-by-step-guide-fine-tuning-metas-llama-3-2-1b-model-f1262eda36c8\n",
    "3. https://huggingface.co/blog/ImranzamanML/fine-tuning-1b-llama-32-a-comprehensive-article\n",
    "4. https://medium.com/@hakeemsyd/how-to-fine-tune-your-llama-3-2-model-49a6f8c7621a\n",
    "5. https://www.analyticsvidhya.com/blog/2024/12/fine-tuning-llama-3-2-3b-for-rag/\n",
    "6. https://blog.futuresmart.ai/fine-tune-llama-32-vision-language-model-on-custom-datasets\n",
    "7. https://www.kdnuggets.com/fine-tuning-llama-using-unsloth\n",
    "8. https://www.linkedin.com/pulse/step-guide-use-fine-tune-llama-32-dr-oualid-soula-xmnff/\n",
    "9. https://github.com/meta-llama/llama-cookbook/blob/main/getting-started/finetuning/multigpu_finetuning.md\n",
    "\n"
   ]
  },
  {
   "cell_type": "markdown",
   "metadata": {},
   "source": [
    "### Reading the Counsel Chat Dataset"
   ]
  },
  {
   "cell_type": "code",
   "execution_count": 2,
   "metadata": {},
   "outputs": [
    {
     "data": {
      "text/html": [
       "<div>\n",
       "<style scoped>\n",
       "    .dataframe tbody tr th:only-of-type {\n",
       "        vertical-align: middle;\n",
       "    }\n",
       "\n",
       "    .dataframe tbody tr th {\n",
       "        vertical-align: top;\n",
       "    }\n",
       "\n",
       "    .dataframe thead th {\n",
       "        text-align: right;\n",
       "    }\n",
       "</style>\n",
       "<table border=\"1\" class=\"dataframe\">\n",
       "  <thead>\n",
       "    <tr style=\"text-align: right;\">\n",
       "      <th></th>\n",
       "      <th>topic</th>\n",
       "      <th>question</th>\n",
       "      <th>answerText</th>\n",
       "    </tr>\n",
       "  </thead>\n",
       "  <tbody>\n",
       "    <tr>\n",
       "      <th>0</th>\n",
       "      <td>relationships</td>\n",
       "      <td>My partner seems to always get depressed over ...</td>\n",
       "      <td>Hold on, Sanger! You know, I meet with a lot o...</td>\n",
       "    </tr>\n",
       "    <tr>\n",
       "      <th>1</th>\n",
       "      <td>depression</td>\n",
       "      <td>My depression has been reoccurring for a long ...</td>\n",
       "      <td>I couldn't help but notice that you did not sp...</td>\n",
       "    </tr>\n",
       "    <tr>\n",
       "      <th>2</th>\n",
       "      <td>relationships</td>\n",
       "      <td>My boyfriend is in Ireland for 11 days, and I ...</td>\n",
       "      <td>It sounds like you and your boyfriend are very...</td>\n",
       "    </tr>\n",
       "    <tr>\n",
       "      <th>3</th>\n",
       "      <td>family-conflict</td>\n",
       "      <td>Ever since my mother passed away my family has...</td>\n",
       "      <td>Understandably you'd like support from those w...</td>\n",
       "    </tr>\n",
       "    <tr>\n",
       "      <th>4</th>\n",
       "      <td>grief-and-loss</td>\n",
       "      <td>What can I do to stop grieving my mother's dea...</td>\n",
       "      <td>I am sorry that you lost your mother. That is ...</td>\n",
       "    </tr>\n",
       "    <tr>\n",
       "      <th>...</th>\n",
       "      <td>...</td>\n",
       "      <td>...</td>\n",
       "      <td>...</td>\n",
       "    </tr>\n",
       "    <tr>\n",
       "      <th>858</th>\n",
       "      <td>relationships</td>\n",
       "      <td>Ever since I was little, I loved the idea of l...</td>\n",
       "      <td>Attention is often something that is both want...</td>\n",
       "    </tr>\n",
       "    <tr>\n",
       "      <th>859</th>\n",
       "      <td>relationship-dissolution</td>\n",
       "      <td>We're not together, but I'm still doing things...</td>\n",
       "      <td>You didn't ask a direct question because I fee...</td>\n",
       "    </tr>\n",
       "    <tr>\n",
       "      <th>860</th>\n",
       "      <td>parenting</td>\n",
       "      <td>When my son was a teenager, we sent him to liv...</td>\n",
       "      <td>Probably the best way to be supportive of your...</td>\n",
       "    </tr>\n",
       "    <tr>\n",
       "      <th>861</th>\n",
       "      <td>depression</td>\n",
       "      <td>I've had posttraumatic stress disorder for yea...</td>\n",
       "      <td>Post traumatic stress disorder (PTSD) is a ver...</td>\n",
       "    </tr>\n",
       "    <tr>\n",
       "      <th>862</th>\n",
       "      <td>family-conflict</td>\n",
       "      <td>My dad is doing some really bad drugs, and I'm...</td>\n",
       "      <td>It seems like you are going trough stages of g...</td>\n",
       "    </tr>\n",
       "  </tbody>\n",
       "</table>\n",
       "<p>863 rows × 3 columns</p>\n",
       "</div>"
      ],
      "text/plain": [
       "                        topic  \\\n",
       "0               relationships   \n",
       "1                  depression   \n",
       "2               relationships   \n",
       "3             family-conflict   \n",
       "4              grief-and-loss   \n",
       "..                        ...   \n",
       "858             relationships   \n",
       "859  relationship-dissolution   \n",
       "860                 parenting   \n",
       "861                depression   \n",
       "862           family-conflict   \n",
       "\n",
       "                                              question  \\\n",
       "0    My partner seems to always get depressed over ...   \n",
       "1    My depression has been reoccurring for a long ...   \n",
       "2    My boyfriend is in Ireland for 11 days, and I ...   \n",
       "3    Ever since my mother passed away my family has...   \n",
       "4    What can I do to stop grieving my mother's dea...   \n",
       "..                                                 ...   \n",
       "858  Ever since I was little, I loved the idea of l...   \n",
       "859  We're not together, but I'm still doing things...   \n",
       "860  When my son was a teenager, we sent him to liv...   \n",
       "861  I've had posttraumatic stress disorder for yea...   \n",
       "862  My dad is doing some really bad drugs, and I'm...   \n",
       "\n",
       "                                            answerText  \n",
       "0    Hold on, Sanger! You know, I meet with a lot o...  \n",
       "1    I couldn't help but notice that you did not sp...  \n",
       "2    It sounds like you and your boyfriend are very...  \n",
       "3    Understandably you'd like support from those w...  \n",
       "4    I am sorry that you lost your mother. That is ...  \n",
       "..                                                 ...  \n",
       "858  Attention is often something that is both want...  \n",
       "859  You didn't ask a direct question because I fee...  \n",
       "860  Probably the best way to be supportive of your...  \n",
       "861  Post traumatic stress disorder (PTSD) is a ver...  \n",
       "862  It seems like you are going trough stages of g...  \n",
       "\n",
       "[863 rows x 3 columns]"
      ]
     },
     "execution_count": 2,
     "metadata": {},
     "output_type": "execute_result"
    }
   ],
   "source": [
    "with open('processed_data/counselchat_top_votes.pkl', 'rb') as file:\n",
    "    dataset_df_top_votes = pickle.load(file)\n",
    "\n",
    "dataset_df_top_votes"
   ]
  },
  {
   "cell_type": "markdown",
   "metadata": {},
   "source": [
    "### Writing the Fine-Tuning Code"
   ]
  },
  {
   "cell_type": "code",
   "execution_count": null,
   "metadata": {},
   "outputs": [],
   "source": [
    "with open('hf_token.key', 'r') as f:\n",
    "    hf_token = f.read()\n",
    "\n",
    "model_id = \"meta-llama/Llama-3.2-3B-Instruct\""
   ]
  },
  {
   "cell_type": "code",
   "execution_count": null,
   "metadata": {},
   "outputs": [],
   "source": [
    "tokenizer = AutoTokenizer.from_pretrained(model_id)\n",
    "# Adding a special token for pad token so that eos token can be recognized \n",
    "# (https://github.com/unslothai/unsloth/issues/416)\n",
    "# https://github.com/huggingface/transformers/issues/22794\n",
    "# https://github.com/huggingface/transformers/issues/23230\n",
    "tokenizer.add_special_tokens({\"pad_token\": \"<|reserved_special_token_0|>\"})\n",
    "tokenizer.padding_side = \"right\"\n",
    "tokenizer.model_max_length = 2048"
   ]
  },
  {
   "cell_type": "code",
   "execution_count": null,
   "metadata": {},
   "outputs": [],
   "source": [
    "model = AutoModelForCausalLM.from_pretrained(model_id, torch_dtype=torch.bfloat16, device_map=\"auto\") # Must be float32 for MacBooks!\n",
    "\n",
    "model.config.use_cache=False\n",
    "model.config.pad_token_id = tokenizer.pad_token_id # Updating the model config to use the special pad token"
   ]
  },
  {
   "cell_type": "code",
   "execution_count": null,
   "metadata": {},
   "outputs": [],
   "source": [
    "# Define a function to apply the chat template\n",
    "def format_chat_template(example):\n",
    "    question_text_title_combined = None\n",
    "    \n",
    "    if example['questionTitle'] == None:\n",
    "        question_text_title_combined = example['questionText']\n",
    "    elif example['questionText'] == None:\n",
    "        question_text_title_combined = example['questionTitle']\n",
    "    else:\n",
    "        question_text_title_combined = example['questionText'] + \" \" + example['questionTitle']\n",
    "    \n",
    "    messages = [\n",
    "        {\"role\": \"user\", \"content\": question_text_title_combined},\n",
    "        {\"role\": \"assistant\", \"content\": example['answerText']}\n",
    "    ]\n",
    "    prompt = tokenizer.apply_chat_template(\n",
    "        messages, tokenize=False, add_generation_prompt=True\n",
    "    )\n",
    "    return {\"prompt\": prompt}"
   ]
  },
  {
   "cell_type": "code",
   "execution_count": null,
   "metadata": {},
   "outputs": [],
   "source": [
    "new_dataset = dataset.map(format_chat_template)\n",
    "new_dataset = new_dataset.train_test_split(0.05)"
   ]
  },
  {
   "cell_type": "code",
   "execution_count": null,
   "metadata": {},
   "outputs": [],
   "source": [
    "# Tokenize the data\n",
    "def tokenize_function(example):\n",
    "    tokens = tokenizer(example['prompt'], padding=\"max_length\", truncation=True)\n",
    "    # Set padding token labels to -100 to ignore them in loss calculation\n",
    "    tokens['labels'] = [\n",
    "        -100 if token == tokenizer.pad_token_id else token for token in tokens['input_ids']\n",
    "    ]\n",
    "    return tokens"
   ]
  },
  {
   "cell_type": "code",
   "execution_count": null,
   "metadata": {},
   "outputs": [],
   "source": [
    "# Apply tokenize_function to each row\n",
    "tokenized_dataset = new_dataset.map(tokenize_function)\n",
    "tokenized_dataset = tokenized_dataset.remove_columns(['questionID', 'questionTitle', 'questionText', 'questionLink', 'topic', 'therapistInfo', 'therapistURL', 'answerText', 'upvotes', 'views', 'prompt'])"
   ]
  },
  {
   "cell_type": "code",
   "execution_count": null,
   "metadata": {},
   "outputs": [],
   "source": [
    "model.train()\n",
    "training_args = TrainingArguments(\n",
    "    output_dir=\"./llama32-sft-fine-tune-counselchat\",\n",
    "    eval_strategy=\"steps\", # To evaluate during training\n",
    "    eval_steps=50,\n",
    "    logging_steps=50,\n",
    "    save_steps=500,\n",
    "    per_device_train_batch_size=2, # Adjust based on your hardware\n",
    "    per_device_eval_batch_size=2,\n",
    "    num_train_epochs=2, # How many times to loop through the dataset\n",
    "    fp16=False, # Must be False for MacBooks\n",
    "    report_to=\"none\", # Here we can use something like tensorboard to see the training metrics\n",
    "    log_level=\"info\",\n",
    "    learning_rate=1e-5, # Would avoid larger values here\n",
    "    max_grad_norm=2 # Clipping the gradients is always a good idea\n",
    ")\n",
    "\n",
    "# Initialize Trainer\n",
    "trainer = Trainer(\n",
    "    model=model,\n",
    "    args=training_args,\n",
    "    train_dataset=tokenized_dataset[\"train\"],\n",
    "    eval_dataset=tokenized_dataset[\"test\"],\n",
    "    tokenizer=tokenizer)"
   ]
  },
  {
   "cell_type": "code",
   "execution_count": null,
   "metadata": {},
   "outputs": [],
   "source": [
    "# Train the model\n",
    "trainer.train()\n",
    "\n",
    "# Save the model and tokenizer\n",
    "trainer.save_model(\"./llama32-sft-fine-tune-counselchat\")\n",
    "tokenizer.save_pretrained(\"./llama32-sft-fine-tune-counselchat\")"
   ]
  },
  {
   "cell_type": "markdown",
   "metadata": {},
   "source": [
    "### Inference"
   ]
  },
  {
   "cell_type": "code",
   "execution_count": null,
   "metadata": {},
   "outputs": [],
   "source": [
    "model_id = \"llama32-sft-fine-tune-counselchat\"\n",
    "pipe = pipeline(\n",
    "    \"text-generation\",\n",
    "    model=model_id,\n",
    "    device_map=\"auto\",\n",
    ")\n",
    "\n",
    "messages = [\n",
    "    {\"role\": \"user\", \"content\": dataset[1]['questionText']}\n",
    "]\n",
    "outputs = pipe(\n",
    "    messages,\n",
    "    max_new_tokens=1024\n",
    ")\n",
    "print(outputs[0][\"generated_text\"][-1]['content'])"
   ]
  },
  {
   "cell_type": "code",
   "execution_count": null,
   "metadata": {},
   "outputs": [],
   "source": []
  }
 ],
 "metadata": {
  "kernelspec": {
   "display_name": "mental-health",
   "language": "python",
   "name": "python3"
  },
  "language_info": {
   "codemirror_mode": {
    "name": "ipython",
    "version": 3
   },
   "file_extension": ".py",
   "mimetype": "text/x-python",
   "name": "python",
   "nbconvert_exporter": "python",
   "pygments_lexer": "ipython3",
   "version": "3.12.4"
  }
 },
 "nbformat": 4,
 "nbformat_minor": 2
}
