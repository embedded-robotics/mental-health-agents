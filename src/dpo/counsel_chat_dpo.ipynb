{
 "cells": [
  {
   "cell_type": "code",
   "execution_count": 1,
   "metadata": {},
   "outputs": [
    {
     "name": "stderr",
     "output_type": "stream",
     "text": [
      "/data/mn27889/miniconda3/envs/mental-health/lib/python3.12/site-packages/tqdm/auto.py:21: TqdmWarning: IProgress not found. Please update jupyter and ipywidgets. See https://ipywidgets.readthedocs.io/en/stable/user_install.html\n",
      "  from .autonotebook import tqdm as notebook_tqdm\n"
     ]
    }
   ],
   "source": [
    "import torch\n",
    "import numpy as np\n",
    "from datasets import load_dataset, Dataset\n",
    "from transformers import AutoModelForCausalLM, AutoTokenizer, BitsAndBytesConfig\n",
    "from transformers.trainer import TrainingArguments\n",
    "from tqdm import tqdm\n",
    "from peft import LoraConfig, TaskType, AutoPeftModelForCausalLM\n",
    "from trl.trainer import ConstantLengthDataset\n",
    "from trl import SFTTrainer, DPOTrainer"
   ]
  },
  {
   "cell_type": "markdown",
   "metadata": {},
   "source": [
    "### Loading the LLaMA Model and Tokenizer"
   ]
  },
  {
   "cell_type": "code",
   "execution_count": 9,
   "metadata": {},
   "outputs": [],
   "source": [
    "model_name = \"huggyllama/llama-7b\"\n",
    "tokenizer = AutoTokenizer.from_pretrained(model_name, trust_remote_code=True)\n",
    "tokenizer.pad_token = tokenizer.eos_token\n",
    "tokenizer.padding_side = \"right\""
   ]
  },
  {
   "cell_type": "markdown",
   "metadata": {},
   "source": [
    "### Preparing the Counsel Chat Dataset in preference pairs"
   ]
  },
  {
   "cell_type": "code",
   "execution_count": 42,
   "metadata": {},
   "outputs": [
    {
     "name": "stderr",
     "output_type": "stream",
     "text": [
      "Repo card metadata block was not found. Setting CardData to empty.\n"
     ]
    }
   ],
   "source": [
    "dataset = load_dataset(\"nbertagnolli/counsel-chat\")\n",
    "question_id, question_id_index = np.unique(dataset['train']['questionID'], return_index=True)\n",
    "dataset_length = len(dataset['train']['questionID'])\n",
    "question_id_index = list(question_id_index)\n",
    "question_id_index.append(dataset_length)"
   ]
  },
  {
   "cell_type": "code",
   "execution_count": 45,
   "metadata": {},
   "outputs": [],
   "source": [
    "questions = []\n",
    "preferred_answers = []\n",
    "rejected_answers = []\n",
    "\n",
    "for i in range(0, len(question_id_index)-1):\n",
    "    \n",
    "    index_val_first = int(question_id_index[i])\n",
    "    index_val_last = int(question_id_index[i+1]-1)\n",
    "    \n",
    "    questions.append(dataset[\"train\"][index_val_first]['questionTitle'])\n",
    "    preferred_answers.append(dataset[\"train\"][index_val_first]['answerText'])\n",
    "    rejected_answers.append(dataset[\"train\"][index_val_last]['answerText'])\n",
    "    \n",
    "\n",
    "counsel_data_pairs = {   \n",
    "                        'question': questions,\n",
    "                        'preferred_answer': preferred_answers,\n",
    "                        'rejected_answer': rejected_answers\n",
    "                    }\n",
    "\n",
    "counsel_dataset = Dataset.from_dict(counsel_data_pairs)"
   ]
  },
  {
   "cell_type": "code",
   "execution_count": 48,
   "metadata": {},
   "outputs": [],
   "source": [
    "counsel_dataset = counsel_dataset.train_test_split(test_size=0.1, seed=42)\n",
    "train_data = counsel_dataset['train']\n",
    "test_data = counsel_dataset['test']"
   ]
  },
  {
   "cell_type": "markdown",
   "metadata": {},
   "source": [
    "### Preparing constant length dataset for TRL trainer"
   ]
  },
  {
   "cell_type": "code",
   "execution_count": 13,
   "metadata": {},
   "outputs": [],
   "source": [
    "def prepare_sample_text(example):\n",
    "    text = f\"Question: {example['question']}\\n\\nCounsel Advice: {example['preferred_answer']}\"\n",
    "    return text"
   ]
  },
  {
   "cell_type": "code",
   "execution_count": 14,
   "metadata": {},
   "outputs": [],
   "source": [
    "def chars_token_ratio(dataset, tokenizer):\n",
    "    '''\n",
    "    Estimate the average number of characters per token in the dataset\n",
    "    '''\n",
    "    \n",
    "    total_characters, total_tokens = 0, 0\n",
    "    dataset_length = len(dataset['question'])\n",
    "    for _, example in tqdm(zip(range(dataset_length), iter(dataset)), total=dataset_length):\n",
    "        text = prepare_sample_text(example)\n",
    "        total_characters += len(text)\n",
    "        if tokenizer.is_fast:\n",
    "            total_tokens += len(tokenizer(text).tokens())\n",
    "        else:\n",
    "            total_tokens += len(tokenizer.tokenize(text))\n",
    "    \n",
    "    return total_characters/total_tokens"
   ]
  },
  {
   "cell_type": "code",
   "execution_count": 15,
   "metadata": {},
   "outputs": [
    {
     "name": "stderr",
     "output_type": "stream",
     "text": [
      "  0%|          | 0/846 [00:00<?, ?it/s]"
     ]
    },
    {
     "name": "stderr",
     "output_type": "stream",
     "text": [
      "100%|██████████| 846/846 [00:00<00:00, 1431.68it/s]\n"
     ]
    }
   ],
   "source": [
    "chars_per_token = chars_token_ratio(train_data, tokenizer)"
   ]
  },
  {
   "cell_type": "code",
   "execution_count": 16,
   "metadata": {},
   "outputs": [],
   "source": [
    "train_dataset = ConstantLengthDataset(\n",
    "    tokenizer,\n",
    "    train_data,\n",
    "    formatting_func=prepare_sample_text,\n",
    "    infinite=True,\n",
    "    seq_length=1024,\n",
    "    chars_per_token=chars_per_token\n",
    ")\n",
    "\n",
    "test_dataset = ConstantLengthDataset(\n",
    "    tokenizer,\n",
    "    test_data,\n",
    "    formatting_func=prepare_sample_text,\n",
    "    infinite=False,\n",
    "    seq_length=1024,\n",
    "    chars_per_token=chars_per_token\n",
    ")"
   ]
  },
  {
   "cell_type": "code",
   "execution_count": 17,
   "metadata": {},
   "outputs": [],
   "source": [
    "bnb_config = BitsAndBytesConfig(\n",
    "    load_in_4bit=True,\n",
    "    bnb_4bit_quant_type=\"nf4\",\n",
    "    bnb_4bit_use_double_quant=True,\n",
    "    bnb_4bit_compute_dtype=torch.bfloat16\n",
    ")"
   ]
  },
  {
   "cell_type": "code",
   "execution_count": 18,
   "metadata": {},
   "outputs": [
    {
     "name": "stderr",
     "output_type": "stream",
     "text": [
      "Loading checkpoint shards: 100%|██████████| 2/2 [00:09<00:00,  4.51s/it]\n"
     ]
    }
   ],
   "source": [
    "base_model = AutoModelForCausalLM.from_pretrained(\n",
    "    model_name,\n",
    "    quantization_config = bnb_config,\n",
    "    # device_map = \"auto\",\n",
    "    device_map = {\"\":0},\n",
    "    torch_dtype = torch.bfloat16,\n",
    "    trust_remote_code = False\n",
    ")\n",
    "\n",
    "base_model.config.use_cache=False"
   ]
  },
  {
   "cell_type": "code",
   "execution_count": 19,
   "metadata": {},
   "outputs": [],
   "source": [
    "peft_config = LoraConfig(\n",
    "    r=8,\n",
    "    lora_alpha=16,\n",
    "    lora_dropout=0.05,\n",
    "    target_modules=[\"q_proj\", \"v_proj\"],\n",
    "    bias=\"none\",\n",
    "    task_type = TaskType.CAUSAL_LM\n",
    ")"
   ]
  },
  {
   "cell_type": "code",
   "execution_count": 20,
   "metadata": {},
   "outputs": [],
   "source": [
    "training_args=TrainingArguments(\n",
    "    output_dir=\"counsel_data_sft\",\n",
    "    num_train_epochs=5,\n",
    "    save_strategy=\"epoch\",\n",
    "    evaluation_strategy=\"steps\",\n",
    "    eval_steps = 25,\n",
    "    per_device_train_batch_size=2,\n",
    "    per_device_eval_batch_size=16,\n",
    "    gradient_accumulation_steps=4,\n",
    "    gradient_checkpointing=True,\n",
    "    group_by_length=False,\n",
    "    learning_rate=1e-4,\n",
    "    lr_scheduler_type=\"cosine\",\n",
    "    warmup_steps=50,\n",
    "    weight_decay=0.05,\n",
    "    optim=\"paged_adamw_32bit\",\n",
    "    fp16=True,\n",
    "    remove_unused_columns=False,\n",
    "    report_to=\"none\"\n",
    ")"
   ]
  },
  {
   "cell_type": "code",
   "execution_count": 21,
   "metadata": {},
   "outputs": [
    {
     "name": "stderr",
     "output_type": "stream",
     "text": [
      "/data/mn27889/miniconda3/envs/mental-health/lib/python3.12/site-packages/trl/trainer/sft_trainer.py:225: UserWarning: You didn't pass a `max_seq_length` argument to the SFTTrainer, this will default to 1024\n",
      "  warnings.warn(\n",
      "Detected kernel version 5.4.0, which is below the recommended minimum of 5.5.0; this can cause the process to hang. It is recommended to upgrade the kernel to the minimum version or higher.\n"
     ]
    }
   ],
   "source": [
    "sft_trainer = SFTTrainer(\n",
    "        model=base_model,\n",
    "        train_dataset=train_dataset,\n",
    "        eval_dataset=test_dataset,\n",
    "        peft_config=peft_config,\n",
    "        packing=True,\n",
    "        max_seq_length=None,\n",
    "        tokenizer=tokenizer,\n",
    "        args=training_args\n",
    "    )"
   ]
  },
  {
   "cell_type": "code",
   "execution_count": 22,
   "metadata": {},
   "outputs": [],
   "source": [
    "# sft_trainer.train()"
   ]
  },
  {
   "cell_type": "markdown",
   "metadata": {},
   "source": [
    "### Direct Preference Optimization"
   ]
  },
  {
   "cell_type": "code",
   "execution_count": 23,
   "metadata": {},
   "outputs": [],
   "source": [
    "def return_prompt_and_responses(samples):\n",
    "    return {\n",
    "        \"prompt\":[\n",
    "            \"Question: \" + question + \"\\n\\nCounsel Advice: \" for question in samples[\"question\"]\n",
    "        ],\n",
    "        \"chosen\": samples[\"preferred_answer\"],\n",
    "        \"rejected\": samples[\"rejected_answer\"],\n",
    "    }"
   ]
  },
  {
   "cell_type": "code",
   "execution_count": 24,
   "metadata": {},
   "outputs": [
    {
     "name": "stderr",
     "output_type": "stream",
     "text": [
      "Map: 100%|██████████| 846/846 [00:00<00:00, 25834.59 examples/s]\n"
     ]
    }
   ],
   "source": [
    "original_columns = train_data.column_names\n",
    "\n",
    "dpo_train_data = train_data.map(\n",
    "                    return_prompt_and_responses,\n",
    "                    batched=True,\n",
    "                    remove_columns=original_columns,\n",
    "                )"
   ]
  },
  {
   "cell_type": "code",
   "execution_count": 25,
   "metadata": {},
   "outputs": [
    {
     "name": "stderr",
     "output_type": "stream",
     "text": [
      "Map: 100%|██████████| 94/94 [00:00<00:00, 9646.32 examples/s]\n"
     ]
    }
   ],
   "source": [
    "original_columns = test_data.column_names\n",
    "\n",
    "dpo_test_data = test_data.map(\n",
    "                    return_prompt_and_responses,\n",
    "                    batched=True,\n",
    "                    remove_columns=original_columns,\n",
    "                )"
   ]
  },
  {
   "cell_type": "code",
   "execution_count": 29,
   "metadata": {},
   "outputs": [
    {
     "name": "stderr",
     "output_type": "stream",
     "text": [
      "/data/mn27889/miniconda3/envs/mental-health/lib/python3.12/site-packages/huggingface_hub/file_download.py:1132: FutureWarning: `resume_download` is deprecated and will be removed in version 1.0.0. Downloads always resume when possible. If you want to force a new download, use `force_download=True`.\n",
      "  warnings.warn(\n",
      "Loading checkpoint shards: 100%|██████████| 2/2 [00:07<00:00,  3.71s/it]\n"
     ]
    }
   ],
   "source": [
    "model = AutoPeftModelForCausalLM.from_pretrained(\n",
    "    \"counsel_data_sft/checkpoint-135\",\n",
    "    quantization_config = bnb_config,\n",
    "    # device_map = \"auto\",\n",
    "    device_map = {\"\":0},\n",
    "    low_cpu_mem_usage=True,\n",
    "    torch_dtype=torch.bfloat16,\n",
    "    is_trainable=True\n",
    ")\n",
    "\n",
    "model.config.use_cache=False\n",
    "\n",
    "# model_ref = AutoPeftModelForCausalLM.from_pretrained(\n",
    "#     \"counsel_data_sft/checkpoint-135\",\n",
    "#     device_map=\"auto\",\n",
    "#     low_cpu_mem_usage=True,\n",
    "#     torch_dtype=torch.float16,\n",
    "#     load_in_4bit=True\n",
    "# )"
   ]
  },
  {
   "cell_type": "code",
   "execution_count": 31,
   "metadata": {},
   "outputs": [],
   "source": [
    "training_args=TrainingArguments(\n",
    "    output_dir=\"counsel_data_dpo\",\n",
    "    num_train_epochs=5,\n",
    "    save_strategy=\"epoch\",\n",
    "    evaluation_strategy=\"steps\",\n",
    "    eval_steps = 1,\n",
    "    logging_steps = 1,\n",
    "    logging_dir=\"dpo_logs\",\n",
    "    per_device_train_batch_size=1,\n",
    "    per_device_eval_batch_size=1,\n",
    "    gradient_accumulation_steps=4,\n",
    "    gradient_checkpointing=True,\n",
    "    group_by_length=False,\n",
    "    learning_rate=1e-4,\n",
    "    lr_scheduler_type=\"cosine\",\n",
    "    warmup_steps=50,\n",
    "    weight_decay=0.05,\n",
    "    optim=\"paged_adamw_32bit\",\n",
    "    fp16=True,\n",
    "    remove_unused_columns=False,\n",
    "    report_to=\"none\"\n",
    ")"
   ]
  },
  {
   "cell_type": "code",
   "execution_count": 32,
   "metadata": {},
   "outputs": [
    {
     "name": "stderr",
     "output_type": "stream",
     "text": [
      "/data/mn27889/miniconda3/envs/mental-health/lib/python3.12/site-packages/peft/tuners/lora/bnb.py:249: UserWarning: Merge lora module to 4-bit linear may get different generations due to rounding errors.\n",
      "  warnings.warn(\n",
      "Map: 100%|██████████| 94/94 [00:00<00:00, 671.26 examples/s]\n",
      "Map: 100%|██████████| 94/94 [00:00<00:00, 950.30 examples/s]\n",
      "Detected kernel version 5.4.0, which is below the recommended minimum of 5.5.0; this can cause the process to hang. It is recommended to upgrade the kernel to the minimum version or higher.\n"
     ]
    }
   ],
   "source": [
    "dpo_trainer = DPOTrainer(\n",
    "    model,\n",
    "    ref_model=None,\n",
    "    args=training_args,\n",
    "    beta=0.1,\n",
    "    train_dataset=dpo_train_data,\n",
    "    eval_dataset=dpo_test_data,\n",
    "    tokenizer=tokenizer,\n",
    "    max_length = 1024,\n",
    "    max_prompt_length=1024,\n",
    "    peft_config=peft_config\n",
    ")"
   ]
  },
  {
   "cell_type": "code",
   "execution_count": 33,
   "metadata": {},
   "outputs": [],
   "source": [
    "# dpo_trainer.train()"
   ]
  },
  {
   "cell_type": "code",
   "execution_count": null,
   "metadata": {},
   "outputs": [],
   "source": [
    "# dpo_trainer.save_model(\"counsel_data_dpo\")"
   ]
  },
  {
   "cell_type": "markdown",
   "metadata": {},
   "source": [
    "### Using DPO Model"
   ]
  },
  {
   "cell_type": "code",
   "execution_count": 34,
   "metadata": {},
   "outputs": [
    {
     "name": "stderr",
     "output_type": "stream",
     "text": [
      "/data/mn27889/miniconda3/envs/mental-health/lib/python3.12/site-packages/huggingface_hub/file_download.py:1132: FutureWarning: `resume_download` is deprecated and will be removed in version 1.0.0. Downloads always resume when possible. If you want to force a new download, use `force_download=True`.\n",
      "  warnings.warn(\n",
      "Loading checkpoint shards: 100%|██████████| 2/2 [00:07<00:00,  3.79s/it]\n"
     ]
    }
   ],
   "source": [
    "test_model = AutoPeftModelForCausalLM.from_pretrained(\n",
    "    \"counsel_data_dpo/checkpoint-15\",\n",
    "    quantization_config = bnb_config,\n",
    "    device_map = {\"\":0},\n",
    "    low_cpu_mem_usage=True,\n",
    "    torch_dtype=torch.bfloat16\n",
    ")"
   ]
  },
  {
   "cell_type": "code",
   "execution_count": 37,
   "metadata": {},
   "outputs": [],
   "source": [
    "prompt = dpo_train_data['prompt'][0]\n",
    "input_ids = tokenizer.encode(prompt, return_tensors=\"pt\")"
   ]
  },
  {
   "cell_type": "code",
   "execution_count": 40,
   "metadata": {},
   "outputs": [
    {
     "name": "stderr",
     "output_type": "stream",
     "text": [
      "/data/mn27889/miniconda3/envs/mental-health/lib/python3.12/site-packages/transformers/generation/utils.py:1477: UserWarning: You are calling .generate() with the `input_ids` being on a device type different than your model's device. `input_ids` is on cpu, whereas the model is on cuda. You may experience unexpected behaviors or slower generation. Please make sure that you have put `input_ids` to the correct device by calling for example input_ids = input_ids.to('cuda') before running `.generate()`.\n",
      "  warnings.warn(\n"
     ]
    }
   ],
   "source": [
    "output = test_model.generate(input_ids, max_length=1024, num_return_sequences=1)"
   ]
  },
  {
   "cell_type": "code",
   "execution_count": 41,
   "metadata": {},
   "outputs": [
    {
     "name": "stdout",
     "output_type": "stream",
     "text": [
      "Question: What can I do about my family not accepting me as bisexual?\n",
      "\n",
      "Counsel Advice:  I'm a 16 year old girl and I'm bisexual. I've been with my girlfriend for 2 years and I've been with my boyfriend for 1 year. My family doesn't accept me as bisexual and they don't accept my girlfriend. I'm not allowed to talk about my girlfriend or my boyfriend. I'm not allowed to have a boyfriend or a girlfriend. I'm not allowed to have a relationship with anyone. I'm not allowed to have a relationship with anyone. I'm not allowed to have a relationship with anyone. I'm not allowed to have a relationship with anyone. I'm not allowed to have a relationship with anyone. I'm not allowed to have a relationship with anyone. I'm not allowed to have a relationship with anyone. I'm not allowed to have a relationship with anyone. I'm not allowed to have a relationship with anyone. I'm not allowed to have a relationship with anyone. I'm not allowed to have a relationship with anyone. I'm not allowed to have a relationship with anyone. I'm not allowed to have a relationship with anyone. I'm not allowed to have a relationship with anyone. I'm not allowed to have a relationship with anyone. I'm not allowed to have a relationship with anyone. I'm not allowed to have a relationship with anyone. I'm not allowed to have a relationship with anyone. I'm not allowed to have a relationship with anyone. I'm not allowed to have a relationship with anyone. I'm not allowed to have a relationship with anyone. I'm not allowed to have a relationship with anyone. I'm not allowed to have a relationship with anyone. I'm not allowed to have a relationship with anyone. I'm not allowed to have a relationship with anyone. I'm not allowed to have a relationship with anyone. I'm not allowed to have a relationship with anyone. I'm not allowed to have a relationship with anyone. I'm not allowed to have a relationship with anyone. I'm not allowed to have a relationship with anyone. I'm not allowed to have a relationship with anyone. I'm not allowed to have a relationship with anyone. I'm not allowed to have a relationship with anyone. I'm not allowed to have a relationship with anyone. I'm not allowed to have a relationship with anyone. I'm not allowed to have a relationship with anyone. I'm not allowed to have a relationship with anyone. I'm not allowed to have a relationship with anyone. I'm not allowed to have a relationship with anyone. I'm not allowed to have a relationship with anyone. I'm not allowed to have a relationship with anyone. I'm not allowed to have a relationship with anyone. I'm not allowed to have a relationship with anyone. I'm not allowed to have a relationship with anyone. I'm not allowed to have a relationship with anyone. I'm not allowed to have a relationship with anyone. I'm not allowed to have a relationship with anyone. I'm not allowed to have a relationship with anyone. I'm not allowed to have a relationship with anyone. I'm not allowed to have a relationship with anyone. I'm not allowed to have a relationship with anyone. I'm not allowed to have a relationship with anyone. I'm not allowed to have a relationship with anyone. I'm not allowed to have a relationship with anyone. I'm not allowed to have a relationship with anyone. I'm not allowed to have a relationship with anyone. I'm not allowed to have a relationship with anyone. I'm not allowed to have a relationship with anyone. I'm not allowed to have a relationship with anyone. I'm not allowed to have a relationship with anyone. I'm not allowed to have a relationship with anyone. I'm not allowed to have a relationship with anyone. I'm not allowed to have a relationship with anyone. I'm not allowed to have a relationship with anyone. I'm not allowed to have a relationship with anyone. I'm not allowed to have a relationship with anyone. I'm not allowed to have a relationship with anyone. I'm not allowed to have a relationship with anyone. I'm not allowed to have a relationship with anyone. I'm not allowed to have a relationship with anyone. I'm not allowed to have a relationship with anyone. I'm not allowed to have a relationship with anyone. I'm not allowed to have a relationship with anyone. I'm not allowed to have a relationship with anyone. I'm not allowed to have a relationship with anyone. I\n"
     ]
    }
   ],
   "source": [
    "print(tokenizer.decode(output[0], skip_special_tokens=True))"
   ]
  },
  {
   "cell_type": "code",
   "execution_count": null,
   "metadata": {},
   "outputs": [],
   "source": []
  }
 ],
 "metadata": {
  "kernelspec": {
   "display_name": "mental-health",
   "language": "python",
   "name": "python3"
  },
  "language_info": {
   "codemirror_mode": {
    "name": "ipython",
    "version": 3
   },
   "file_extension": ".py",
   "mimetype": "text/x-python",
   "name": "python",
   "nbconvert_exporter": "python",
   "pygments_lexer": "ipython3",
   "version": "undefined.undefined.undefined"
  }
 },
 "nbformat": 4,
 "nbformat_minor": 2
}
