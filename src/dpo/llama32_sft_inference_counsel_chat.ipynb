{
 "cells": [
  {
   "cell_type": "code",
   "execution_count": 21,
   "metadata": {},
   "outputs": [],
   "source": [
    "import torch\n",
    "from transformers import AutoModelForCausalLM, AutoTokenizer\n",
    "from datasets import load_dataset"
   ]
  },
  {
   "cell_type": "markdown",
   "metadata": {},
   "source": [
    "### Preparing the Counsel Chat Dataset"
   ]
  },
  {
   "cell_type": "code",
   "execution_count": 22,
   "metadata": {},
   "outputs": [
    {
     "name": "stderr",
     "output_type": "stream",
     "text": [
      "Repo card metadata block was not found. Setting CardData to empty.\n"
     ]
    }
   ],
   "source": [
    "dataset_name = \"nbertagnolli/counsel-chat\"\n",
    "dataset = load_dataset(dataset_name, split=\"all\")\n",
    "dataset = dataset.shuffle(seed=42)"
   ]
  },
  {
   "cell_type": "markdown",
   "metadata": {},
   "source": [
    "### Inference from already fine-tuned model"
   ]
  },
  {
   "cell_type": "code",
   "execution_count": 23,
   "metadata": {},
   "outputs": [],
   "source": [
    "model_id = \"llama32-sft-fine-tune-counselchat\"\n",
    "tokenizer = AutoTokenizer.from_pretrained(model_id)\n",
    "tokenizer.padding_side = \"left\"\n",
    "tokenizer.model_max_length = 2048"
   ]
  },
  {
   "cell_type": "code",
   "execution_count": 24,
   "metadata": {},
   "outputs": [],
   "source": [
    "model = AutoModelForCausalLM.from_pretrained(model_id, torch_dtype=torch.bfloat16, device_map=\"auto\") # Must be float32 for MacBooks!\n",
    "model.config.pad_token_id = tokenizer.pad_token_id # Updating the model config to use the special pad token"
   ]
  },
  {
   "cell_type": "code",
   "execution_count": 51,
   "metadata": {},
   "outputs": [],
   "source": [
    "input0 = [{\"role\": \"user\", \"content\": dataset[0]['questionText']}]\n",
    "input1 = [{\"role\": \"user\", \"content\": dataset[1]['questionText']}]\n",
    "input2 = [{\"role\": \"user\", \"content\": dataset[2]['questionText']}]\n",
    "input3 = [{\"role\": \"user\", \"content\": dataset[3]['questionText']}]\n",
    "input4 = [{\"role\": \"user\", \"content\": dataset[4]['questionText']}]\n",
    "\n",
    "\n",
    "texts = tokenizer.apply_chat_template([input0, input1, input2, input3, input4], tokenize=False, add_generation_prompt=True)\n",
    "inputs = tokenizer(texts, padding=\"longest\", truncation=True, return_tensors=\"pt\")\n",
    "inputs = {key: val.to(model.device) for key, val in inputs.items()}\n",
    "temp_texts = tokenizer.batch_decode(inputs['input_ids'], skip_special_tokens=True)"
   ]
  },
  {
   "cell_type": "code",
   "execution_count": 52,
   "metadata": {},
   "outputs": [],
   "source": [
    "terminators = [\n",
    "    tokenizer.eos_token_id,\n",
    "    tokenizer.convert_tokens_to_ids(\"<|eot_id|>\")\n",
    "]"
   ]
  },
  {
   "cell_type": "code",
   "execution_count": 53,
   "metadata": {},
   "outputs": [],
   "source": [
    "gen_tokens = model.generate(\n",
    "    **inputs, \n",
    "    max_new_tokens=2048, \n",
    "    pad_token_id=tokenizer.pad_token_id, \n",
    "    eos_token_id=terminators,\n",
    "    do_sample=True,\n",
    "    temperature=0.6,\n",
    "    top_p=0.9\n",
    ")"
   ]
  },
  {
   "cell_type": "code",
   "execution_count": 54,
   "metadata": {},
   "outputs": [],
   "source": [
    "gen_text = tokenizer.batch_decode(gen_tokens, skip_special_tokens=True)\n",
    "gen_text = [i[len(temp_texts[idx]):] for idx, i in enumerate(gen_text)]"
   ]
  },
  {
   "cell_type": "code",
   "execution_count": 55,
   "metadata": {},
   "outputs": [
    {
     "data": {
      "text/plain": [
       "[\"I'm glad you're willing to work on your trust issues and make your relationship work. Trust is an ongoing process, and it's normal to have ups and downs. Trust is built and broken over time, and it's a process that requires both partners to be willing to work on it. If you're willing to put in the work, I encourage you to seek counseling or therapy with a professional who can help you both to better understand each other. If you're both willing to put in the work, I would recommend that you work on your communication skills. Being able to communicate openly and honestly about your feelings and concerns is a key part of building trust.\",\n",
       " \"I'm sorry to hear that you are going through this.\\xa0 It's not easy to hear that you cannot afford to keep the dog.\\xa0 It's also not easy to hear that you and your boyfriend cannot agree on the dog.\\xa0 I think it would be helpful to have a conversation about the dog's behavior and how it is affecting you.\\xa0 I think you both need to work together to come up with a solution to the problem.\\xa0 It may be helpful to consider what you are willing to do to keep the dog, and what you are willing to do to have the dog removed from your home.\\xa0 I think it would be helpful to have a plan in place for what would happen to the dog if it is not able to be kept in your home.\\xa0 I also think it would be helpful to have a plan in place for what would happen to the dog if it is removed from your home.\\xa0 I think it would be helpful to have a plan in place for what would happen to the dog if it is not able to be kept in your home.\",\n",
       " \"It's possible that you are stressing your girlfriend out, and you may not be able to see it.\\xa0Stress is a very common issue in relationships.\\xa0I'm not sure what you are experiencing, but I'm curious.\\xa0Are there any areas where you feel like you are stressing her out?\\xa0Are there any issues that you are worried about?\\xa0It's possible that you are not stressing her out, and you are actually showing her love and concern.\\xa0I'm curious to know more.\",\n",
       " \"This is a very personal question, and the answer is not a simple one.\\xa0 It's a very personal choice, and what works for one person may not work for another.\\xa0 That being said, I would say that if you feel a connection with your therapist, then it's likely that you are on the right track.\\xa0 The fact that you feel like you can be open with your therapist and feel heard and validated is a very important part of this process.\\xa0 When you feel like you can trust your therapist, then it's likely that you will be able to open up and be vulnerable with them.\\xa0 That's a big part of the therapeutic relationship.\\xa0 That being said, it's also important to know what you are getting out of therapy.\\xa0 If you are not seeing what you hope to see in your therapy, then it's likely that you need to talk to your therapist about what you are looking for.\\xa0 If you are feeling like you are not making progress, then it's likely that you need to talk to your therapist about what you need from therapy.\\xa0 That's a normal part of the process, and it's one that you can't avoid.\\xa0 The good news is that you can work with your therapist to find a therapist who is a good fit for you.\\xa0 I recommend that you talk to your insurance company to see what your deductible is and what is covered.\\xa0 That will give you a sense of what to expect financially.\\xa0 Then, I would recommend that you start looking for therapists in your area.\\xa0 You can start by asking for referrals from friends or family members.\\xa0 You can also search for therapists online.\\xa0 I would recommend that you do a thorough search and find a therapist who you feel comfortable with.\\xa0 When you find a therapist, then you can start to discuss what you are looking for.\\xa0 You can also ask questions about what the therapist has experience with.\\xa0 You can also ask if they have a process for how they will approach therapy.\\xa0 I would also recommend that you schedule a consultation before committing to a therapist.\\xa0 This will give you a chance to see if you feel comfortable with the therapist and if you feel like you can be open with them.\",\n",
       " 'It sounds like you are having thoughts that you do not want. \\xa0This is a common experience for many people. \\xa0It is not uncommon for people to have thoughts that they do not want. \\xa0I would suggest that you consider finding a counselor to help you work through these thoughts. \\xa0The thoughts may be coming from some underlying issue that you do not know about yourself. \\xa0If you are able to identify the source of the thoughts, then you may be able to address the underlying issue. \\xa0If you are not able to identify the source of the thoughts, then you may need to find a counselor to help you work through the thoughts.']"
      ]
     },
     "execution_count": 55,
     "metadata": {},
     "output_type": "execute_result"
    }
   ],
   "source": [
    "gen_text"
   ]
  },
  {
   "cell_type": "code",
   "execution_count": null,
   "metadata": {},
   "outputs": [],
   "source": []
  }
 ],
 "metadata": {
  "kernelspec": {
   "display_name": "mental-health",
   "language": "python",
   "name": "python3"
  },
  "language_info": {
   "codemirror_mode": {
    "name": "ipython",
    "version": 3
   },
   "file_extension": ".py",
   "mimetype": "text/x-python",
   "name": "python",
   "nbconvert_exporter": "python",
   "pygments_lexer": "ipython3",
   "version": "3.12.4"
  }
 },
 "nbformat": 4,
 "nbformat_minor": 2
}
