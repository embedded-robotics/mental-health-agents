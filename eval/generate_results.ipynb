{
 "cells": [
  {
   "cell_type": "code",
   "execution_count": 1,
   "metadata": {},
   "outputs": [],
   "source": [
    "import pandas as pd\n",
    "import pickle\n",
    "import json\n"
   ]
  },
  {
   "cell_type": "markdown",
   "metadata": {},
   "source": [
    "Reading the Evaluation responses from GPT-4"
   ]
  },
  {
   "cell_type": "code",
   "execution_count": 3,
   "metadata": {},
   "outputs": [
    {
     "data": {
      "text/html": [
       "<div>\n",
       "<style scoped>\n",
       "    .dataframe tbody tr th:only-of-type {\n",
       "        vertical-align: middle;\n",
       "    }\n",
       "\n",
       "    .dataframe tbody tr th {\n",
       "        vertical-align: top;\n",
       "    }\n",
       "\n",
       "    .dataframe thead th {\n",
       "        text-align: right;\n",
       "    }\n",
       "</style>\n",
       "<table border=\"1\" class=\"dataframe\">\n",
       "  <thead>\n",
       "    <tr style=\"text-align: right;\">\n",
       "      <th></th>\n",
       "      <th>counsel_chat_question</th>\n",
       "      <th>llama3_response</th>\n",
       "      <th>gpt4_response</th>\n",
       "      <th>eval_llama3_gpt4_response</th>\n",
       "    </tr>\n",
       "  </thead>\n",
       "  <tbody>\n",
       "    <tr>\n",
       "      <th>0</th>\n",
       "      <td>Do I have too many issues for counseling?</td>\n",
       "      <td>user\\n\\nIt's completely understandable to feel...</td>\n",
       "      <td>Dear friend,\\n\\nFirstly, I want you to know th...</td>\n",
       "      <td>{\\n    \"Creativity\": [\"GPT4_Response\", \"LLAMA3...</td>\n",
       "    </tr>\n",
       "    <tr>\n",
       "      <th>1</th>\n",
       "      <td>My apartment manager won't let me keep an emot...</td>\n",
       "      <td>I'm so sorry to hear that. It can be really to...</td>\n",
       "      <td>Dear [User],\\n\\nI truly understand how importa...</td>\n",
       "      <td>{\\n    \"Creativity\": [\"GPT4_Response\", \"LLAMA3...</td>\n",
       "    </tr>\n",
       "    <tr>\n",
       "      <th>2</th>\n",
       "      <td>I feel like my mother doesn't support me</td>\n",
       "      <td>I'm so sorry to hear that you're feeling this ...</td>\n",
       "      <td>I'm really sorry to hear that you're feeling u...</td>\n",
       "      <td>{\\n    \"Creativity\": [\"GPT4_Response\", \"LLAMA3...</td>\n",
       "    </tr>\n",
       "    <tr>\n",
       "      <th>3</th>\n",
       "      <td>Why do I feel like I don't belong anywhere?</td>\n",
       "      <td>It sounds like you are going through a really ...</td>\n",
       "      <td>Dear [User],\\n\\nI'm really sorry to hear that ...</td>\n",
       "      <td>{\\n    \"Creativity\": [\"LLAMA3_Response\", \"GPT4...</td>\n",
       "    </tr>\n",
       "    <tr>\n",
       "      <th>4</th>\n",
       "      <td>How can I help my girlfriend?</td>\n",
       "      <td>I'm glad you're reaching out to support your g...</td>\n",
       "      <td>It's commendable that you're seeking ways to s...</td>\n",
       "      <td>{\\n    \"Creativity\": [\"GPT4_Response\", \"LLAMA3...</td>\n",
       "    </tr>\n",
       "  </tbody>\n",
       "</table>\n",
       "</div>"
      ],
      "text/plain": [
       "                               counsel_chat_question  \\\n",
       "0          Do I have too many issues for counseling?   \n",
       "1  My apartment manager won't let me keep an emot...   \n",
       "2           I feel like my mother doesn't support me   \n",
       "3        Why do I feel like I don't belong anywhere?   \n",
       "4                      How can I help my girlfriend?   \n",
       "\n",
       "                                     llama3_response  \\\n",
       "0  user\\n\\nIt's completely understandable to feel...   \n",
       "1  I'm so sorry to hear that. It can be really to...   \n",
       "2  I'm so sorry to hear that you're feeling this ...   \n",
       "3  It sounds like you are going through a really ...   \n",
       "4  I'm glad you're reaching out to support your g...   \n",
       "\n",
       "                                       gpt4_response  \\\n",
       "0  Dear friend,\\n\\nFirstly, I want you to know th...   \n",
       "1  Dear [User],\\n\\nI truly understand how importa...   \n",
       "2  I'm really sorry to hear that you're feeling u...   \n",
       "3  Dear [User],\\n\\nI'm really sorry to hear that ...   \n",
       "4  It's commendable that you're seeking ways to s...   \n",
       "\n",
       "                           eval_llama3_gpt4_response  \n",
       "0  {\\n    \"Creativity\": [\"GPT4_Response\", \"LLAMA3...  \n",
       "1  {\\n    \"Creativity\": [\"GPT4_Response\", \"LLAMA3...  \n",
       "2  {\\n    \"Creativity\": [\"GPT4_Response\", \"LLAMA3...  \n",
       "3  {\\n    \"Creativity\": [\"LLAMA3_Response\", \"GPT4...  \n",
       "4  {\\n    \"Creativity\": [\"GPT4_Response\", \"LLAMA3...  "
      ]
     },
     "execution_count": 3,
     "metadata": {},
     "output_type": "execute_result"
    }
   ],
   "source": [
    "with open('llama3_gpt4_evaluation.pkl', 'rb') as file:\n",
    "    evaluation_resp = pickle.load(file)\n",
    "    \n",
    "evaluation_resp.head()"
   ]
  },
  {
   "cell_type": "markdown",
   "metadata": {},
   "source": [
    "Converting string responses to JSON responses"
   ]
  },
  {
   "cell_type": "code",
   "execution_count": 8,
   "metadata": {},
   "outputs": [],
   "source": [
    "json_responses = []\n",
    "\n",
    "for index, row in evaluation_resp.iterrows():\n",
    "    resp = json.loads(row['eval_llama3_gpt4_response'])\n",
    "    json_responses.append(resp)"
   ]
  },
  {
   "cell_type": "code",
   "execution_count": 16,
   "metadata": {},
   "outputs": [],
   "source": [
    "creativity = []\n",
    "directedness = []\n",
    "perspective = []\n",
    "affirmations = []\n",
    "sensitivity = []\n",
    "empathy = []\n",
    "persuasion = []\n",
    "\n",
    "for response in json_responses:\n",
    "    creativity.append(response['Creativity'][0])\n",
    "    directedness.append(response['Directedness'][0])\n",
    "    perspective.append(response['Perspective Change'][0])\n",
    "    affirmations.append(response['Affirmations'][0])\n",
    "    sensitivity.append(response['Sensitivity'][0])\n",
    "    empathy.append(response['Empathy'][0])\n",
    "    persuasion.append(response['Persuasion'][0])"
   ]
  },
  {
   "cell_type": "code",
   "execution_count": 26,
   "metadata": {},
   "outputs": [],
   "source": [
    "def calculate_string_counts(string1, string2, input_list):\n",
    "    string1_count = 0\n",
    "    string2_count = 0\n",
    "    extra_string_count = 0\n",
    "    \n",
    "    for input_string in input_list:\n",
    "        if input_string == string1:\n",
    "            string1_count = string1_count + 1\n",
    "        elif input_string == string2:\n",
    "            string2_count = string2_count + 1\n",
    "        else:\n",
    "            extra_string_count = extra_string_count + 1\n",
    "            \n",
    "    assert string1_count + string2_count == len(input_list)\n",
    "    assert extra_string_count == 0\n",
    "    \n",
    "    return string1_count, string2_count"
   ]
  },
  {
   "cell_type": "code",
   "execution_count": 29,
   "metadata": {},
   "outputs": [
    {
     "data": {
      "text/plain": [
       "(670, 284)"
      ]
     },
     "execution_count": 29,
     "metadata": {},
     "output_type": "execute_result"
    }
   ],
   "source": [
    "calculate_string_counts('GPT4_Response', 'LLAMA3_Response', creativity)"
   ]
  },
  {
   "cell_type": "code",
   "execution_count": 30,
   "metadata": {},
   "outputs": [
    {
     "data": {
      "text/plain": [
       "(631, 323)"
      ]
     },
     "execution_count": 30,
     "metadata": {},
     "output_type": "execute_result"
    }
   ],
   "source": [
    "calculate_string_counts('GPT4_Response', 'LLAMA3_Response', directedness)"
   ]
  },
  {
   "cell_type": "code",
   "execution_count": 31,
   "metadata": {},
   "outputs": [
    {
     "data": {
      "text/plain": [
       "(813, 141)"
      ]
     },
     "execution_count": 31,
     "metadata": {},
     "output_type": "execute_result"
    }
   ],
   "source": [
    "calculate_string_counts('GPT4_Response', 'LLAMA3_Response', perspective)"
   ]
  },
  {
   "cell_type": "code",
   "execution_count": 32,
   "metadata": {},
   "outputs": [
    {
     "data": {
      "text/plain": [
       "(527, 427)"
      ]
     },
     "execution_count": 32,
     "metadata": {},
     "output_type": "execute_result"
    }
   ],
   "source": [
    "calculate_string_counts('GPT4_Response', 'LLAMA3_Response', affirmations)"
   ]
  },
  {
   "cell_type": "code",
   "execution_count": 33,
   "metadata": {},
   "outputs": [
    {
     "data": {
      "text/plain": [
       "(540, 414)"
      ]
     },
     "execution_count": 33,
     "metadata": {},
     "output_type": "execute_result"
    }
   ],
   "source": [
    "calculate_string_counts('GPT4_Response', 'LLAMA3_Response', sensitivity)"
   ]
  },
  {
   "cell_type": "code",
   "execution_count": 34,
   "metadata": {},
   "outputs": [
    {
     "data": {
      "text/plain": [
       "(522, 432)"
      ]
     },
     "execution_count": 34,
     "metadata": {},
     "output_type": "execute_result"
    }
   ],
   "source": [
    "calculate_string_counts('GPT4_Response', 'LLAMA3_Response', empathy)"
   ]
  },
  {
   "cell_type": "code",
   "execution_count": 35,
   "metadata": {},
   "outputs": [
    {
     "data": {
      "text/plain": [
       "(743, 211)"
      ]
     },
     "execution_count": 35,
     "metadata": {},
     "output_type": "execute_result"
    }
   ],
   "source": [
    "calculate_string_counts('GPT4_Response', 'LLAMA3_Response', persuasion)"
   ]
  },
  {
   "cell_type": "code",
   "execution_count": 14,
   "metadata": {},
   "outputs": [
    {
     "data": {
      "text/plain": [
       "'GPT4_Response'"
      ]
     },
     "execution_count": 14,
     "metadata": {},
     "output_type": "execute_result"
    }
   ],
   "source": [
    "resp['Creativity'][0]"
   ]
  },
  {
   "cell_type": "code",
   "execution_count": 27,
   "metadata": {},
   "outputs": [
    {
     "data": {
      "text/plain": [
       "{'GPT4_Response', 'LLAMA3_Response'}"
      ]
     },
     "execution_count": 27,
     "metadata": {},
     "output_type": "execute_result"
    }
   ],
   "source": [
    "set(persuasion)"
   ]
  },
  {
   "cell_type": "code",
   "execution_count": null,
   "metadata": {},
   "outputs": [],
   "source": []
  }
 ],
 "metadata": {
  "kernelspec": {
   "display_name": "mental-health",
   "language": "python",
   "name": "python3"
  },
  "language_info": {
   "codemirror_mode": {
    "name": "ipython",
    "version": 3
   },
   "file_extension": ".py",
   "mimetype": "text/x-python",
   "name": "python",
   "nbconvert_exporter": "python",
   "pygments_lexer": "ipython3",
   "version": "3.12.4"
  }
 },
 "nbformat": 4,
 "nbformat_minor": 2
}
