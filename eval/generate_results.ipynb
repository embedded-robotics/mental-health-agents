{
 "cells": [
  {
   "cell_type": "code",
   "execution_count": 1,
   "metadata": {},
   "outputs": [],
   "source": [
    "import pandas as pd\n",
    "import pickle\n",
    "import json\n"
   ]
  },
  {
   "cell_type": "markdown",
   "metadata": {},
   "source": [
    "Reading the Evaluation responses from GPT-4"
   ]
  },
  {
   "cell_type": "code",
   "execution_count": 2,
   "metadata": {},
   "outputs": [
    {
     "data": {
      "text/html": [
       "<div>\n",
       "<style scoped>\n",
       "    .dataframe tbody tr th:only-of-type {\n",
       "        vertical-align: middle;\n",
       "    }\n",
       "\n",
       "    .dataframe tbody tr th {\n",
       "        vertical-align: top;\n",
       "    }\n",
       "\n",
       "    .dataframe thead th {\n",
       "        text-align: right;\n",
       "    }\n",
       "</style>\n",
       "<table border=\"1\" class=\"dataframe\">\n",
       "  <thead>\n",
       "    <tr style=\"text-align: right;\">\n",
       "      <th></th>\n",
       "      <th>counsel_chat_question</th>\n",
       "      <th>llama3_response</th>\n",
       "      <th>gpt4_response</th>\n",
       "      <th>eval_llama3_gpt4_response</th>\n",
       "    </tr>\n",
       "  </thead>\n",
       "  <tbody>\n",
       "    <tr>\n",
       "      <th>0</th>\n",
       "      <td>Do I have too many issues for counseling?</td>\n",
       "      <td>user\\n\\nIt's completely understandable to feel...</td>\n",
       "      <td>There is no such thing as having 'too many iss...</td>\n",
       "      <td>{\\n    \"Creativity\": [\"LLAMA3_Response\", \"GPT4...</td>\n",
       "    </tr>\n",
       "    <tr>\n",
       "      <th>1</th>\n",
       "      <td>My apartment manager won't let me keep an emot...</td>\n",
       "      <td>I'm so sorry to hear that. It can be really to...</td>\n",
       "      <td>I understand that your current situation with ...</td>\n",
       "      <td>{\\n    \"Creativity\": [\"GPT4_Response\", \"LLAMA3...</td>\n",
       "    </tr>\n",
       "    <tr>\n",
       "      <th>2</th>\n",
       "      <td>I feel like my mother doesn't support me</td>\n",
       "      <td>I'm so sorry to hear that you're feeling this ...</td>\n",
       "      <td>I understand that you're going through a diffi...</td>\n",
       "      <td>{\\n    \"Creativity\": [\"GPT4_Response\", \"LLAMA3...</td>\n",
       "    </tr>\n",
       "    <tr>\n",
       "      <th>3</th>\n",
       "      <td>Why do I feel like I don't belong anywhere?</td>\n",
       "      <td>It sounds like you are going through a really ...</td>\n",
       "      <td>Feeling like you don't belong can be an isolat...</td>\n",
       "      <td>{\\n    \"Creativity\": [\"GPT4_Response\", \"LLAMA3...</td>\n",
       "    </tr>\n",
       "    <tr>\n",
       "      <th>4</th>\n",
       "      <td>How can I help my girlfriend?</td>\n",
       "      <td>I'm glad you're reaching out to support your g...</td>\n",
       "      <td>Understanding your girlfriend's needs and offe...</td>\n",
       "      <td>{\\n    \"Creativity\": [\"GPT4_Response\", \"LLAMA3...</td>\n",
       "    </tr>\n",
       "  </tbody>\n",
       "</table>\n",
       "</div>"
      ],
      "text/plain": [
       "                               counsel_chat_question  \\\n",
       "0          Do I have too many issues for counseling?   \n",
       "1  My apartment manager won't let me keep an emot...   \n",
       "2           I feel like my mother doesn't support me   \n",
       "3        Why do I feel like I don't belong anywhere?   \n",
       "4                      How can I help my girlfriend?   \n",
       "\n",
       "                                     llama3_response  \\\n",
       "0  user\\n\\nIt's completely understandable to feel...   \n",
       "1  I'm so sorry to hear that. It can be really to...   \n",
       "2  I'm so sorry to hear that you're feeling this ...   \n",
       "3  It sounds like you are going through a really ...   \n",
       "4  I'm glad you're reaching out to support your g...   \n",
       "\n",
       "                                       gpt4_response  \\\n",
       "0  There is no such thing as having 'too many iss...   \n",
       "1  I understand that your current situation with ...   \n",
       "2  I understand that you're going through a diffi...   \n",
       "3  Feeling like you don't belong can be an isolat...   \n",
       "4  Understanding your girlfriend's needs and offe...   \n",
       "\n",
       "                           eval_llama3_gpt4_response  \n",
       "0  {\\n    \"Creativity\": [\"LLAMA3_Response\", \"GPT4...  \n",
       "1  {\\n    \"Creativity\": [\"GPT4_Response\", \"LLAMA3...  \n",
       "2  {\\n    \"Creativity\": [\"GPT4_Response\", \"LLAMA3...  \n",
       "3  {\\n    \"Creativity\": [\"GPT4_Response\", \"LLAMA3...  \n",
       "4  {\\n    \"Creativity\": [\"GPT4_Response\", \"LLAMA3...  "
      ]
     },
     "execution_count": 2,
     "metadata": {},
     "output_type": "execute_result"
    }
   ],
   "source": [
    "with open('llama3_gpt4_evaluation.pkl', 'rb') as file:\n",
    "    evaluation_resp = pickle.load(file)\n",
    "    \n",
    "evaluation_resp.head()"
   ]
  },
  {
   "cell_type": "markdown",
   "metadata": {},
   "source": [
    "Converting string responses to JSON responses"
   ]
  },
  {
   "cell_type": "code",
   "execution_count": 3,
   "metadata": {},
   "outputs": [],
   "source": [
    "json_responses = []\n",
    "\n",
    "for index, row in evaluation_resp.iterrows():\n",
    "    resp = json.loads(row['eval_llama3_gpt4_response'])\n",
    "    json_responses.append(resp)"
   ]
  },
  {
   "cell_type": "code",
   "execution_count": 4,
   "metadata": {},
   "outputs": [],
   "source": [
    "creativity = []\n",
    "directedness = []\n",
    "perspective = []\n",
    "affirmations = []\n",
    "sensitivity = []\n",
    "empathy = []\n",
    "persuasion = []\n",
    "\n",
    "for response in json_responses:\n",
    "    creativity.append(response['Creativity'][0])\n",
    "    directedness.append(response['Directedness'][0])\n",
    "    perspective.append(response['Perspective Change'][0])\n",
    "    affirmations.append(response['Affirmations'][0])\n",
    "    sensitivity.append(response['Sensitivity'][0])\n",
    "    empathy.append(response['Empathy'][0])\n",
    "    persuasion.append(response['Persuasion'][0])"
   ]
  },
  {
   "cell_type": "code",
   "execution_count": 5,
   "metadata": {},
   "outputs": [],
   "source": [
    "def calculate_string_counts(string1, string2, input_list):\n",
    "    string1_count = 0\n",
    "    string2_count = 0\n",
    "    extra_string_count = 0\n",
    "    \n",
    "    for input_string in input_list:\n",
    "        if input_string == string1:\n",
    "            string1_count = string1_count + 1\n",
    "        elif input_string == string2:\n",
    "            string2_count = string2_count + 1\n",
    "        else:\n",
    "            extra_string_count = extra_string_count + 1\n",
    "            \n",
    "    assert string1_count + string2_count == len(input_list)\n",
    "    assert extra_string_count == 0\n",
    "    \n",
    "    return string1_count, string2_count"
   ]
  },
  {
   "cell_type": "code",
   "execution_count": 6,
   "metadata": {},
   "outputs": [
    {
     "data": {
      "text/plain": [
       "(659, 295)"
      ]
     },
     "execution_count": 6,
     "metadata": {},
     "output_type": "execute_result"
    }
   ],
   "source": [
    "calculate_string_counts('GPT4_Response', 'LLAMA3_Response', creativity)"
   ]
  },
  {
   "cell_type": "code",
   "execution_count": 7,
   "metadata": {},
   "outputs": [
    {
     "data": {
      "text/plain": [
       "(731, 223)"
      ]
     },
     "execution_count": 7,
     "metadata": {},
     "output_type": "execute_result"
    }
   ],
   "source": [
    "calculate_string_counts('GPT4_Response', 'LLAMA3_Response', directedness)"
   ]
  },
  {
   "cell_type": "code",
   "execution_count": 8,
   "metadata": {},
   "outputs": [
    {
     "data": {
      "text/plain": [
       "(809, 145)"
      ]
     },
     "execution_count": 8,
     "metadata": {},
     "output_type": "execute_result"
    }
   ],
   "source": [
    "calculate_string_counts('GPT4_Response', 'LLAMA3_Response', perspective)"
   ]
  },
  {
   "cell_type": "code",
   "execution_count": 9,
   "metadata": {},
   "outputs": [
    {
     "data": {
      "text/plain": [
       "(135, 819)"
      ]
     },
     "execution_count": 9,
     "metadata": {},
     "output_type": "execute_result"
    }
   ],
   "source": [
    "calculate_string_counts('GPT4_Response', 'LLAMA3_Response', affirmations)"
   ]
  },
  {
   "cell_type": "code",
   "execution_count": 10,
   "metadata": {},
   "outputs": [
    {
     "data": {
      "text/plain": [
       "(176, 778)"
      ]
     },
     "execution_count": 10,
     "metadata": {},
     "output_type": "execute_result"
    }
   ],
   "source": [
    "calculate_string_counts('GPT4_Response', 'LLAMA3_Response', sensitivity)"
   ]
  },
  {
   "cell_type": "code",
   "execution_count": 11,
   "metadata": {},
   "outputs": [
    {
     "data": {
      "text/plain": [
       "(141, 813)"
      ]
     },
     "execution_count": 11,
     "metadata": {},
     "output_type": "execute_result"
    }
   ],
   "source": [
    "calculate_string_counts('GPT4_Response', 'LLAMA3_Response', empathy)"
   ]
  },
  {
   "cell_type": "code",
   "execution_count": 12,
   "metadata": {},
   "outputs": [
    {
     "data": {
      "text/plain": [
       "(788, 166)"
      ]
     },
     "execution_count": 12,
     "metadata": {},
     "output_type": "execute_result"
    }
   ],
   "source": [
    "calculate_string_counts('GPT4_Response', 'LLAMA3_Response', persuasion)"
   ]
  },
  {
   "cell_type": "code",
   "execution_count": 14,
   "metadata": {},
   "outputs": [
    {
     "data": {
      "text/plain": [
       "'GPT4_Response'"
      ]
     },
     "execution_count": 14,
     "metadata": {},
     "output_type": "execute_result"
    }
   ],
   "source": [
    "resp['Creativity'][0]"
   ]
  },
  {
   "cell_type": "code",
   "execution_count": 27,
   "metadata": {},
   "outputs": [
    {
     "data": {
      "text/plain": [
       "{'GPT4_Response', 'LLAMA3_Response'}"
      ]
     },
     "execution_count": 27,
     "metadata": {},
     "output_type": "execute_result"
    }
   ],
   "source": [
    "set(persuasion)"
   ]
  },
  {
   "cell_type": "code",
   "execution_count": null,
   "metadata": {},
   "outputs": [],
   "source": []
  }
 ],
 "metadata": {
  "kernelspec": {
   "display_name": "mental-health",
   "language": "python",
   "name": "python3"
  },
  "language_info": {
   "codemirror_mode": {
    "name": "ipython",
    "version": 3
   },
   "file_extension": ".py",
   "mimetype": "text/x-python",
   "name": "python",
   "nbconvert_exporter": "python",
   "pygments_lexer": "ipython3",
   "version": "3.12.4"
  }
 },
 "nbformat": 4,
 "nbformat_minor": 2
}
