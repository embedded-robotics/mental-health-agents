{
 "cells": [
  {
   "cell_type": "code",
   "execution_count": 21,
   "metadata": {},
   "outputs": [],
   "source": [
    "import os\n",
    "import pandas as pd\n",
    "from tqdm import tqdm\n",
    "import pickle"
   ]
  },
  {
   "cell_type": "code",
   "execution_count": 2,
   "metadata": {},
   "outputs": [],
   "source": [
    "os.environ[\"CUDA_VISIBLE_DEVICES\"] = \"6\""
   ]
  },
  {
   "cell_type": "code",
   "execution_count": null,
   "metadata": {},
   "outputs": [],
   "source": [
    "import torch\n",
    "from transformers import AutoModelForCausalLM, AutoTokenizer, BitsAndBytesConfig\n",
    "from transformers.trainer import TrainingArguments\n",
    "from peft import LoraConfig, AutoPeftModelForCausalLM, get_peft_model, prepare_model_for_int8_training, PeftModel\n",
    "from trl import SFTTrainer, DPOTrainer\n",
    "from datasets import load_dataset, Dataset\n",
    "from transformers import pipeline\n",
    "import numpy as np"
   ]
  },
  {
   "cell_type": "markdown",
   "metadata": {},
   "source": [
    "### Preparing the counsel chat dataset for evaluation"
   ]
  },
  {
   "cell_type": "code",
   "execution_count": null,
   "metadata": {},
   "outputs": [],
   "source": [
    "dataset = load_dataset(\"nbertagnolli/counsel-chat\")\n",
    "question_id, question_id_index = np.unique(dataset['train']['questionID'], return_index=True)\n",
    "dataset_length = len(dataset['train']['questionID'])\n",
    "question_id_index = list(question_id_index)\n",
    "question_id_index.append(dataset_length)"
   ]
  },
  {
   "cell_type": "code",
   "execution_count": 5,
   "metadata": {},
   "outputs": [],
   "source": [
    "questions = []\n",
    "preferred_answers = []\n",
    "rejected_answers = []\n",
    "\n",
    "for i in range(0, len(question_id_index)-1):\n",
    "    \n",
    "    index_val_first = int(question_id_index[i])\n",
    "    index_val_last = int(question_id_index[i+1]-1)\n",
    "    \n",
    "    questions.append(dataset[\"train\"][index_val_first]['questionTitle'])\n",
    "    preferred_answers.append(dataset[\"train\"][index_val_first]['answerText'])\n",
    "    rejected_answers.append(dataset[\"train\"][index_val_last]['answerText'])\n",
    "    \n",
    "\n",
    "counsel_data_pairs = {   \n",
    "                        'question': questions,\n",
    "                        'preferred_answer': preferred_answers,\n",
    "                        'rejected_answer': rejected_answers\n",
    "                    }\n",
    "\n",
    "counsel_dataset = Dataset.from_dict(counsel_data_pairs)"
   ]
  },
  {
   "cell_type": "code",
   "execution_count": null,
   "metadata": {},
   "outputs": [],
   "source": [
    "counsel_dataset"
   ]
  },
  {
   "cell_type": "markdown",
   "metadata": {},
   "source": [
    "### Loading the merged model for inference"
   ]
  },
  {
   "cell_type": "code",
   "execution_count": null,
   "metadata": {},
   "outputs": [],
   "source": [
    "model = AutoModelForCausalLM.from_pretrained(\n",
    "    \"../src/dpo/llama-3-8b-glan-dpo-merged\",\n",
    "    torch_dtype = torch.bfloat16,\n",
    "    device_map={'':torch.cuda.current_device()}\n",
    ")"
   ]
  },
  {
   "cell_type": "code",
   "execution_count": null,
   "metadata": {},
   "outputs": [],
   "source": [
    "tokenizer = AutoTokenizer.from_pretrained(\"../src/dpo/llama-3-8b-glan-dpo-merged\")"
   ]
  },
  {
   "cell_type": "markdown",
   "metadata": {},
   "source": [
    "### Mapping the counsel chat questions to Chat Template"
   ]
  },
  {
   "cell_type": "code",
   "execution_count": 9,
   "metadata": {},
   "outputs": [],
   "source": [
    "def format_chat_template_questions(row):\n",
    "    row_json = [\n",
    "        {\"role\" : \"user\", \"content\": row['question']}\n",
    "    ]\n",
    "\n",
    "    prompt = tokenizer.apply_chat_template(row_json, tokenize=False, add_generation_prompt=True)\n",
    "\n",
    "    return {\n",
    "        \"prompt\": prompt\n",
    "    }"
   ]
  },
  {
   "cell_type": "code",
   "execution_count": null,
   "metadata": {},
   "outputs": [],
   "source": [
    "dataset = counsel_dataset.map(\n",
    "                format_chat_template_questions,\n",
    "                num_proc=24\n",
    "                )"
   ]
  },
  {
   "cell_type": "code",
   "execution_count": 11,
   "metadata": {},
   "outputs": [],
   "source": [
    "terminators = [\n",
    "    tokenizer.eos_token_id,\n",
    "    tokenizer.convert_tokens_to_ids(\"<|eot_id|>\"),\n",
    "]"
   ]
  },
  {
   "cell_type": "code",
   "execution_count": 12,
   "metadata": {},
   "outputs": [],
   "source": [
    "model.config.use_cache = True"
   ]
  },
  {
   "cell_type": "code",
   "execution_count": null,
   "metadata": {},
   "outputs": [],
   "source": [
    "prompt_questions_list = []\n",
    "prompt_output_list = []\n",
    "BATCH_SIZE = 10\n",
    "\n",
    "for i in tqdm(range(0, len(dataset), BATCH_SIZE)):\n",
    "    \n",
    "    prompt_questions = dataset[i:i+BATCH_SIZE]['question']\n",
    "    prompts = dataset[i:i+BATCH_SIZE]['prompt']\n",
    "    \n",
    "    inputs = tokenizer(prompts, padding=True, truncation=True, return_tensors='pt').to(model.device)\n",
    "    generation_config = model.generation_config\n",
    "    generation_config.pad_token_id = tokenizer.pad_token_id\n",
    "\n",
    "    outputs = model.generate(\n",
    "        **inputs,\n",
    "        max_new_tokens=512,\n",
    "        eos_token_id=terminators,\n",
    "        do_sample=True,\n",
    "        temperature=0.6,\n",
    "        top_p=0.9,\n",
    "        num_return_sequences=1,\n",
    "        generation_config=generation_config\n",
    "    )\n",
    "    \n",
    "    prompts_output = tokenizer.batch_decode(outputs, skip_special_tokens=True)\n",
    "    prompts_output = [output.split('assistant')[1].strip() for output in prompts_output]\n",
    "    \n",
    "    prompt_questions_list = prompt_questions_list + prompt_questions\n",
    "    prompt_output_list = prompt_output_list + prompts_output"
   ]
  },
  {
   "cell_type": "code",
   "execution_count": 23,
   "metadata": {},
   "outputs": [],
   "source": [
    "response_dict = {'counsel_chat_question': prompt_questions_list,\n",
    "                 'llama3_response': prompt_output_list}\n",
    "\n",
    "response_df = pd.DataFrame(response_dict)\n",
    "\n",
    "with open('llama3_response.pkl', 'wb') as file:\n",
    "    pickle.dump(response_df, file)"
   ]
  },
  {
   "cell_type": "code",
   "execution_count": null,
   "metadata": {},
   "outputs": [],
   "source": []
  }
 ],
 "metadata": {
  "kernelspec": {
   "display_name": "mental-health",
   "language": "python",
   "name": "python3"
  },
  "language_info": {
   "codemirror_mode": {
    "name": "ipython",
    "version": 3
   },
   "file_extension": ".py",
   "mimetype": "text/x-python",
   "name": "python",
   "nbconvert_exporter": "python",
   "pygments_lexer": "ipython3",
   "version": "3.12.4"
  }
 },
 "nbformat": 4,
 "nbformat_minor": 2
}
