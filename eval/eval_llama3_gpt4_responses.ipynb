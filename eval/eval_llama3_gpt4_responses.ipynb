{
 "cells": [
  {
   "cell_type": "code",
   "execution_count": 1,
   "metadata": {},
   "outputs": [],
   "source": [
    "import os\n",
    "import pandas as pd\n",
    "from tqdm import tqdm\n",
    "import pickle\n",
    "from eval_prompts import *\n",
    "from openai import OpenAI\n",
    "import time"
   ]
  },
  {
   "cell_type": "markdown",
   "metadata": {},
   "source": [
    "Getting the responses for LLaMA-3"
   ]
  },
  {
   "cell_type": "code",
   "execution_count": null,
   "metadata": {},
   "outputs": [],
   "source": [
    "with open('llama3_response.pkl', 'rb') as file:\n",
    "    llama3_responses = pickle.load(file)\n",
    "\n",
    "llama3_responses.head()"
   ]
  },
  {
   "cell_type": "markdown",
   "metadata": {},
   "source": [
    "Getting the responses from GPT-4"
   ]
  },
  {
   "cell_type": "code",
   "execution_count": null,
   "metadata": {},
   "outputs": [],
   "source": [
    "with open('gpt4_response.pkl', 'rb') as file:\n",
    "    gpt4_responses = pickle.load(file)\n",
    "\n",
    "gpt4_responses.head()"
   ]
  },
  {
   "cell_type": "markdown",
   "metadata": {},
   "source": [
    "Merging the responses based on question"
   ]
  },
  {
   "cell_type": "code",
   "execution_count": null,
   "metadata": {},
   "outputs": [],
   "source": [
    "merged_responses = pd.merge(left=llama3_responses, right=gpt4_responses, how='left', on='counsel_chat_question')\n",
    "merged_responses.head()"
   ]
  },
  {
   "cell_type": "markdown",
   "metadata": {},
   "source": [
    "### Setting up the GPT API"
   ]
  },
  {
   "cell_type": "code",
   "execution_count": 5,
   "metadata": {},
   "outputs": [],
   "source": [
    "# Reading the OpenAI Key\n",
    "with open('../api.key', 'r') as file:\n",
    "    openai_api_key = file.read()\n",
    "    \n",
    "# Creating the client\n",
    "client = OpenAI(api_key=openai_api_key)\n",
    "\n",
    "# Setting up the chat format\n",
    "def setup_chat_prompt(system_prompt, user_prompt, user_input, llama3_response, gpt4_response):\n",
    "    user_prompt = user_prompt.format(user_input=user_input, llama3_response=llama3_response, gpt4_response=gpt4_response)\n",
    "    \n",
    "    messages = [{\"role\": \"system\", \"content\": system_prompt},\n",
    "                {\"role\": \"user\", \"content\": user_prompt}]\n",
    "    \n",
    "    return messages\n",
    "\n",
    "# Getting the openai response\n",
    "def get_openai_response(messages, model=\"gpt-4\", temperature=0, max_tokens=5000, n=1, stop=None, cnt=5):\n",
    "    try:\n",
    "        output = client.chat.completions.create(\n",
    "            model=model,\n",
    "            messages=messages,\n",
    "            temperature=temperature,\n",
    "            max_tokens=max_tokens,\n",
    "            n=1,\n",
    "            stop=stop\n",
    "        )\n",
    "        \n",
    "        return output.choices[0].message.content\n",
    "    \n",
    "    except Exception as E:\n",
    "        print(E)\n",
    "        time.sleep(3*(5-cnt))\n",
    "        if cnt != 0:\n",
    "            return get_openai_response(messages, model=\"gpt-4\", temperature=0, max_tokens=5000, n=1, stop=None, cnt=cnt-1)\n",
    "        \n",
    "        print(\"bad text is \", messages)\n",
    "        raise Exception(\"GPT Error\")\n",
    "    \n",
    "def prompt_gpt(system_prompt, user_prompt, user_input, llama3_response, gpt4_response):\n",
    "    \n",
    "    messages = setup_chat_prompt(system_prompt=system_prompt, user_prompt=user_prompt, user_input=user_input, llama3_response=llama3_response, gpt4_response=gpt4_response)\n",
    "    final_response = get_openai_response(messages = messages)\n",
    "    \n",
    "    return final_response"
   ]
  },
  {
   "cell_type": "markdown",
   "metadata": {},
   "source": [
    "### Getting the Evaluation Responses"
   ]
  },
  {
   "cell_type": "code",
   "execution_count": null,
   "metadata": {},
   "outputs": [],
   "source": [
    "eval_response = []\n",
    "\n",
    "for index, row in tqdm(merged_responses.iterrows(), total=merged_responses.shape[0]):\n",
    "    user_input = row['counsel_chat_question']\n",
    "    llama3_response = row['llama3_response']\n",
    "    gpt4_response = row['gpt4_response']\n",
    "    \n",
    "    response = prompt_gpt(system_rank_prompt, user_rank_prompt, user_input, llama3_response, gpt4_response)\n",
    "    eval_response.append(response)"
   ]
  },
  {
   "cell_type": "markdown",
   "metadata": {},
   "source": [
    "### Storing the results"
   ]
  },
  {
   "cell_type": "code",
   "execution_count": 12,
   "metadata": {},
   "outputs": [],
   "source": [
    "merged_responses['eval_llama3_gpt4_response'] = eval_response\n",
    "\n",
    "with open('llama3_gpt4_evaluation.pkl', 'wb') as file:\n",
    "    pickle.dump(merged_responses, file)"
   ]
  },
  {
   "cell_type": "code",
   "execution_count": null,
   "metadata": {},
   "outputs": [],
   "source": []
  }
 ],
 "metadata": {
  "kernelspec": {
   "display_name": "mental-health",
   "language": "python",
   "name": "python3"
  },
  "language_info": {
   "codemirror_mode": {
    "name": "ipython",
    "version": 3
   },
   "file_extension": ".py",
   "mimetype": "text/x-python",
   "name": "python",
   "nbconvert_exporter": "python",
   "pygments_lexer": "ipython3",
   "version": "3.12.4"
  }
 },
 "nbformat": 4,
 "nbformat_minor": 2
}
