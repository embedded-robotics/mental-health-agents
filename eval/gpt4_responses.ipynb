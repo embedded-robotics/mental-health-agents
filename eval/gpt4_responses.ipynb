{
 "cells": [
  {
   "cell_type": "code",
   "execution_count": null,
   "metadata": {},
   "outputs": [],
   "source": [
    "import os\n",
    "import pandas as pd\n",
    "from tqdm import tqdm\n",
    "import pickle\n",
    "import numpy as np\n",
    "from datasets import load_dataset, Dataset\n",
    "from eval_prompts import *\n",
    "from openai import OpenAI\n",
    "import time"
   ]
  },
  {
   "cell_type": "code",
   "execution_count": 2,
   "metadata": {},
   "outputs": [],
   "source": [
    "os.environ[\"CUDA_VISIBLE_DEVICES\"] = \"7\""
   ]
  },
  {
   "cell_type": "markdown",
   "metadata": {},
   "source": [
    "### Preparing the counsel chat dataset for evaluation"
   ]
  },
  {
   "cell_type": "code",
   "execution_count": null,
   "metadata": {},
   "outputs": [],
   "source": [
    "dataset = load_dataset(\"nbertagnolli/counsel-chat\")\n",
    "question_id, question_id_index = np.unique(dataset['train']['questionID'], return_index=True)\n",
    "dataset_length = len(dataset['train']['questionID'])\n",
    "question_id_index = list(question_id_index)\n",
    "question_id_index.append(dataset_length)"
   ]
  },
  {
   "cell_type": "code",
   "execution_count": 4,
   "metadata": {},
   "outputs": [],
   "source": [
    "questions = []\n",
    "preferred_answers = []\n",
    "rejected_answers = []\n",
    "\n",
    "for i in range(0, len(question_id_index)-1):\n",
    "    \n",
    "    index_val_first = int(question_id_index[i])\n",
    "    index_val_last = int(question_id_index[i+1]-1)\n",
    "    \n",
    "    questions.append(dataset[\"train\"][index_val_first]['questionTitle'])\n",
    "    preferred_answers.append(dataset[\"train\"][index_val_first]['answerText'])\n",
    "    rejected_answers.append(dataset[\"train\"][index_val_last]['answerText'])\n",
    "    \n",
    "\n",
    "counsel_data_pairs = {   \n",
    "                        'question': questions,\n",
    "                        'preferred_answer': preferred_answers,\n",
    "                        'rejected_answer': rejected_answers\n",
    "                    }\n",
    "\n",
    "counsel_dataset = Dataset.from_dict(counsel_data_pairs)"
   ]
  },
  {
   "cell_type": "code",
   "execution_count": null,
   "metadata": {},
   "outputs": [],
   "source": [
    "counsel_dataset"
   ]
  },
  {
   "cell_type": "markdown",
   "metadata": {},
   "source": [
    "### Setting up the API calls for GPT-4"
   ]
  },
  {
   "cell_type": "code",
   "execution_count": 6,
   "metadata": {},
   "outputs": [],
   "source": [
    "# Reading the OpenAI Key\n",
    "with open('../api.key', 'r') as file:\n",
    "    openai_api_key = file.read()\n",
    "    \n",
    "# Creating the client\n",
    "client = OpenAI(api_key=openai_api_key)\n",
    "\n",
    "# Setting up the chat format\n",
    "def setup_chat_prompt(system_prompt, user_prompt, user_input):\n",
    "    user_prompt = user_prompt.format(user_input=user_input)\n",
    "    \n",
    "    messages = [{\"role\": \"system\", \"content\": system_prompt},\n",
    "                {\"role\": \"user\", \"content\": user_prompt}]\n",
    "    \n",
    "    return messages\n",
    "\n",
    "# Getting the openai response\n",
    "def get_openai_response(messages, model=\"gpt-4\", temperature=0.7, max_tokens=5000, n=1, stop=None, cnt=5):\n",
    "    try:\n",
    "        output = client.chat.completions.create(\n",
    "            model=model,\n",
    "            messages=messages,\n",
    "            temperature=temperature,\n",
    "            max_tokens=max_tokens,\n",
    "            n=1,\n",
    "            stop=stop\n",
    "        )\n",
    "        \n",
    "        return output.choices[0].message.content\n",
    "    \n",
    "    except Exception as E:\n",
    "        print(E)\n",
    "        time.sleep(3*(5-cnt))\n",
    "        if cnt != 0:\n",
    "            return get_openai_response(messages, model=\"gpt-4\", temperature=0.7, max_tokens=5000, n=1, stop=None, cnt=cnt-1)\n",
    "        \n",
    "        print(\"bad text is \", messages)\n",
    "        raise Exception(\"GPT Error\")\n",
    "    \n",
    "def prompt_gpt(system_prompt, user_prompt, user_input):\n",
    "    \n",
    "    messages = setup_chat_prompt(system_prompt=system_prompt, user_prompt=user_prompt, user_input=user_input)\n",
    "    final_response = get_openai_response(messages = messages)\n",
    "    \n",
    "    return final_response"
   ]
  },
  {
   "cell_type": "code",
   "execution_count": null,
   "metadata": {},
   "outputs": [],
   "source": [
    "prompt_questions_list = []\n",
    "prompt_output_list = []\n",
    "\n",
    "for i in tqdm(range(0, len(counsel_dataset))):    \n",
    "    prompt_question = counsel_dataset[i]['question']\n",
    "    prompts_output = prompt_gpt(system_prompt=system_cot_prompt, user_prompt=user_cot_prompt, user_input=prompt_question)\n",
    "    \n",
    "    prompt_questions_list.append(prompt_question)\n",
    "    prompt_output_list.append(prompts_output)"
   ]
  },
  {
   "cell_type": "code",
   "execution_count": 9,
   "metadata": {},
   "outputs": [],
   "source": [
    "response_dict = {'counsel_chat_question': prompt_questions_list,\n",
    "                 'gpt4_response': prompt_output_list}\n",
    "\n",
    "response_df = pd.DataFrame(response_dict)\n",
    "\n",
    "with open('gpt4_response.pkl', 'wb') as file:\n",
    "    pickle.dump(response_df, file)"
   ]
  },
  {
   "cell_type": "code",
   "execution_count": null,
   "metadata": {},
   "outputs": [],
   "source": []
  },
  {
   "cell_type": "code",
   "execution_count": null,
   "metadata": {},
   "outputs": [],
   "source": []
  }
 ],
 "metadata": {
  "kernelspec": {
   "display_name": "mental-health",
   "language": "python",
   "name": "python3"
  },
  "language_info": {
   "codemirror_mode": {
    "name": "ipython",
    "version": 3
   },
   "file_extension": ".py",
   "mimetype": "text/x-python",
   "name": "python",
   "nbconvert_exporter": "python",
   "pygments_lexer": "ipython3",
   "version": "3.12.4"
  }
 },
 "nbformat": 4,
 "nbformat_minor": 2
}
